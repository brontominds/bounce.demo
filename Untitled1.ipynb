{
  "nbformat": 4,
  "nbformat_minor": 0,
  "metadata": {
    "colab": {
      "name": "Untitled1.ipynb",
      "version": "0.3.2",
      "provenance": [],
      "include_colab_link": true
    },
    "kernelspec": {
      "name": "python3",
      "display_name": "Python 3"
    }
  },
  "cells": [
    {
      "cell_type": "markdown",
      "metadata": {
        "id": "view-in-github",
        "colab_type": "text"
      },
      "source": [
        "<a href=\"https://colab.research.google.com/github/brontominds/bounce.demo/blob/Ver0.01a/Untitled1.ipynb\" target=\"_parent\"><img src=\"https://colab.research.google.com/assets/colab-badge.svg\" alt=\"Open In Colab\"/></a>"
      ]
    },
    {
      "cell_type": "code",
      "metadata": {
        "id": "m9NM0pXBg2xB",
        "colab_type": "code",
        "colab": {}
      },
      "source": [
        "import pandas as pd"
      ],
      "execution_count": 0,
      "outputs": []
    },
    {
      "cell_type": "code",
      "metadata": {
        "id": "OqSKUAUag7WT",
        "colab_type": "code",
        "colab": {}
      },
      "source": [
        "data=pd.read_csv(\"train.csv\")"
      ],
      "execution_count": 0,
      "outputs": []
    },
    {
      "cell_type": "code",
      "metadata": {
        "id": "lXmgJrVEht5K",
        "colab_type": "code",
        "colab": {}
      },
      "source": [
        "data.head()"
      ],
      "execution_count": 0,
      "outputs": []
    },
    {
      "cell_type": "code",
      "metadata": {
        "id": "vsdflM8xhwlh",
        "colab_type": "code",
        "colab": {}
      },
      "source": [
        "data.info()"
      ],
      "execution_count": 0,
      "outputs": []
    },
    {
      "cell_type": "code",
      "metadata": {
        "id": "3wb1CkwriAPR",
        "colab_type": "code",
        "colab": {}
      },
      "source": [
        "import matplotlib.pyplot as plt  # For plotting graphs \n",
        "from datetime import datetime    # To access datetime \n",
        "from pandas import Series        # To work on series \n",
        "%matplotlib inline"
      ],
      "execution_count": 0,
      "outputs": []
    },
    {
      "cell_type": "code",
      "metadata": {
        "id": "XjF4CWLliEf-",
        "colab_type": "code",
        "colab": {}
      },
      "source": [
        "data.dtypes"
      ],
      "execution_count": 0,
      "outputs": []
    },
    {
      "cell_type": "code",
      "metadata": {
        "id": "8Dvuy9IWiHGu",
        "colab_type": "code",
        "colab": {}
      },
      "source": [
        "data.shape"
      ],
      "execution_count": 0,
      "outputs": []
    },
    {
      "cell_type": "code",
      "metadata": {
        "id": "9Eigl-rciKfR",
        "colab_type": "code",
        "colab": {}
      },
      "source": [
        "data['datetime'] = pd.to_datetime(data['datetime'], errors='coerce')"
      ],
      "execution_count": 0,
      "outputs": []
    },
    {
      "cell_type": "code",
      "metadata": {
        "id": "fIKXIafAjJTg",
        "colab_type": "code",
        "colab": {}
      },
      "source": [
        "data['year'] = data['datetime'].dt.year \n",
        "#data['month'] = data['datetime'].dt.month \n",
        "data['day'] = data['datetime'].dt.day \n",
        "data['hour'] = data['datetime'].dt.hour "
      ],
      "execution_count": 0,
      "outputs": []
    },
    {
      "cell_type": "code",
      "metadata": {
        "id": "GDi8tYqujN6U",
        "colab_type": "code",
        "colab": {}
      },
      "source": [
        "data=data.drop('datetime',axis=1)"
      ],
      "execution_count": 0,
      "outputs": []
    },
    {
      "cell_type": "code",
      "metadata": {
        "id": "tIzyw5SijPnV",
        "colab_type": "code",
        "colab": {}
      },
      "source": [
        "def normalize(df,columns):\n",
        "    result=df.copy()\n",
        "    for feature_name in columns :\n",
        "        mean_value = df[feature_name].mean()\n",
        "        std_value = df[feature_name].std()\n",
        "        result[feature_name] = (df[feature_name] - mean_value) / std_value\n",
        "        \n",
        "    return result"
      ],
      "execution_count": 0,
      "outputs": []
    },
    {
      "cell_type": "code",
      "metadata": {
        "id": "TtgckOnAjSMd",
        "colab_type": "code",
        "colab": {}
      },
      "source": [
        "data=normalize(data,[\"temp\",\"atemp\",\"humidity\",\"windspeed\"])"
      ],
      "execution_count": 0,
      "outputs": []
    },
    {
      "cell_type": "code",
      "metadata": {
        "id": "sF4t_50cj3D3",
        "colab_type": "code",
        "colab": {}
      },
      "source": [
        "def dummy_data(data, columns):\n",
        "    for column in columns:\n",
        "        data = pd.concat([data, pd.get_dummies(data[column], prefix=column)], axis=1)\n",
        "        data = data.drop(column, axis=1)\n",
        "    return data"
      ],
      "execution_count": 0,
      "outputs": []
    },
    {
      "cell_type": "code",
      "metadata": {
        "id": "I8zxT9nxj7s4",
        "colab_type": "code",
        "colab": {}
      },
      "source": [
        "data = dummy_data(data, [\"season\",\"weather\",\"hour\"])"
      ],
      "execution_count": 0,
      "outputs": []
    },
    {
      "cell_type": "code",
      "metadata": {
        "id": "1iv_h-o5kvou",
        "colab_type": "code",
        "colab": {}
      },
      "source": [
        "data.head()"
      ],
      "execution_count": 0,
      "outputs": []
    },
    {
      "cell_type": "code",
      "metadata": {
        "id": "qLt4rVQqkwjj",
        "colab_type": "code",
        "colab": {}
      },
      "source": [
        "import numpy as np"
      ],
      "execution_count": 0,
      "outputs": []
    },
    {
      "cell_type": "code",
      "metadata": {
        "id": "ramfn2hnrt8J",
        "colab_type": "code",
        "colab": {}
      },
      "source": [
        "test=pd.read_csv(\"test.csv\")\n",
        "test_original=test.copy()"
      ],
      "execution_count": 0,
      "outputs": []
    },
    {
      "cell_type": "code",
      "metadata": {
        "id": "l80aC8S8sIPd",
        "colab_type": "code",
        "colab": {}
      },
      "source": [
        "test['datetime'] = pd.to_datetime(test['datetime'], errors='coerce')"
      ],
      "execution_count": 0,
      "outputs": []
    },
    {
      "cell_type": "code",
      "metadata": {
        "id": "LnECKos-sIaa",
        "colab_type": "code",
        "colab": {}
      },
      "source": [
        "test['year'] = test['datetime'].dt.year \n",
        "#test['month'] = test['datetime'].dt.month \n",
        "test['day'] = test['datetime'].dt.day \n",
        "test['hour'] = test['datetime'].dt.hour"
      ],
      "execution_count": 0,
      "outputs": []
    },
    {
      "cell_type": "code",
      "metadata": {
        "id": "_kwIlrTWsRoX",
        "colab_type": "code",
        "colab": {}
      },
      "source": [
        "test=test.drop('datetime',axis=1)"
      ],
      "execution_count": 0,
      "outputs": []
    },
    {
      "cell_type": "code",
      "metadata": {
        "id": "8GYhuUmjsWJU",
        "colab_type": "code",
        "colab": {}
      },
      "source": [
        "test=normalize(test,[\"temp\",\"atemp\",\"humidity\",\"windspeed\"])"
      ],
      "execution_count": 0,
      "outputs": []
    },
    {
      "cell_type": "code",
      "metadata": {
        "id": "_B7YOoEQsZ-j",
        "colab_type": "code",
        "colab": {}
      },
      "source": [
        "test = dummy_data(test, [\"season\",\"weather\",\"hour\"])"
      ],
      "execution_count": 0,
      "outputs": []
    },
    {
      "cell_type": "code",
      "metadata": {
        "id": "4p1xREgflFo5",
        "colab_type": "code",
        "colab": {}
      },
      "source": [
        "\n",
        "def split_valid_test_data(data, fraction=0.2):\n",
        "    data_y = data[\"count\"]\n",
        "    \n",
        "    \n",
        "\n",
        "    data_x = data.drop([\"count\",\"casual\",\"registered\"], axis=1)\n",
        "\n",
        "    \n",
        "\n",
        "    return data_x.values, data_y\n",
        "\n",
        "data_x, data_y = split_valid_test_data(data)"
      ],
      "execution_count": 0,
      "outputs": []
    },
    {
      "cell_type": "code",
      "metadata": {
        "id": "0K5vhtQVlHcu",
        "colab_type": "code",
        "colab": {}
      },
      "source": [
        "X_train, X_test, y_train, y_test = train_test_split(data_x, data_y, test_size=0.4, random_state=101)"
      ],
      "execution_count": 0,
      "outputs": []
    },
    {
      "cell_type": "code",
      "metadata": {
        "id": "MJEpW9gaomhR",
        "colab_type": "code",
        "colab": {}
      },
      "source": [
        "from sklearn.model_selection import StratifiedKFold\n"
      ],
      "execution_count": 0,
      "outputs": []
    },
    {
      "cell_type": "code",
      "metadata": {
        "id": "XDYB8d00ovGI",
        "colab_type": "code",
        "colab": {}
      },
      "source": [
        "i=1\n",
        "kf = StratifiedKFold(n_splits=5,random_state=1,shuffle=True)\n",
        "for train_index,test_index in kf.split(data_x, data_y):\n",
        "  print('\\n{} of kfold {}'.format(i,kf.n_splits))\n",
        "  xtr,xvl = X.loc[train_index],X.loc[test_index]\n",
        "  ytr,yvl = y[train_index],y[test_index]\n",
        "  model = LogisticRegression(random_state=1)\n",
        "  model.fit(xtr, ytr)\n",
        "  pred_test = model.predict(xvl)\n",
        "  score = accuracy_score(yvl,pred_test)\n",
        "  print('accuracy_score',score)\n",
        "  i+=1\n",
        "  pred_test = model.predict(test)\n",
        "  pred=model.predict_proba(xvl)[:,1]"
      ],
      "execution_count": 0,
      "outputs": []
    },
    {
      "cell_type": "code",
      "metadata": {
        "id": "87gyo1V1k0Qn",
        "colab_type": "code",
        "colab": {}
      },
      "source": [
        ""
      ],
      "execution_count": 0,
      "outputs": []
    }
  ]
}
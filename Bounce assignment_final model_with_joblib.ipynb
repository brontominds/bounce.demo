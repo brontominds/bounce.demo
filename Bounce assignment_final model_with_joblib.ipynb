{
  "nbformat": 4,
  "nbformat_minor": 0,
  "metadata": {
    "colab": {
      "name": "Bounce assignment.ipynb",
      "version": "0.3.2",
      "provenance": []
    },
    "language_info": {
      "codemirror_mode": {
        "name": "ipython",
        "version": 3
      },
      "file_extension": ".py",
      "mimetype": "text/x-python",
      "name": "python",
      "nbconvert_exporter": "python",
      "pygments_lexer": "ipython3",
      "version": "3.5.6"
    },
    "kernelspec": {
      "display_name": "Python 3",
      "language": "python",
      "name": "python3"
    }
  },
  "cells": [
    {
      "cell_type": "code",
      "metadata": {
        "id": "5ZEEVSOgK832",
        "colab_type": "code",
        "colab": {}
      },
      "source": [
        "import pandas as pd\n",
        "from sklearn.utils import shuffle\n"
      ],
      "execution_count": 0,
      "outputs": []
    },
    {
      "cell_type": "code",
      "metadata": {
        "id": "3sYJZlH4K838",
        "colab_type": "code",
        "colab": {}
      },
      "source": [
        "data=pd.read_csv(\"train.csv\")#Making it Relative Path -Mayank\n",
        "data_ori=data.copy()\n"
      ],
      "execution_count": 0,
      "outputs": []
    },
    {
      "cell_type": "code",
      "metadata": {
        "id": "ui8fp5T1YCb-",
        "colab_type": "code",
        "colab": {}
      },
      "source": [
        "data_real_ori = data.copy()"
      ],
      "execution_count": 0,
      "outputs": []
    },
    {
      "cell_type": "code",
      "metadata": {
        "id": "FI_2XM_8K84O",
        "colab_type": "code",
        "colab": {}
      },
      "source": [
        "import matplotlib.pyplot as plt  # For plotting graphs \n",
        "from datetime import datetime    # To access datetime \n",
        "        \n",
        "%matplotlib inline"
      ],
      "execution_count": 0,
      "outputs": []
    },
    {
      "cell_type": "code",
      "metadata": {
        "id": "U0rFQKlNK84R",
        "colab_type": "code",
        "outputId": "8504fbc4-3bac-4268-daf4-e6231e836e05",
        "colab": {
          "base_uri": "https://localhost:8080/",
          "height": 248
        }
      },
      "source": [
        "data.dtypes"
      ],
      "execution_count": 100,
      "outputs": [
        {
          "output_type": "execute_result",
          "data": {
            "text/plain": [
              "datetime       object\n",
              "season          int64\n",
              "holiday         int64\n",
              "workingday      int64\n",
              "weather         int64\n",
              "temp          float64\n",
              "atemp         float64\n",
              "humidity        int64\n",
              "windspeed     float64\n",
              "casual          int64\n",
              "registered      int64\n",
              "count           int64\n",
              "dtype: object"
            ]
          },
          "metadata": {
            "tags": []
          },
          "execution_count": 100
        }
      ]
    },
    {
      "cell_type": "code",
      "metadata": {
        "id": "M0fecmeUK84a",
        "colab_type": "code",
        "colab": {}
      },
      "source": [
        "def datetime(df):\n",
        "  from datetime import datetime\n",
        "  df['datetime'] = pd.to_datetime(df['datetime'])\n",
        "  df['year'] = df['datetime'].dt.year \n",
        "  #df['day'] = df['datetime'].dt.day \n",
        "  df['hour'] = df['datetime'].dt.hour\n",
        "  #df['date'] = df['datetime'].dt.date\n",
        "  df['Day of Week'] = df['datetime'].apply(lambda time: time.dayofweek)\n",
        "  return df"
      ],
      "execution_count": 0,
      "outputs": []
    },
    {
      "cell_type": "code",
      "metadata": {
        "id": "7OTEUbHbsPEe",
        "colab_type": "code",
        "colab": {}
      },
      "source": [
        "data_ori=datetime(data_ori)"
      ],
      "execution_count": 0,
      "outputs": []
    },
    {
      "cell_type": "code",
      "metadata": {
        "id": "JjQ9TCf-K84o",
        "colab_type": "code",
        "colab": {}
      },
      "source": [
        "data_ori=data_ori.drop('datetime',axis=1)\n"
      ],
      "execution_count": 0,
      "outputs": []
    },
    {
      "cell_type": "code",
      "metadata": {
        "id": "CiRKuYmoK84u",
        "colab_type": "code",
        "colab": {}
      },
      "source": [
        "def normalize(df,columns):\n",
        "    result=df.copy()\n",
        "    for feature_name in columns :\n",
        "        mean_value = df[feature_name].mean()\n",
        "        std_value = df[feature_name].std()\n",
        "        result[feature_name] = (df[feature_name] - mean_value) / std_value\n",
        "        \n",
        "    return (result, mean_value, std_value)"
      ],
      "execution_count": 0,
      "outputs": []
    },
    {
      "cell_type": "code",
      "metadata": {
        "id": "mUmnbJC1K84y",
        "colab_type": "code",
        "colab": {}
      },
      "source": [
        "data_ori, mean_temp, sd_temp=normalize(data_ori,[\"temp\"])\n",
        "data_ori,mean_atemp,sd_atemp=normalize(data_ori,[\"atemp\"])\n",
        "data_ori,mean_humidity,sd_humidity=normalize(data_ori,[\"humidity\"])\n",
        "data_ori,mean_windspeed,sd_windspeed=normalize(data_ori,[\"windspeed\"])\n",
        "\n"
      ],
      "execution_count": 0,
      "outputs": []
    },
    {
      "cell_type": "code",
      "metadata": {
        "id": "SM2_VZLVVCjk",
        "colab_type": "code",
        "colab": {
          "base_uri": "https://localhost:8080/",
          "height": 194
        },
        "outputId": "3b3d0401-d9b3-4df1-b865-2ac2c6e27a35"
      },
      "source": [
        "data_ori.head()"
      ],
      "execution_count": 106,
      "outputs": [
        {
          "output_type": "execute_result",
          "data": {
            "text/html": [
              "<div>\n",
              "<style scoped>\n",
              "    .dataframe tbody tr th:only-of-type {\n",
              "        vertical-align: middle;\n",
              "    }\n",
              "\n",
              "    .dataframe tbody tr th {\n",
              "        vertical-align: top;\n",
              "    }\n",
              "\n",
              "    .dataframe thead th {\n",
              "        text-align: right;\n",
              "    }\n",
              "</style>\n",
              "<table border=\"1\" class=\"dataframe\">\n",
              "  <thead>\n",
              "    <tr style=\"text-align: right;\">\n",
              "      <th></th>\n",
              "      <th>season</th>\n",
              "      <th>holiday</th>\n",
              "      <th>workingday</th>\n",
              "      <th>weather</th>\n",
              "      <th>temp</th>\n",
              "      <th>atemp</th>\n",
              "      <th>humidity</th>\n",
              "      <th>windspeed</th>\n",
              "      <th>casual</th>\n",
              "      <th>registered</th>\n",
              "      <th>count</th>\n",
              "      <th>year</th>\n",
              "      <th>hour</th>\n",
              "      <th>Day of Week</th>\n",
              "    </tr>\n",
              "  </thead>\n",
              "  <tbody>\n",
              "    <tr>\n",
              "      <th>0</th>\n",
              "      <td>1</td>\n",
              "      <td>0</td>\n",
              "      <td>0</td>\n",
              "      <td>1</td>\n",
              "      <td>-1.333599</td>\n",
              "      <td>-1.092687</td>\n",
              "      <td>0.993167</td>\n",
              "      <td>-1.567682</td>\n",
              "      <td>3</td>\n",
              "      <td>13</td>\n",
              "      <td>16</td>\n",
              "      <td>2011</td>\n",
              "      <td>0</td>\n",
              "      <td>5</td>\n",
              "    </tr>\n",
              "    <tr>\n",
              "      <th>1</th>\n",
              "      <td>1</td>\n",
              "      <td>0</td>\n",
              "      <td>0</td>\n",
              "      <td>1</td>\n",
              "      <td>-1.438841</td>\n",
              "      <td>-1.182367</td>\n",
              "      <td>0.941206</td>\n",
              "      <td>-1.567682</td>\n",
              "      <td>8</td>\n",
              "      <td>32</td>\n",
              "      <td>40</td>\n",
              "      <td>2011</td>\n",
              "      <td>1</td>\n",
              "      <td>5</td>\n",
              "    </tr>\n",
              "    <tr>\n",
              "      <th>2</th>\n",
              "      <td>1</td>\n",
              "      <td>0</td>\n",
              "      <td>0</td>\n",
              "      <td>1</td>\n",
              "      <td>-1.438841</td>\n",
              "      <td>-1.182367</td>\n",
              "      <td>0.941206</td>\n",
              "      <td>-1.567682</td>\n",
              "      <td>5</td>\n",
              "      <td>27</td>\n",
              "      <td>32</td>\n",
              "      <td>2011</td>\n",
              "      <td>2</td>\n",
              "      <td>5</td>\n",
              "    </tr>\n",
              "    <tr>\n",
              "      <th>3</th>\n",
              "      <td>1</td>\n",
              "      <td>0</td>\n",
              "      <td>0</td>\n",
              "      <td>1</td>\n",
              "      <td>-1.333599</td>\n",
              "      <td>-1.092687</td>\n",
              "      <td>0.681399</td>\n",
              "      <td>-1.567682</td>\n",
              "      <td>3</td>\n",
              "      <td>10</td>\n",
              "      <td>13</td>\n",
              "      <td>2011</td>\n",
              "      <td>3</td>\n",
              "      <td>5</td>\n",
              "    </tr>\n",
              "    <tr>\n",
              "      <th>4</th>\n",
              "      <td>1</td>\n",
              "      <td>0</td>\n",
              "      <td>0</td>\n",
              "      <td>1</td>\n",
              "      <td>-1.333599</td>\n",
              "      <td>-1.092687</td>\n",
              "      <td>0.681399</td>\n",
              "      <td>-1.567682</td>\n",
              "      <td>0</td>\n",
              "      <td>1</td>\n",
              "      <td>1</td>\n",
              "      <td>2011</td>\n",
              "      <td>4</td>\n",
              "      <td>5</td>\n",
              "    </tr>\n",
              "  </tbody>\n",
              "</table>\n",
              "</div>"
            ],
            "text/plain": [
              "   season  holiday  workingday  weather  ...  count  year  hour  Day of Week\n",
              "0       1        0           0        1  ...     16  2011     0            5\n",
              "1       1        0           0        1  ...     40  2011     1            5\n",
              "2       1        0           0        1  ...     32  2011     2            5\n",
              "3       1        0           0        1  ...     13  2011     3            5\n",
              "4       1        0           0        1  ...      1  2011     4            5\n",
              "\n",
              "[5 rows x 14 columns]"
            ]
          },
          "metadata": {
            "tags": []
          },
          "execution_count": 106
        }
      ]
    },
    {
      "cell_type": "code",
      "metadata": {
        "id": "3X6XePtST5sx",
        "colab_type": "code",
        "colab": {}
      },
      "source": [
        "data_ori, mean_temp, sd_temp=normalize(data_ori,[\"temp\"])\n"
      ],
      "execution_count": 0,
      "outputs": []
    },
    {
      "cell_type": "code",
      "metadata": {
        "id": "QQwK5-dvUZNd",
        "colab_type": "code",
        "colab": {
          "base_uri": "https://localhost:8080/",
          "height": 88
        },
        "outputId": "e21d0937-5e28-4c9c-8155-8965677ead50"
      },
      "source": [
        "mean_temp, mean_humidity, mean_windspeed, mean_atemp"
      ],
      "execution_count": 108,
      "outputs": [
        {
          "output_type": "execute_result",
          "data": {
            "text/plain": [
              "(1.1189428545540056e-14,\n",
              " 61.88645967297446,\n",
              " 12.799395406945093,\n",
              " 23.65508405291192)"
            ]
          },
          "metadata": {
            "tags": []
          },
          "execution_count": 108
        }
      ]
    },
    {
      "cell_type": "code",
      "metadata": {
        "id": "N_dwhFrCUbhJ",
        "colab_type": "code",
        "colab": {
          "base_uri": "https://localhost:8080/",
          "height": 35
        },
        "outputId": "a3b778dd-f08b-41c9-f061-da383e24013f"
      },
      "source": [
        "sd_temp, sd_humidity, sd_windspeed, sd_atemp"
      ],
      "execution_count": 109,
      "outputs": [
        {
          "output_type": "execute_result",
          "data": {
            "text/plain": [
              "(1.000000000000019, 19.245033277394786, 8.16453732683849, 8.474600626484888)"
            ]
          },
          "metadata": {
            "tags": []
          },
          "execution_count": 109
        }
      ]
    },
    {
      "cell_type": "code",
      "metadata": {
        "id": "XiwmWFk4K841",
        "colab_type": "code",
        "colab": {}
      },
      "source": [
        "\n",
        "\n",
        "\n",
        "def dummy_data(data, columns):\n",
        "    for column in columns:\n",
        "        data = pd.concat([data, pd.get_dummies(data[column], prefix=column)], axis=1)\n",
        "        data = data.drop(column, axis=1)\n",
        "    return data\n",
        "\n"
      ],
      "execution_count": 0,
      "outputs": []
    },
    {
      "cell_type": "code",
      "metadata": {
        "id": "zBUVFRXWK844",
        "colab_type": "code",
        "colab": {}
      },
      "source": [
        "\n",
        "\n",
        "data_ori = dummy_data(data_ori, [\"season\",\"weather\",\"hour\"])\n",
        "\n"
      ],
      "execution_count": 0,
      "outputs": []
    },
    {
      "cell_type": "code",
      "metadata": {
        "id": "Eav06alHs93O",
        "colab_type": "code",
        "outputId": "02e721c0-dfd3-44ef-ef5d-fe6eb8ad8a2f",
        "colab": {
          "base_uri": "https://localhost:8080/",
          "height": 799
        }
      },
      "source": [
        "data_ori.dtypes"
      ],
      "execution_count": 113,
      "outputs": [
        {
          "output_type": "execute_result",
          "data": {
            "text/plain": [
              "holiday          int64\n",
              "workingday       int64\n",
              "temp           float64\n",
              "atemp          float64\n",
              "humidity       float64\n",
              "windspeed      float64\n",
              "casual           int64\n",
              "registered       int64\n",
              "count            int64\n",
              "year             int64\n",
              "Day of Week      int64\n",
              "season_1         uint8\n",
              "season_2         uint8\n",
              "season_3         uint8\n",
              "season_4         uint8\n",
              "weather_1        uint8\n",
              "weather_2        uint8\n",
              "weather_3        uint8\n",
              "weather_4        uint8\n",
              "hour_0           uint8\n",
              "hour_1           uint8\n",
              "hour_2           uint8\n",
              "hour_3           uint8\n",
              "hour_4           uint8\n",
              "hour_5           uint8\n",
              "hour_6           uint8\n",
              "hour_7           uint8\n",
              "hour_8           uint8\n",
              "hour_9           uint8\n",
              "hour_10          uint8\n",
              "hour_11          uint8\n",
              "hour_12          uint8\n",
              "hour_13          uint8\n",
              "hour_14          uint8\n",
              "hour_15          uint8\n",
              "hour_16          uint8\n",
              "hour_17          uint8\n",
              "hour_18          uint8\n",
              "hour_19          uint8\n",
              "hour_20          uint8\n",
              "hour_21          uint8\n",
              "hour_22          uint8\n",
              "hour_23          uint8\n",
              "dtype: object"
            ]
          },
          "metadata": {
            "tags": []
          },
          "execution_count": 113
        }
      ]
    },
    {
      "cell_type": "code",
      "metadata": {
        "id": "RF-9cOlosoN8",
        "colab_type": "code",
        "colab": {}
      },
      "source": [
        "\n",
        "data=shuffle(data_ori,random_state=1)\n",
        "nrows = len(data_ori)\n",
        "training_validation_rows = int(nrows*0.8)\n",
        "data=data_ori[0:training_validation_rows-1]\n",
        "test1=data_ori[training_validation_rows:]"
      ],
      "execution_count": 0,
      "outputs": []
    },
    {
      "cell_type": "code",
      "metadata": {
        "id": "kaBDZjAOtFwJ",
        "colab_type": "code",
        "outputId": "dc94a4e3-baf4-439c-ddc8-1824c25eeab9",
        "colab": {
          "base_uri": "https://localhost:8080/",
          "height": 35
        }
      },
      "source": [
        "data.shape"
      ],
      "execution_count": 51,
      "outputs": [
        {
          "output_type": "execute_result",
          "data": {
            "text/plain": [
              "(8707, 43)"
            ]
          },
          "metadata": {
            "tags": []
          },
          "execution_count": 51
        }
      ]
    },
    {
      "cell_type": "code",
      "metadata": {
        "id": "IxM2BslEtJLV",
        "colab_type": "code",
        "outputId": "ae2a9c67-9ab7-4aaa-8723-54f8dd10d23f",
        "colab": {
          "base_uri": "https://localhost:8080/",
          "height": 35
        }
      },
      "source": [
        "test1.shape"
      ],
      "execution_count": 52,
      "outputs": [
        {
          "output_type": "execute_result",
          "data": {
            "text/plain": [
              "(2178, 43)"
            ]
          },
          "metadata": {
            "tags": []
          },
          "execution_count": 52
        }
      ]
    },
    {
      "cell_type": "code",
      "metadata": {
        "id": "x_wb1PDcK86B",
        "colab_type": "code",
        "outputId": "5a54dc2f-7bb3-418c-abf5-f7d1d2593b62",
        "colab": {
          "base_uri": "https://localhost:8080/",
          "height": 248
        }
      },
      "source": [
        "data.head()"
      ],
      "execution_count": 54,
      "outputs": [
        {
          "output_type": "execute_result",
          "data": {
            "text/html": [
              "<div>\n",
              "<style scoped>\n",
              "    .dataframe tbody tr th:only-of-type {\n",
              "        vertical-align: middle;\n",
              "    }\n",
              "\n",
              "    .dataframe tbody tr th {\n",
              "        vertical-align: top;\n",
              "    }\n",
              "\n",
              "    .dataframe thead th {\n",
              "        text-align: right;\n",
              "    }\n",
              "</style>\n",
              "<table border=\"1\" class=\"dataframe\">\n",
              "  <thead>\n",
              "    <tr style=\"text-align: right;\">\n",
              "      <th></th>\n",
              "      <th>holiday</th>\n",
              "      <th>workingday</th>\n",
              "      <th>temp</th>\n",
              "      <th>atemp</th>\n",
              "      <th>humidity</th>\n",
              "      <th>windspeed</th>\n",
              "      <th>casual</th>\n",
              "      <th>registered</th>\n",
              "      <th>count</th>\n",
              "      <th>year</th>\n",
              "      <th>Day of Week</th>\n",
              "      <th>season_1</th>\n",
              "      <th>season_2</th>\n",
              "      <th>season_3</th>\n",
              "      <th>season_4</th>\n",
              "      <th>weather_1</th>\n",
              "      <th>weather_2</th>\n",
              "      <th>weather_3</th>\n",
              "      <th>weather_4</th>\n",
              "      <th>hour_0</th>\n",
              "      <th>hour_1</th>\n",
              "      <th>hour_2</th>\n",
              "      <th>hour_3</th>\n",
              "      <th>hour_4</th>\n",
              "      <th>hour_5</th>\n",
              "      <th>hour_6</th>\n",
              "      <th>hour_7</th>\n",
              "      <th>hour_8</th>\n",
              "      <th>hour_9</th>\n",
              "      <th>hour_10</th>\n",
              "      <th>hour_11</th>\n",
              "      <th>hour_12</th>\n",
              "      <th>hour_13</th>\n",
              "      <th>hour_14</th>\n",
              "      <th>hour_15</th>\n",
              "      <th>hour_16</th>\n",
              "      <th>hour_17</th>\n",
              "      <th>hour_18</th>\n",
              "      <th>hour_19</th>\n",
              "      <th>hour_20</th>\n",
              "      <th>hour_21</th>\n",
              "      <th>hour_22</th>\n",
              "      <th>hour_23</th>\n",
              "    </tr>\n",
              "  </thead>\n",
              "  <tbody>\n",
              "    <tr>\n",
              "      <th>0</th>\n",
              "      <td>0</td>\n",
              "      <td>0</td>\n",
              "      <td>-1.333599</td>\n",
              "      <td>-1.092687</td>\n",
              "      <td>0.993167</td>\n",
              "      <td>-1.567682</td>\n",
              "      <td>3</td>\n",
              "      <td>13</td>\n",
              "      <td>16</td>\n",
              "      <td>2011</td>\n",
              "      <td>5</td>\n",
              "      <td>1</td>\n",
              "      <td>0</td>\n",
              "      <td>0</td>\n",
              "      <td>0</td>\n",
              "      <td>1</td>\n",
              "      <td>0</td>\n",
              "      <td>0</td>\n",
              "      <td>0</td>\n",
              "      <td>1</td>\n",
              "      <td>0</td>\n",
              "      <td>0</td>\n",
              "      <td>0</td>\n",
              "      <td>0</td>\n",
              "      <td>0</td>\n",
              "      <td>0</td>\n",
              "      <td>0</td>\n",
              "      <td>0</td>\n",
              "      <td>0</td>\n",
              "      <td>0</td>\n",
              "      <td>0</td>\n",
              "      <td>0</td>\n",
              "      <td>0</td>\n",
              "      <td>0</td>\n",
              "      <td>0</td>\n",
              "      <td>0</td>\n",
              "      <td>0</td>\n",
              "      <td>0</td>\n",
              "      <td>0</td>\n",
              "      <td>0</td>\n",
              "      <td>0</td>\n",
              "      <td>0</td>\n",
              "      <td>0</td>\n",
              "    </tr>\n",
              "    <tr>\n",
              "      <th>1</th>\n",
              "      <td>0</td>\n",
              "      <td>0</td>\n",
              "      <td>-1.438841</td>\n",
              "      <td>-1.182367</td>\n",
              "      <td>0.941206</td>\n",
              "      <td>-1.567682</td>\n",
              "      <td>8</td>\n",
              "      <td>32</td>\n",
              "      <td>40</td>\n",
              "      <td>2011</td>\n",
              "      <td>5</td>\n",
              "      <td>1</td>\n",
              "      <td>0</td>\n",
              "      <td>0</td>\n",
              "      <td>0</td>\n",
              "      <td>1</td>\n",
              "      <td>0</td>\n",
              "      <td>0</td>\n",
              "      <td>0</td>\n",
              "      <td>0</td>\n",
              "      <td>1</td>\n",
              "      <td>0</td>\n",
              "      <td>0</td>\n",
              "      <td>0</td>\n",
              "      <td>0</td>\n",
              "      <td>0</td>\n",
              "      <td>0</td>\n",
              "      <td>0</td>\n",
              "      <td>0</td>\n",
              "      <td>0</td>\n",
              "      <td>0</td>\n",
              "      <td>0</td>\n",
              "      <td>0</td>\n",
              "      <td>0</td>\n",
              "      <td>0</td>\n",
              "      <td>0</td>\n",
              "      <td>0</td>\n",
              "      <td>0</td>\n",
              "      <td>0</td>\n",
              "      <td>0</td>\n",
              "      <td>0</td>\n",
              "      <td>0</td>\n",
              "      <td>0</td>\n",
              "    </tr>\n",
              "    <tr>\n",
              "      <th>2</th>\n",
              "      <td>0</td>\n",
              "      <td>0</td>\n",
              "      <td>-1.438841</td>\n",
              "      <td>-1.182367</td>\n",
              "      <td>0.941206</td>\n",
              "      <td>-1.567682</td>\n",
              "      <td>5</td>\n",
              "      <td>27</td>\n",
              "      <td>32</td>\n",
              "      <td>2011</td>\n",
              "      <td>5</td>\n",
              "      <td>1</td>\n",
              "      <td>0</td>\n",
              "      <td>0</td>\n",
              "      <td>0</td>\n",
              "      <td>1</td>\n",
              "      <td>0</td>\n",
              "      <td>0</td>\n",
              "      <td>0</td>\n",
              "      <td>0</td>\n",
              "      <td>0</td>\n",
              "      <td>1</td>\n",
              "      <td>0</td>\n",
              "      <td>0</td>\n",
              "      <td>0</td>\n",
              "      <td>0</td>\n",
              "      <td>0</td>\n",
              "      <td>0</td>\n",
              "      <td>0</td>\n",
              "      <td>0</td>\n",
              "      <td>0</td>\n",
              "      <td>0</td>\n",
              "      <td>0</td>\n",
              "      <td>0</td>\n",
              "      <td>0</td>\n",
              "      <td>0</td>\n",
              "      <td>0</td>\n",
              "      <td>0</td>\n",
              "      <td>0</td>\n",
              "      <td>0</td>\n",
              "      <td>0</td>\n",
              "      <td>0</td>\n",
              "      <td>0</td>\n",
              "    </tr>\n",
              "    <tr>\n",
              "      <th>3</th>\n",
              "      <td>0</td>\n",
              "      <td>0</td>\n",
              "      <td>-1.333599</td>\n",
              "      <td>-1.092687</td>\n",
              "      <td>0.681399</td>\n",
              "      <td>-1.567682</td>\n",
              "      <td>3</td>\n",
              "      <td>10</td>\n",
              "      <td>13</td>\n",
              "      <td>2011</td>\n",
              "      <td>5</td>\n",
              "      <td>1</td>\n",
              "      <td>0</td>\n",
              "      <td>0</td>\n",
              "      <td>0</td>\n",
              "      <td>1</td>\n",
              "      <td>0</td>\n",
              "      <td>0</td>\n",
              "      <td>0</td>\n",
              "      <td>0</td>\n",
              "      <td>0</td>\n",
              "      <td>0</td>\n",
              "      <td>1</td>\n",
              "      <td>0</td>\n",
              "      <td>0</td>\n",
              "      <td>0</td>\n",
              "      <td>0</td>\n",
              "      <td>0</td>\n",
              "      <td>0</td>\n",
              "      <td>0</td>\n",
              "      <td>0</td>\n",
              "      <td>0</td>\n",
              "      <td>0</td>\n",
              "      <td>0</td>\n",
              "      <td>0</td>\n",
              "      <td>0</td>\n",
              "      <td>0</td>\n",
              "      <td>0</td>\n",
              "      <td>0</td>\n",
              "      <td>0</td>\n",
              "      <td>0</td>\n",
              "      <td>0</td>\n",
              "      <td>0</td>\n",
              "    </tr>\n",
              "    <tr>\n",
              "      <th>4</th>\n",
              "      <td>0</td>\n",
              "      <td>0</td>\n",
              "      <td>-1.333599</td>\n",
              "      <td>-1.092687</td>\n",
              "      <td>0.681399</td>\n",
              "      <td>-1.567682</td>\n",
              "      <td>0</td>\n",
              "      <td>1</td>\n",
              "      <td>1</td>\n",
              "      <td>2011</td>\n",
              "      <td>5</td>\n",
              "      <td>1</td>\n",
              "      <td>0</td>\n",
              "      <td>0</td>\n",
              "      <td>0</td>\n",
              "      <td>1</td>\n",
              "      <td>0</td>\n",
              "      <td>0</td>\n",
              "      <td>0</td>\n",
              "      <td>0</td>\n",
              "      <td>0</td>\n",
              "      <td>0</td>\n",
              "      <td>0</td>\n",
              "      <td>1</td>\n",
              "      <td>0</td>\n",
              "      <td>0</td>\n",
              "      <td>0</td>\n",
              "      <td>0</td>\n",
              "      <td>0</td>\n",
              "      <td>0</td>\n",
              "      <td>0</td>\n",
              "      <td>0</td>\n",
              "      <td>0</td>\n",
              "      <td>0</td>\n",
              "      <td>0</td>\n",
              "      <td>0</td>\n",
              "      <td>0</td>\n",
              "      <td>0</td>\n",
              "      <td>0</td>\n",
              "      <td>0</td>\n",
              "      <td>0</td>\n",
              "      <td>0</td>\n",
              "      <td>0</td>\n",
              "    </tr>\n",
              "  </tbody>\n",
              "</table>\n",
              "</div>"
            ],
            "text/plain": [
              "   holiday  workingday      temp     atemp  ...  hour_20  hour_21  hour_22  hour_23\n",
              "0        0           0 -1.333599 -1.092687  ...        0        0        0        0\n",
              "1        0           0 -1.438841 -1.182367  ...        0        0        0        0\n",
              "2        0           0 -1.438841 -1.182367  ...        0        0        0        0\n",
              "3        0           0 -1.333599 -1.092687  ...        0        0        0        0\n",
              "4        0           0 -1.333599 -1.092687  ...        0        0        0        0\n",
              "\n",
              "[5 rows x 43 columns]"
            ]
          },
          "metadata": {
            "tags": []
          },
          "execution_count": 54
        }
      ]
    },
    {
      "cell_type": "code",
      "metadata": {
        "id": "mczpJy_yK86F",
        "colab_type": "code",
        "colab": {}
      },
      "source": [
        "\n",
        "def split_valid_test_data(data, fraction=0.2):\n",
        "    data_y = data[\"count\"]\n",
        "    \n",
        "    \n",
        "\n",
        "    data_x = data.drop([\"count\",\"casual\",\"registered\"], axis=1)\n",
        "\n",
        "    \n",
        "\n",
        "    return data_x.values, data_y\n",
        "\n",
        "data_x, data_y = split_valid_test_data(data)\n"
      ],
      "execution_count": 0,
      "outputs": []
    },
    {
      "cell_type": "code",
      "metadata": {
        "id": "kowZa177aeTJ",
        "colab_type": "code",
        "outputId": "72947195-1e06-4cc3-9caa-e9cc017131e5",
        "colab": {
          "base_uri": "https://localhost:8080/",
          "height": 35
        }
      },
      "source": [
        "data_x.shape"
      ],
      "execution_count": 56,
      "outputs": [
        {
          "output_type": "execute_result",
          "data": {
            "text/plain": [
              "(8707, 40)"
            ]
          },
          "metadata": {
            "tags": []
          },
          "execution_count": 56
        }
      ]
    },
    {
      "cell_type": "code",
      "metadata": {
        "id": "FBgodLQRair-",
        "colab_type": "code",
        "outputId": "6f94fe9e-a26e-45e3-f252-a42e2eed40cd",
        "colab": {
          "base_uri": "https://localhost:8080/",
          "height": 177
        }
      },
      "source": [
        "data.columns"
      ],
      "execution_count": 57,
      "outputs": [
        {
          "output_type": "execute_result",
          "data": {
            "text/plain": [
              "Index(['holiday', 'workingday', 'temp', 'atemp', 'humidity', 'windspeed',\n",
              "       'casual', 'registered', 'count', 'year', 'Day of Week', 'season_1',\n",
              "       'season_2', 'season_3', 'season_4', 'weather_1', 'weather_2',\n",
              "       'weather_3', 'weather_4', 'hour_0', 'hour_1', 'hour_2', 'hour_3',\n",
              "       'hour_4', 'hour_5', 'hour_6', 'hour_7', 'hour_8', 'hour_9', 'hour_10',\n",
              "       'hour_11', 'hour_12', 'hour_13', 'hour_14', 'hour_15', 'hour_16',\n",
              "       'hour_17', 'hour_18', 'hour_19', 'hour_20', 'hour_21', 'hour_22',\n",
              "       'hour_23'],\n",
              "      dtype='object')"
            ]
          },
          "metadata": {
            "tags": []
          },
          "execution_count": 57
        }
      ]
    },
    {
      "cell_type": "code",
      "metadata": {
        "id": "izV0895EK86J",
        "colab_type": "code",
        "colab": {}
      },
      "source": [
        "from keras.models import Sequential\n",
        "from keras.layers import Dense, Activation\n",
        "from keras.callbacks import ModelCheckpoint,EarlyStopping\n",
        "from keras.optimizers import Adam,SGD,RMSprop,Adagrad"
      ],
      "execution_count": 0,
      "outputs": []
    },
    {
      "cell_type": "code",
      "metadata": {
        "id": "4l4ukWSbYVnw",
        "colab_type": "code",
        "colab": {}
      },
      "source": [
        "\n",
        "  \n",
        "adam = Adam(lr=1e-3, decay=1e-3 / 200)\n",
        " \n",
        "from keras import backend\n",
        " \n",
        "def rmse(y_true, y_pred):\n",
        "\treturn backend.sqrt(backend.mean(backend.square(y_pred - y_true), axis=-1))\n",
        "  \n",
        "  \n",
        "    \n",
        "   "
      ],
      "execution_count": 0,
      "outputs": []
    },
    {
      "cell_type": "code",
      "metadata": {
        "id": "qbp9zdiBK86S",
        "colab_type": "code",
        "outputId": "b8b6eaf4-cddb-45b1-eefd-0c7e4712e67d",
        "colab": {
          "base_uri": "https://localhost:8080/",
          "height": 319
        }
      },
      "source": [
        "NN_model = Sequential()\n",
        "\n",
        "# The Input Layer :\n",
        "NN_model.add(Dense(128, kernel_initializer='normal',input_dim = data_x.shape[1], activation='relu'))\n",
        "\n",
        "# The Hidden Layers :\n",
        "NN_model.add(Dense(256, kernel_initializer='normal',activation='relu'))\n",
        "NN_model.add(Dense(256, kernel_initializer='normal',activation='relu'))\n",
        "NN_model.add(Dense(256, kernel_initializer='normal',activation='relu'))\n",
        "\n",
        "# The Output Layer :\n",
        "NN_model.add(Dense(1, kernel_initializer='normal',activation='softplus'))\n",
        "\n",
        "# Compile the network :\n",
        "NN_model.compile(loss='mean_squared_logarithmic_error', optimizer=adam, metrics=['mean_absolute_error','mean_squared_error',rmse])\n",
        "NN_model.summary()"
      ],
      "execution_count": 59,
      "outputs": [
        {
          "output_type": "stream",
          "text": [
            "_________________________________________________________________\n",
            "Layer (type)                 Output Shape              Param #   \n",
            "=================================================================\n",
            "dense_6 (Dense)              (None, 128)               5248      \n",
            "_________________________________________________________________\n",
            "dense_7 (Dense)              (None, 256)               33024     \n",
            "_________________________________________________________________\n",
            "dense_8 (Dense)              (None, 256)               65792     \n",
            "_________________________________________________________________\n",
            "dense_9 (Dense)              (None, 256)               65792     \n",
            "_________________________________________________________________\n",
            "dense_10 (Dense)             (None, 1)                 257       \n",
            "=================================================================\n",
            "Total params: 170,113\n",
            "Trainable params: 170,113\n",
            "Non-trainable params: 0\n",
            "_________________________________________________________________\n"
          ],
          "name": "stdout"
        }
      ]
    },
    {
      "cell_type": "code",
      "metadata": {
        "id": "AtIJEemcK86W",
        "colab_type": "code",
        "colab": {}
      },
      "source": [
        "checkpoint_name = 'Weights-{epoch:03d}--{val_loss:.5f}.hdf5' \n",
        "checkpoint = ModelCheckpoint(checkpoint_name, monitor='val_loss', verbose =1, save_best_only = True, mode ='auto')\n",
        "early_stop=EarlyStopping(monitor='val_loss',patience=10)\n",
        "callbacks_list = [checkpoint,early_stop]"
      ],
      "execution_count": 0,
      "outputs": []
    },
    {
      "cell_type": "code",
      "metadata": {
        "id": "BioL4U98K86Z",
        "colab_type": "code",
        "colab": {}
      },
      "source": [
        "def plot_history(history):\n",
        "  hist = pd.DataFrame(history.history)\n",
        "  hist['epoch'] = history.epoch\n",
        "  \n",
        "  plt.figure()\n",
        "  plt.xlabel('Epoch')\n",
        "  plt.ylabel('Mean Abs Error')\n",
        "  plt.plot(hist['epoch'], hist['mean_absolute_error'],\n",
        "           label='Train Error')\n",
        "  plt.plot(hist['epoch'], hist['val_mean_absolute_error'],\n",
        "           label = 'Val Error')\n",
        "  plt.ylim([0,5])\n",
        "  plt.legend()\n",
        "  \n",
        " \n",
        " \n",
        "  plt.legend()\n",
        "  plt.show()"
      ],
      "execution_count": 0,
      "outputs": []
    },
    {
      "cell_type": "code",
      "metadata": {
        "id": "o25oYoFSK86c",
        "colab_type": "code",
        "outputId": "d35e857d-e3e0-4a2e-fd68-4c98a0242fbc",
        "colab": {
          "base_uri": "https://localhost:8080/",
          "height": 1000
        }
      },
      "source": [
        "history=NN_model.fit(data_x, data_y, epochs=100, batch_size=32, validation_split = 0.2, callbacks=callbacks_list)\n"
      ],
      "execution_count": 61,
      "outputs": [
        {
          "output_type": "stream",
          "text": [
            "Train on 6965 samples, validate on 1742 samples\n",
            "Epoch 1/100\n",
            "6965/6965 [==============================] - 1s 200us/step - loss: 1.9891 - mean_absolute_error: 111.3076 - mean_squared_error: 24966.5719 - rmse: 111.3076 - val_loss: 2.2684 - val_mean_absolute_error: 218.4471 - val_mean_squared_error: 83652.5885 - val_rmse: 218.4471\n",
            "\n",
            "Epoch 00001: val_loss improved from inf to 2.26836, saving model to Weights-001--2.26836.hdf5\n",
            "Epoch 2/100\n",
            "6965/6965 [==============================] - 1s 139us/step - loss: 1.9480 - mean_absolute_error: 110.8926 - mean_squared_error: 24919.7104 - rmse: 110.8926 - val_loss: 2.2368 - val_mean_absolute_error: 217.6597 - val_mean_squared_error: 83212.3419 - val_rmse: 217.6597\n",
            "\n",
            "Epoch 00002: val_loss improved from 2.26836 to 2.23679, saving model to Weights-002--2.23679.hdf5\n",
            "Epoch 3/100\n",
            "6965/6965 [==============================] - 1s 140us/step - loss: 1.8705 - mean_absolute_error: 108.6417 - mean_squared_error: 23932.1154 - rmse: 108.6417 - val_loss: 1.9479 - val_mean_absolute_error: 207.4333 - val_mean_squared_error: 76382.1581 - val_rmse: 207.4333\n",
            "\n",
            "Epoch 00003: val_loss improved from 2.23679 to 1.94794, saving model to Weights-003--1.94794.hdf5\n",
            "Epoch 4/100\n",
            "6965/6965 [==============================] - 1s 132us/step - loss: 1.4358 - mean_absolute_error: 94.3842 - mean_squared_error: 19533.1546 - rmse: 94.3842 - val_loss: 1.2057 - val_mean_absolute_error: 147.9211 - val_mean_squared_error: 44098.3705 - val_rmse: 147.9211\n",
            "\n",
            "Epoch 00004: val_loss improved from 1.94794 to 1.20569, saving model to Weights-004--1.20569.hdf5\n",
            "Epoch 5/100\n",
            "6965/6965 [==============================] - 1s 130us/step - loss: 1.1817 - mean_absolute_error: 82.6428 - mean_squared_error: 15453.6812 - rmse: 82.6428 - val_loss: 0.9455 - val_mean_absolute_error: 132.9900 - val_mean_squared_error: 38036.0368 - val_rmse: 132.9900\n",
            "\n",
            "Epoch 00005: val_loss improved from 1.20569 to 0.94551, saving model to Weights-005--0.94551.hdf5\n",
            "Epoch 6/100\n",
            "6965/6965 [==============================] - 1s 141us/step - loss: 0.9088 - mean_absolute_error: 74.9157 - mean_squared_error: 12983.7783 - rmse: 74.9157 - val_loss: 0.7615 - val_mean_absolute_error: 129.1051 - val_mean_squared_error: 37519.9137 - val_rmse: 129.1050\n",
            "\n",
            "Epoch 00006: val_loss improved from 0.94551 to 0.76155, saving model to Weights-006--0.76155.hdf5\n",
            "Epoch 7/100\n",
            "6965/6965 [==============================] - 1s 138us/step - loss: 0.7033 - mean_absolute_error: 68.9194 - mean_squared_error: 11341.0507 - rmse: 68.9194 - val_loss: 0.6694 - val_mean_absolute_error: 141.4325 - val_mean_squared_error: 44086.0847 - val_rmse: 141.4325\n",
            "\n",
            "Epoch 00007: val_loss improved from 0.76155 to 0.66940, saving model to Weights-007--0.66940.hdf5\n",
            "Epoch 8/100\n",
            "6965/6965 [==============================] - 1s 132us/step - loss: 0.6140 - mean_absolute_error: 67.5370 - mean_squared_error: 10914.0058 - rmse: 67.5370 - val_loss: 0.5360 - val_mean_absolute_error: 127.9146 - val_mean_squared_error: 37633.9578 - val_rmse: 127.9146\n",
            "\n",
            "Epoch 00008: val_loss improved from 0.66940 to 0.53600, saving model to Weights-008--0.53600.hdf5\n",
            "Epoch 9/100\n",
            "6965/6965 [==============================] - 1s 125us/step - loss: 0.6028 - mean_absolute_error: 67.6487 - mean_squared_error: 10733.8264 - rmse: 67.6487 - val_loss: 0.8623 - val_mean_absolute_error: 158.2481 - val_mean_squared_error: 50812.0944 - val_rmse: 158.2481\n",
            "\n",
            "Epoch 00009: val_loss did not improve from 0.53600\n",
            "Epoch 10/100\n",
            "6965/6965 [==============================] - 1s 129us/step - loss: 0.5038 - mean_absolute_error: 62.9181 - mean_squared_error: 9578.8767 - rmse: 62.9181 - val_loss: 0.3964 - val_mean_absolute_error: 110.5429 - val_mean_squared_error: 29347.4649 - val_rmse: 110.5429\n",
            "\n",
            "Epoch 00010: val_loss improved from 0.53600 to 0.39636, saving model to Weights-010--0.39636.hdf5\n",
            "Epoch 11/100\n",
            "6965/6965 [==============================] - 1s 137us/step - loss: 0.5100 - mean_absolute_error: 63.0017 - mean_squared_error: 9386.8680 - rmse: 63.0017 - val_loss: 0.5029 - val_mean_absolute_error: 125.7037 - val_mean_squared_error: 35574.3512 - val_rmse: 125.7037\n",
            "\n",
            "Epoch 00011: val_loss did not improve from 0.39636\n",
            "Epoch 12/100\n",
            "6965/6965 [==============================] - 1s 140us/step - loss: 0.5107 - mean_absolute_error: 62.7210 - mean_squared_error: 9360.4454 - rmse: 62.7210 - val_loss: 0.4441 - val_mean_absolute_error: 121.5949 - val_mean_squared_error: 33540.5345 - val_rmse: 121.5949\n",
            "\n",
            "Epoch 00012: val_loss did not improve from 0.39636\n",
            "Epoch 13/100\n",
            "6965/6965 [==============================] - 1s 152us/step - loss: 0.4744 - mean_absolute_error: 61.0810 - mean_squared_error: 8919.9714 - rmse: 61.0810 - val_loss: 0.5428 - val_mean_absolute_error: 133.7627 - val_mean_squared_error: 38035.1886 - val_rmse: 133.7627\n",
            "\n",
            "Epoch 00013: val_loss did not improve from 0.39636\n",
            "Epoch 14/100\n",
            "6965/6965 [==============================] - 1s 139us/step - loss: 0.4764 - mean_absolute_error: 60.5961 - mean_squared_error: 8772.2271 - rmse: 60.5961 - val_loss: 0.4225 - val_mean_absolute_error: 119.5921 - val_mean_squared_error: 32073.1525 - val_rmse: 119.5921\n",
            "\n",
            "Epoch 00014: val_loss did not improve from 0.39636\n",
            "Epoch 15/100\n",
            "6965/6965 [==============================] - 1s 135us/step - loss: 0.4915 - mean_absolute_error: 61.7099 - mean_squared_error: 8936.1303 - rmse: 61.7099 - val_loss: 0.4311 - val_mean_absolute_error: 94.8241 - val_mean_squared_error: 19524.4491 - val_rmse: 94.8241\n",
            "\n",
            "Epoch 00015: val_loss did not improve from 0.39636\n",
            "Epoch 16/100\n",
            "6965/6965 [==============================] - 1s 133us/step - loss: 0.4612 - mean_absolute_error: 59.8636 - mean_squared_error: 8599.8156 - rmse: 59.8636 - val_loss: 0.3455 - val_mean_absolute_error: 107.7513 - val_mean_squared_error: 27125.9745 - val_rmse: 107.7513\n",
            "\n",
            "Epoch 00016: val_loss improved from 0.39636 to 0.34545, saving model to Weights-016--0.34545.hdf5\n",
            "Epoch 17/100\n",
            "6965/6965 [==============================] - 1s 131us/step - loss: 0.4583 - mean_absolute_error: 60.0196 - mean_squared_error: 8480.3953 - rmse: 60.0196 - val_loss: 0.3561 - val_mean_absolute_error: 109.5076 - val_mean_squared_error: 27862.9181 - val_rmse: 109.5076\n",
            "\n",
            "Epoch 00017: val_loss did not improve from 0.34545\n",
            "Epoch 18/100\n",
            "6965/6965 [==============================] - 1s 130us/step - loss: 0.4591 - mean_absolute_error: 60.0522 - mean_squared_error: 8459.2827 - rmse: 60.0522 - val_loss: 0.6644 - val_mean_absolute_error: 148.8925 - val_mean_squared_error: 44145.0702 - val_rmse: 148.8925\n",
            "\n",
            "Epoch 00018: val_loss did not improve from 0.34545\n",
            "Epoch 19/100\n",
            "6965/6965 [==============================] - 1s 135us/step - loss: 0.4417 - mean_absolute_error: 58.8305 - mean_squared_error: 8287.5129 - rmse: 58.8305 - val_loss: 0.5567 - val_mean_absolute_error: 132.0707 - val_mean_squared_error: 36148.9467 - val_rmse: 132.0707\n",
            "\n",
            "Epoch 00019: val_loss did not improve from 0.34545\n",
            "Epoch 20/100\n",
            "6965/6965 [==============================] - 1s 139us/step - loss: 0.4559 - mean_absolute_error: 59.6845 - mean_squared_error: 8411.0208 - rmse: 59.6845 - val_loss: 0.3279 - val_mean_absolute_error: 104.6021 - val_mean_squared_error: 25589.2746 - val_rmse: 104.6021\n",
            "\n",
            "Epoch 00020: val_loss improved from 0.34545 to 0.32788, saving model to Weights-020--0.32788.hdf5\n",
            "Epoch 21/100\n",
            "6965/6965 [==============================] - 1s 128us/step - loss: 0.4515 - mean_absolute_error: 59.7934 - mean_squared_error: 8434.2066 - rmse: 59.7934 - val_loss: 0.4925 - val_mean_absolute_error: 123.3836 - val_mean_squared_error: 32551.5623 - val_rmse: 123.3836\n",
            "\n",
            "Epoch 00021: val_loss did not improve from 0.32788\n",
            "Epoch 22/100\n",
            "6965/6965 [==============================] - 1s 131us/step - loss: 0.4521 - mean_absolute_error: 59.6847 - mean_squared_error: 8393.4706 - rmse: 59.6847 - val_loss: 0.4200 - val_mean_absolute_error: 111.2084 - val_mean_squared_error: 27894.8247 - val_rmse: 111.2084\n",
            "\n",
            "Epoch 00022: val_loss did not improve from 0.32788\n",
            "Epoch 23/100\n",
            "6965/6965 [==============================] - 1s 135us/step - loss: 0.4289 - mean_absolute_error: 58.6427 - mean_squared_error: 8139.4973 - rmse: 58.6427 - val_loss: 0.4892 - val_mean_absolute_error: 128.4786 - val_mean_squared_error: 34831.5938 - val_rmse: 128.4786\n",
            "\n",
            "Epoch 00023: val_loss did not improve from 0.32788\n",
            "Epoch 24/100\n",
            "6965/6965 [==============================] - 1s 139us/step - loss: 0.4467 - mean_absolute_error: 59.8546 - mean_squared_error: 8444.1272 - rmse: 59.8546 - val_loss: 0.3411 - val_mean_absolute_error: 98.1941 - val_mean_squared_error: 22443.2506 - val_rmse: 98.1941\n",
            "\n",
            "Epoch 00024: val_loss did not improve from 0.32788\n",
            "Epoch 25/100\n",
            "6965/6965 [==============================] - 1s 136us/step - loss: 0.4257 - mean_absolute_error: 58.2095 - mean_squared_error: 8009.7922 - rmse: 58.2095 - val_loss: 0.3382 - val_mean_absolute_error: 103.9080 - val_mean_squared_error: 24808.5411 - val_rmse: 103.9080\n",
            "\n",
            "Epoch 00025: val_loss did not improve from 0.32788\n",
            "Epoch 26/100\n",
            "6965/6965 [==============================] - 1s 134us/step - loss: 0.4334 - mean_absolute_error: 58.7770 - mean_squared_error: 8178.5911 - rmse: 58.7770 - val_loss: 0.3574 - val_mean_absolute_error: 112.3385 - val_mean_squared_error: 28609.8466 - val_rmse: 112.3385\n",
            "\n",
            "Epoch 00026: val_loss did not improve from 0.32788\n",
            "Epoch 27/100\n",
            "6965/6965 [==============================] - 1s 133us/step - loss: 0.4168 - mean_absolute_error: 58.1271 - mean_squared_error: 7989.7587 - rmse: 58.1271 - val_loss: 0.4848 - val_mean_absolute_error: 124.4784 - val_mean_squared_error: 32956.2241 - val_rmse: 124.4784\n",
            "\n",
            "Epoch 00027: val_loss did not improve from 0.32788\n",
            "Epoch 28/100\n",
            "6965/6965 [==============================] - 1s 128us/step - loss: 0.4274 - mean_absolute_error: 58.6934 - mean_squared_error: 8121.7927 - rmse: 58.6934 - val_loss: 0.6423 - val_mean_absolute_error: 143.8185 - val_mean_squared_error: 41180.0368 - val_rmse: 143.8185\n",
            "\n",
            "Epoch 00028: val_loss did not improve from 0.32788\n",
            "Epoch 29/100\n",
            "6965/6965 [==============================] - 1s 129us/step - loss: 0.4227 - mean_absolute_error: 58.2881 - mean_squared_error: 7993.6983 - rmse: 58.2881 - val_loss: 0.4651 - val_mean_absolute_error: 126.5256 - val_mean_squared_error: 34140.4285 - val_rmse: 126.5256\n",
            "\n",
            "Epoch 00029: val_loss did not improve from 0.32788\n",
            "Epoch 30/100\n",
            "6965/6965 [==============================] - 1s 127us/step - loss: 0.4167 - mean_absolute_error: 57.8735 - mean_squared_error: 8062.4658 - rmse: 57.8735 - val_loss: 0.2902 - val_mean_absolute_error: 93.5702 - val_mean_squared_error: 20109.3061 - val_rmse: 93.5702\n",
            "\n",
            "Epoch 00030: val_loss improved from 0.32788 to 0.29020, saving model to Weights-030--0.29020.hdf5\n",
            "Epoch 31/100\n",
            "6965/6965 [==============================] - 1s 125us/step - loss: 0.4204 - mean_absolute_error: 58.9018 - mean_squared_error: 8156.0148 - rmse: 58.9018 - val_loss: 0.3230 - val_mean_absolute_error: 105.4758 - val_mean_squared_error: 25792.2150 - val_rmse: 105.4758\n",
            "\n",
            "Epoch 00031: val_loss did not improve from 0.29020\n",
            "Epoch 32/100\n",
            "6965/6965 [==============================] - 1s 129us/step - loss: 0.4168 - mean_absolute_error: 58.3014 - mean_squared_error: 8060.8330 - rmse: 58.3014 - val_loss: 0.3053 - val_mean_absolute_error: 101.4075 - val_mean_squared_error: 23879.7146 - val_rmse: 101.4075\n",
            "\n",
            "Epoch 00032: val_loss did not improve from 0.29020\n",
            "Epoch 33/100\n",
            "6965/6965 [==============================] - 1s 140us/step - loss: 0.4336 - mean_absolute_error: 59.3477 - mean_squared_error: 8230.6604 - rmse: 59.3477 - val_loss: 0.3293 - val_mean_absolute_error: 100.1123 - val_mean_squared_error: 23383.9683 - val_rmse: 100.1123\n",
            "\n",
            "Epoch 00033: val_loss did not improve from 0.29020\n",
            "Epoch 34/100\n",
            "6965/6965 [==============================] - 1s 137us/step - loss: 0.4170 - mean_absolute_error: 58.6800 - mean_squared_error: 8112.2361 - rmse: 58.6800 - val_loss: 0.3482 - val_mean_absolute_error: 110.6712 - val_mean_squared_error: 27679.6114 - val_rmse: 110.6712\n",
            "\n",
            "Epoch 00034: val_loss did not improve from 0.29020\n",
            "Epoch 35/100\n",
            "6965/6965 [==============================] - 1s 134us/step - loss: 0.3938 - mean_absolute_error: 56.8499 - mean_squared_error: 7709.3624 - rmse: 56.8499 - val_loss: 0.3633 - val_mean_absolute_error: 110.2269 - val_mean_squared_error: 26886.4633 - val_rmse: 110.2269\n",
            "\n",
            "Epoch 00035: val_loss did not improve from 0.29020\n",
            "Epoch 36/100\n",
            "6965/6965 [==============================] - 1s 137us/step - loss: 0.4035 - mean_absolute_error: 57.0088 - mean_squared_error: 7628.7133 - rmse: 57.0088 - val_loss: 0.3254 - val_mean_absolute_error: 106.6325 - val_mean_squared_error: 26598.9805 - val_rmse: 106.6325\n",
            "\n",
            "Epoch 00036: val_loss did not improve from 0.29020\n",
            "Epoch 37/100\n",
            "6965/6965 [==============================] - 1s 130us/step - loss: 0.4096 - mean_absolute_error: 57.9301 - mean_squared_error: 7951.7480 - rmse: 57.9301 - val_loss: 0.2951 - val_mean_absolute_error: 100.3957 - val_mean_squared_error: 23401.7571 - val_rmse: 100.3957\n",
            "\n",
            "Epoch 00037: val_loss did not improve from 0.29020\n",
            "Epoch 38/100\n",
            "6965/6965 [==============================] - 1s 139us/step - loss: 0.3882 - mean_absolute_error: 56.6066 - mean_squared_error: 7600.9360 - rmse: 56.6066 - val_loss: 0.5702 - val_mean_absolute_error: 134.7070 - val_mean_squared_error: 36318.7274 - val_rmse: 134.7070\n",
            "\n",
            "Epoch 00038: val_loss did not improve from 0.29020\n",
            "Epoch 39/100\n",
            "6965/6965 [==============================] - 1s 138us/step - loss: 0.3662 - mean_absolute_error: 54.8094 - mean_squared_error: 7198.7689 - rmse: 54.8094 - val_loss: 0.3445 - val_mean_absolute_error: 110.8274 - val_mean_squared_error: 26744.8862 - val_rmse: 110.8274\n",
            "\n",
            "Epoch 00039: val_loss did not improve from 0.29020\n",
            "Epoch 40/100\n",
            "6965/6965 [==============================] - 1s 135us/step - loss: 0.3904 - mean_absolute_error: 56.7049 - mean_squared_error: 7586.2070 - rmse: 56.7049 - val_loss: 0.3782 - val_mean_absolute_error: 121.2888 - val_mean_squared_error: 31561.3964 - val_rmse: 121.2888\n",
            "\n",
            "Epoch 00040: val_loss did not improve from 0.29020\n"
          ],
          "name": "stdout"
        }
      ]
    },
    {
      "cell_type": "code",
      "metadata": {
        "id": "JQnj8PsVztov",
        "colab_type": "code",
        "colab": {
          "base_uri": "https://localhost:8080/",
          "height": 72
        },
        "outputId": "8641bd74-2a18-405d-f98e-8c72df7601af"
      },
      "source": [
        "import pickle\n",
        "from sklearn.externals import joblib\n"
      ],
      "execution_count": 160,
      "outputs": [
        {
          "output_type": "stream",
          "text": [
            "/usr/local/lib/python3.6/dist-packages/sklearn/externals/joblib/__init__.py:15: DeprecationWarning: sklearn.externals.joblib is deprecated in 0.21 and will be removed in 0.23. Please import this functionality directly from joblib, which can be installed with: pip install joblib. If this warning is raised when loading pickled models, you may need to re-serialize those models with scikit-learn 0.21+.\n",
            "  warnings.warn(msg, category=DeprecationWarning)\n"
          ],
          "name": "stderr"
        }
      ]
    },
    {
      "cell_type": "code",
      "metadata": {
        "id": "f7p97nSbz3PJ",
        "colab_type": "code",
        "colab": {
          "base_uri": "https://localhost:8080/",
          "height": 35
        },
        "outputId": "1376e41d-b5d9-4538-b208-78a16fdfa0d7"
      },
      "source": [
        "joblib.dump(NN_model,'NN_model.pkl')"
      ],
      "execution_count": 161,
      "outputs": [
        {
          "output_type": "execute_result",
          "data": {
            "text/plain": [
              "['NN_model.pkl']"
            ]
          },
          "metadata": {
            "tags": []
          },
          "execution_count": 161
        }
      ]
    },
    {
      "cell_type": "code",
      "metadata": {
        "id": "rXb6b_28Q4s0",
        "colab_type": "code",
        "colab": {
          "base_uri": "https://localhost:8080/",
          "height": 248
        },
        "outputId": "05ca20f8-ed93-44de-a96e-ee070dc1fb18"
      },
      "source": [
        "data.dtypes"
      ],
      "execution_count": 97,
      "outputs": [
        {
          "output_type": "execute_result",
          "data": {
            "text/plain": [
              "datetime       object\n",
              "season          int64\n",
              "holiday         int64\n",
              "workingday      int64\n",
              "weather         int64\n",
              "temp          float64\n",
              "atemp         float64\n",
              "humidity        int64\n",
              "windspeed     float64\n",
              "casual          int64\n",
              "registered      int64\n",
              "count           int64\n",
              "dtype: object"
            ]
          },
          "metadata": {
            "tags": []
          },
          "execution_count": 97
        }
      ]
    },
    {
      "cell_type": "code",
      "metadata": {
        "id": "H8XFkcM4Q5d1",
        "colab_type": "code",
        "colab": {}
      },
      "source": [
        ""
      ],
      "execution_count": 0,
      "outputs": []
    },
    {
      "cell_type": "code",
      "metadata": {
        "id": "9YubNBkRQ5mE",
        "colab_type": "code",
        "colab": {}
      },
      "source": [
        ""
      ],
      "execution_count": 0,
      "outputs": []
    },
    {
      "cell_type": "code",
      "metadata": {
        "id": "VLYqkjuSQ5z0",
        "colab_type": "code",
        "colab": {}
      },
      "source": [
        ""
      ],
      "execution_count": 0,
      "outputs": []
    },
    {
      "cell_type": "code",
      "metadata": {
        "id": "rpnmXLXBK86k",
        "colab_type": "code",
        "outputId": "52746583-98ab-4a28-e1b4-094a9f99b04d",
        "colab": {
          "base_uri": "https://localhost:8080/",
          "height": 168
        }
      },
      "source": [
        "data['count'].describe()"
      ],
      "execution_count": 0,
      "outputs": [
        {
          "output_type": "execute_result",
          "data": {
            "text/plain": [
              "count    8707.000000\n",
              "mean      174.409670\n",
              "std       166.438566\n",
              "min         1.000000\n",
              "25%        38.000000\n",
              "50%       130.000000\n",
              "75%       259.000000\n",
              "max       891.000000\n",
              "Name: count, dtype: float64"
            ]
          },
          "metadata": {
            "tags": []
          },
          "execution_count": 41
        }
      ]
    },
    {
      "cell_type": "code",
      "metadata": {
        "id": "GWObw7B0K86o",
        "colab_type": "code",
        "colab": {}
      },
      "source": [
        "test=pd.read_csv(\"test.csv\")\n",
        "test_original=test.copy()"
      ],
      "execution_count": 0,
      "outputs": []
    },
    {
      "cell_type": "code",
      "metadata": {
        "id": "Jfjb9zemK86q",
        "colab_type": "code",
        "outputId": "1c1b8b65-6ddd-441f-e1d8-5bd70d3dcb23",
        "colab": {
          "base_uri": "https://localhost:8080/",
          "height": 34
        }
      },
      "source": [
        "test.shape"
      ],
      "execution_count": 0,
      "outputs": [
        {
          "output_type": "execute_result",
          "data": {
            "text/plain": [
              "(6493, 9)"
            ]
          },
          "metadata": {
            "tags": []
          },
          "execution_count": 254
        }
      ]
    },
    {
      "cell_type": "code",
      "metadata": {
        "id": "FLnMiGp2K86t",
        "colab_type": "code",
        "outputId": "aa00cdd3-8129-4da6-c4a2-3a8a857ddd1b",
        "colab": {
          "base_uri": "https://localhost:8080/",
          "height": 67
        }
      },
      "source": [
        "test.columns"
      ],
      "execution_count": 0,
      "outputs": [
        {
          "output_type": "execute_result",
          "data": {
            "text/plain": [
              "Index(['datetime', 'season', 'holiday', 'workingday', 'weather', 'temp',\n",
              "       'atemp', 'humidity', 'windspeed'],\n",
              "      dtype='object')"
            ]
          },
          "metadata": {
            "tags": []
          },
          "execution_count": 255
        }
      ]
    },
    {
      "cell_type": "code",
      "metadata": {
        "id": "O-iTIKPzK860",
        "colab_type": "code",
        "colab": {}
      },
      "source": [
        "test['datetime'] = pd.to_datetime(test['datetime'], errors='coerce')"
      ],
      "execution_count": 0,
      "outputs": []
    },
    {
      "cell_type": "code",
      "metadata": {
        "id": "b4ROdwngK865",
        "colab_type": "code",
        "colab": {}
      },
      "source": [
        "test['year'] = test['datetime'].dt.year \n",
        "#test['month'] = test['datetime'].dt.month \n",
        "test['day'] = test['datetime'].dt.day \n",
        "test['hour'] = test['datetime'].dt.hour"
      ],
      "execution_count": 0,
      "outputs": []
    },
    {
      "cell_type": "code",
      "metadata": {
        "id": "4a7gdacmK87L",
        "colab_type": "code",
        "colab": {}
      },
      "source": [
        "test=test.drop('datetime',axis=1)"
      ],
      "execution_count": 0,
      "outputs": []
    },
    {
      "cell_type": "code",
      "metadata": {
        "id": "fPIyzLlxK87Q",
        "colab_type": "code",
        "colab": {}
      },
      "source": [
        "test=normalize(test,[\"temp\",\"atemp\",\"humidity\",\"windspeed\"])"
      ],
      "execution_count": 0,
      "outputs": []
    },
    {
      "cell_type": "code",
      "metadata": {
        "id": "siHmEnp7K87W",
        "colab_type": "code",
        "colab": {}
      },
      "source": [
        "test = dummy_data(test, [\"season\",\"weather\",\"hour\"])"
      ],
      "execution_count": 0,
      "outputs": []
    },
    {
      "cell_type": "code",
      "metadata": {
        "id": "Lf76xrv1aOGy",
        "colab_type": "code",
        "outputId": "e4974663-6174-4332-c454-b40512ae16e3",
        "colab": {
          "base_uri": "https://localhost:8080/",
          "height": 34
        }
      },
      "source": [
        "test.shape"
      ],
      "execution_count": 0,
      "outputs": [
        {
          "output_type": "execute_result",
          "data": {
            "text/plain": [
              "(6493, 40)"
            ]
          },
          "metadata": {
            "tags": []
          },
          "execution_count": 261
        }
      ]
    },
    {
      "cell_type": "code",
      "metadata": {
        "id": "gu2IMh0DarUy",
        "colab_type": "code",
        "outputId": "116ae809-b5b4-4251-8266-9279ca251bda",
        "colab": {
          "base_uri": "https://localhost:8080/",
          "height": 177
        }
      },
      "source": [
        "test1.columns"
      ],
      "execution_count": 68,
      "outputs": [
        {
          "output_type": "execute_result",
          "data": {
            "text/plain": [
              "Index(['holiday', 'workingday', 'temp', 'atemp', 'humidity', 'windspeed',\n",
              "       'casual', 'registered', 'count', 'year', 'Day of Week', 'season_1',\n",
              "       'season_2', 'season_3', 'season_4', 'weather_1', 'weather_2',\n",
              "       'weather_3', 'weather_4', 'hour_0', 'hour_1', 'hour_2', 'hour_3',\n",
              "       'hour_4', 'hour_5', 'hour_6', 'hour_7', 'hour_8', 'hour_9', 'hour_10',\n",
              "       'hour_11', 'hour_12', 'hour_13', 'hour_14', 'hour_15', 'hour_16',\n",
              "       'hour_17', 'hour_18', 'hour_19', 'hour_20', 'hour_21', 'hour_22',\n",
              "       'hour_23'],\n",
              "      dtype='object')"
            ]
          },
          "metadata": {
            "tags": []
          },
          "execution_count": 68
        }
      ]
    },
    {
      "cell_type": "code",
      "metadata": {
        "id": "d34i88PuSCgf",
        "colab_type": "code",
        "colab": {}
      },
      "source": [
        "rest_working_day=1"
      ],
      "execution_count": 0,
      "outputs": []
    },
    {
      "cell_type": "code",
      "metadata": {
        "id": "D-6rHQwlV4X3",
        "colab_type": "code",
        "colab": {}
      },
      "source": [
        "def transform_temp(temp):\n",
        "  \n",
        "  \n",
        "  return ((temp-mean_temp)/sd_temp)"
      ],
      "execution_count": 0,
      "outputs": []
    },
    {
      "cell_type": "code",
      "metadata": {
        "id": "Cg9VZqr0XAxY",
        "colab_type": "code",
        "colab": {}
      },
      "source": [
        "def transform_atemp(atemp):\n",
        "  \n",
        "  return ((atemp-mean_atemp)/sd_atemp)"
      ],
      "execution_count": 0,
      "outputs": []
    },
    {
      "cell_type": "code",
      "metadata": {
        "id": "3MIFtePnXErR",
        "colab_type": "code",
        "colab": {}
      },
      "source": [
        "def transform_humidity(humidity):\n",
        "  \n",
        "  return ((humidity-mean_humidity)/sd_humidity)"
      ],
      "execution_count": 0,
      "outputs": []
    },
    {
      "cell_type": "code",
      "metadata": {
        "id": "Xw9kFY2pXLXp",
        "colab_type": "code",
        "colab": {}
      },
      "source": [
        "def transform_windspeed(windspeed):\n",
        "   return ((windspeed-mean_windspeed)/sd_windspeed)"
      ],
      "execution_count": 0,
      "outputs": []
    },
    {
      "cell_type": "code",
      "metadata": {
        "id": "9w6JnP3CYY3V",
        "colab_type": "code",
        "colab": {
          "base_uri": "https://localhost:8080/",
          "height": 340
        },
        "outputId": "3d8c721c-3bd8-4cbc-a9e0-21c1a7f5e7de"
      },
      "source": [
        "data_real_ori.tail(10)"
      ],
      "execution_count": 96,
      "outputs": [
        {
          "output_type": "execute_result",
          "data": {
            "text/html": [
              "<div>\n",
              "<style scoped>\n",
              "    .dataframe tbody tr th:only-of-type {\n",
              "        vertical-align: middle;\n",
              "    }\n",
              "\n",
              "    .dataframe tbody tr th {\n",
              "        vertical-align: top;\n",
              "    }\n",
              "\n",
              "    .dataframe thead th {\n",
              "        text-align: right;\n",
              "    }\n",
              "</style>\n",
              "<table border=\"1\" class=\"dataframe\">\n",
              "  <thead>\n",
              "    <tr style=\"text-align: right;\">\n",
              "      <th></th>\n",
              "      <th>datetime</th>\n",
              "      <th>season</th>\n",
              "      <th>holiday</th>\n",
              "      <th>workingday</th>\n",
              "      <th>weather</th>\n",
              "      <th>temp</th>\n",
              "      <th>atemp</th>\n",
              "      <th>humidity</th>\n",
              "      <th>windspeed</th>\n",
              "      <th>casual</th>\n",
              "      <th>registered</th>\n",
              "      <th>count</th>\n",
              "    </tr>\n",
              "  </thead>\n",
              "  <tbody>\n",
              "    <tr>\n",
              "      <th>10876</th>\n",
              "      <td>2012-12-19 14:00:00</td>\n",
              "      <td>4</td>\n",
              "      <td>0</td>\n",
              "      <td>1</td>\n",
              "      <td>1</td>\n",
              "      <td>17.22</td>\n",
              "      <td>21.210</td>\n",
              "      <td>50</td>\n",
              "      <td>12.9980</td>\n",
              "      <td>33</td>\n",
              "      <td>185</td>\n",
              "      <td>218</td>\n",
              "    </tr>\n",
              "    <tr>\n",
              "      <th>10877</th>\n",
              "      <td>2012-12-19 15:00:00</td>\n",
              "      <td>4</td>\n",
              "      <td>0</td>\n",
              "      <td>1</td>\n",
              "      <td>1</td>\n",
              "      <td>17.22</td>\n",
              "      <td>21.210</td>\n",
              "      <td>50</td>\n",
              "      <td>19.0012</td>\n",
              "      <td>28</td>\n",
              "      <td>209</td>\n",
              "      <td>237</td>\n",
              "    </tr>\n",
              "    <tr>\n",
              "      <th>10878</th>\n",
              "      <td>2012-12-19 16:00:00</td>\n",
              "      <td>4</td>\n",
              "      <td>0</td>\n",
              "      <td>1</td>\n",
              "      <td>1</td>\n",
              "      <td>17.22</td>\n",
              "      <td>21.210</td>\n",
              "      <td>50</td>\n",
              "      <td>23.9994</td>\n",
              "      <td>37</td>\n",
              "      <td>297</td>\n",
              "      <td>334</td>\n",
              "    </tr>\n",
              "    <tr>\n",
              "      <th>10879</th>\n",
              "      <td>2012-12-19 17:00:00</td>\n",
              "      <td>4</td>\n",
              "      <td>0</td>\n",
              "      <td>1</td>\n",
              "      <td>1</td>\n",
              "      <td>16.40</td>\n",
              "      <td>20.455</td>\n",
              "      <td>50</td>\n",
              "      <td>26.0027</td>\n",
              "      <td>26</td>\n",
              "      <td>536</td>\n",
              "      <td>562</td>\n",
              "    </tr>\n",
              "    <tr>\n",
              "      <th>10880</th>\n",
              "      <td>2012-12-19 18:00:00</td>\n",
              "      <td>4</td>\n",
              "      <td>0</td>\n",
              "      <td>1</td>\n",
              "      <td>1</td>\n",
              "      <td>15.58</td>\n",
              "      <td>19.695</td>\n",
              "      <td>50</td>\n",
              "      <td>23.9994</td>\n",
              "      <td>23</td>\n",
              "      <td>546</td>\n",
              "      <td>569</td>\n",
              "    </tr>\n",
              "    <tr>\n",
              "      <th>10881</th>\n",
              "      <td>2012-12-19 19:00:00</td>\n",
              "      <td>4</td>\n",
              "      <td>0</td>\n",
              "      <td>1</td>\n",
              "      <td>1</td>\n",
              "      <td>15.58</td>\n",
              "      <td>19.695</td>\n",
              "      <td>50</td>\n",
              "      <td>26.0027</td>\n",
              "      <td>7</td>\n",
              "      <td>329</td>\n",
              "      <td>336</td>\n",
              "    </tr>\n",
              "    <tr>\n",
              "      <th>10882</th>\n",
              "      <td>2012-12-19 20:00:00</td>\n",
              "      <td>4</td>\n",
              "      <td>0</td>\n",
              "      <td>1</td>\n",
              "      <td>1</td>\n",
              "      <td>14.76</td>\n",
              "      <td>17.425</td>\n",
              "      <td>57</td>\n",
              "      <td>15.0013</td>\n",
              "      <td>10</td>\n",
              "      <td>231</td>\n",
              "      <td>241</td>\n",
              "    </tr>\n",
              "    <tr>\n",
              "      <th>10883</th>\n",
              "      <td>2012-12-19 21:00:00</td>\n",
              "      <td>4</td>\n",
              "      <td>0</td>\n",
              "      <td>1</td>\n",
              "      <td>1</td>\n",
              "      <td>13.94</td>\n",
              "      <td>15.910</td>\n",
              "      <td>61</td>\n",
              "      <td>15.0013</td>\n",
              "      <td>4</td>\n",
              "      <td>164</td>\n",
              "      <td>168</td>\n",
              "    </tr>\n",
              "    <tr>\n",
              "      <th>10884</th>\n",
              "      <td>2012-12-19 22:00:00</td>\n",
              "      <td>4</td>\n",
              "      <td>0</td>\n",
              "      <td>1</td>\n",
              "      <td>1</td>\n",
              "      <td>13.94</td>\n",
              "      <td>17.425</td>\n",
              "      <td>61</td>\n",
              "      <td>6.0032</td>\n",
              "      <td>12</td>\n",
              "      <td>117</td>\n",
              "      <td>129</td>\n",
              "    </tr>\n",
              "    <tr>\n",
              "      <th>10885</th>\n",
              "      <td>2012-12-19 23:00:00</td>\n",
              "      <td>4</td>\n",
              "      <td>0</td>\n",
              "      <td>1</td>\n",
              "      <td>1</td>\n",
              "      <td>13.12</td>\n",
              "      <td>16.665</td>\n",
              "      <td>66</td>\n",
              "      <td>8.9981</td>\n",
              "      <td>4</td>\n",
              "      <td>84</td>\n",
              "      <td>88</td>\n",
              "    </tr>\n",
              "  </tbody>\n",
              "</table>\n",
              "</div>"
            ],
            "text/plain": [
              "                  datetime  season  holiday  ...  casual  registered  count\n",
              "10876  2012-12-19 14:00:00       4        0  ...      33         185    218\n",
              "10877  2012-12-19 15:00:00       4        0  ...      28         209    237\n",
              "10878  2012-12-19 16:00:00       4        0  ...      37         297    334\n",
              "10879  2012-12-19 17:00:00       4        0  ...      26         536    562\n",
              "10880  2012-12-19 18:00:00       4        0  ...      23         546    569\n",
              "10881  2012-12-19 19:00:00       4        0  ...       7         329    336\n",
              "10882  2012-12-19 20:00:00       4        0  ...      10         231    241\n",
              "10883  2012-12-19 21:00:00       4        0  ...       4         164    168\n",
              "10884  2012-12-19 22:00:00       4        0  ...      12         117    129\n",
              "10885  2012-12-19 23:00:00       4        0  ...       4          84     88\n",
              "\n",
              "[10 rows x 12 columns]"
            ]
          },
          "metadata": {
            "tags": []
          },
          "execution_count": 96
        }
      ]
    },
    {
      "cell_type": "code",
      "metadata": {
        "id": "4yqjln7mlKIc",
        "colab_type": "code",
        "colab": {}
      },
      "source": [
        "import array"
      ],
      "execution_count": 0,
      "outputs": []
    },
    {
      "cell_type": "code",
      "metadata": {
        "id": "8LhMB4QqoqM-",
        "colab_type": "code",
        "colab": {}
      },
      "source": [
        "def predict_demand(holiday,workingday,temp,atemp,humidity,windspeed,year,Day_of_Week,season_1,\n",
        "                   season_2,season_3,season_4,weather_1,weather_2,weather_3,weather_4,\n",
        "                   hour_0,hour_1,hour_2,hour_3,hour_4,hour_5,hour_6,hour_7,hour_8,hour_9,\n",
        "                   hour_10,hour_11,hour_12,hour_13,hour_14,hour_15,hour_16,hour_17,hour_18,hour_19,hour_20,hour_21,hour_22,hour_23):\n",
        "  \n",
        "  predict_rest=[holiday, workingday, transform_temp(temp),transform_atemp(atemp),transform_humidity(humidity),transform_windspeed(windspeed),year,Day_of_Week,season_1,\n",
        "                   season_2,season_3,season_4,weather_1,weather_2,weather_3,weather_4,\n",
        "                   hour_0,hour_1,hour_2,hour_3,hour_4,hour_5,hour_6,hour_7,hour_8,hour_9,\n",
        "                   hour_10,hour_11,hour_12,hour_13,hour_14,hour_15,hour_16,hour_17,hour_18,hour_19,hour_20,hour_21,hour_22,hour_23 ]\n",
        "  \n",
        " \n",
        "  \n",
        " \n",
        "  predict_rest=np.array(predict_rest)\n",
        "  predict_rest=predict_rest.reshape((1, -1))\n",
        "  prediction=NN_model.predict(predict_rest)\n",
        "  return prediction[0][0]\n",
        "  "
      ],
      "execution_count": 0,
      "outputs": []
    },
    {
      "cell_type": "code",
      "metadata": {
        "id": "NKoOX2kpsUfy",
        "colab_type": "code",
        "colab": {
          "base_uri": "https://localhost:8080/",
          "height": 35
        },
        "outputId": "33dcc0a2-07d6-4e78-d013-d33ae64d6889"
      },
      "source": [
        "predict_demand(0,1,22,22,71,24,2012,6,0,0,0,1,1,1,1,1,0,0,0,0,0,0,0,0,0,0,0,0,1,0,0,0,0,0,0,0,0,0,0,0)"
      ],
      "execution_count": 159,
      "outputs": [
        {
          "output_type": "execute_result",
          "data": {
            "text/plain": [
              "626.5452"
            ]
          },
          "metadata": {
            "tags": []
          },
          "execution_count": 159
        }
      ]
    },
    {
      "cell_type": "code",
      "metadata": {
        "id": "mFE0eJIERjWr",
        "colab_type": "code",
        "colab": {}
      },
      "source": [
        "predict_rest=[0,rest_working_day,transform_temp(22),transform_atemp(22),transform_humidity(71),transform_windspeed(24),2012,6,0,0,0,1,1,1,1,1,0,0,0,0,0,0,0,0,0,0,0,0,1,0,0,0,0,0,0,0,0,0,0,0]"
      ],
      "execution_count": 0,
      "outputs": []
    },
    {
      "cell_type": "code",
      "metadata": {
        "id": "mDPiaWQoktUb",
        "colab_type": "code",
        "colab": {}
      },
      "source": [
        "predict_rest=np.array(predict_rest)"
      ],
      "execution_count": 0,
      "outputs": []
    },
    {
      "cell_type": "code",
      "metadata": {
        "id": "y_heSu05mLlC",
        "colab_type": "code",
        "colab": {}
      },
      "source": [
        "predict_rest=predict_rest.reshape((1, -1))\n"
      ],
      "execution_count": 0,
      "outputs": []
    },
    {
      "cell_type": "code",
      "metadata": {
        "id": "d3x-6i8VnXeg",
        "colab_type": "code",
        "colab": {
          "base_uri": "https://localhost:8080/",
          "height": 35
        },
        "outputId": "4bb14877-f860-4762-b1b9-b2b2e411b3a6"
      },
      "source": [
        "predict_rest.shape"
      ],
      "execution_count": 146,
      "outputs": [
        {
          "output_type": "execute_result",
          "data": {
            "text/plain": [
              "(1, 40)"
            ]
          },
          "metadata": {
            "tags": []
          },
          "execution_count": 146
        }
      ]
    },
    {
      "cell_type": "code",
      "metadata": {
        "id": "kCtvt8VIS9ew",
        "colab_type": "code",
        "colab": {
          "base_uri": "https://localhost:8080/",
          "height": 160
        },
        "outputId": "6b9edf63-1c11-4452-bbda-6b57c8bb9cde"
      },
      "source": [
        "test1.head(2)"
      ],
      "execution_count": 71,
      "outputs": [
        {
          "output_type": "execute_result",
          "data": {
            "text/html": [
              "<div>\n",
              "<style scoped>\n",
              "    .dataframe tbody tr th:only-of-type {\n",
              "        vertical-align: middle;\n",
              "    }\n",
              "\n",
              "    .dataframe tbody tr th {\n",
              "        vertical-align: top;\n",
              "    }\n",
              "\n",
              "    .dataframe thead th {\n",
              "        text-align: right;\n",
              "    }\n",
              "</style>\n",
              "<table border=\"1\" class=\"dataframe\">\n",
              "  <thead>\n",
              "    <tr style=\"text-align: right;\">\n",
              "      <th></th>\n",
              "      <th>holiday</th>\n",
              "      <th>workingday</th>\n",
              "      <th>temp</th>\n",
              "      <th>atemp</th>\n",
              "      <th>humidity</th>\n",
              "      <th>windspeed</th>\n",
              "      <th>casual</th>\n",
              "      <th>registered</th>\n",
              "      <th>count</th>\n",
              "      <th>year</th>\n",
              "      <th>Day of Week</th>\n",
              "      <th>season_1</th>\n",
              "      <th>season_2</th>\n",
              "      <th>season_3</th>\n",
              "      <th>season_4</th>\n",
              "      <th>weather_1</th>\n",
              "      <th>weather_2</th>\n",
              "      <th>weather_3</th>\n",
              "      <th>weather_4</th>\n",
              "      <th>hour_0</th>\n",
              "      <th>hour_1</th>\n",
              "      <th>hour_2</th>\n",
              "      <th>hour_3</th>\n",
              "      <th>hour_4</th>\n",
              "      <th>hour_5</th>\n",
              "      <th>hour_6</th>\n",
              "      <th>hour_7</th>\n",
              "      <th>hour_8</th>\n",
              "      <th>hour_9</th>\n",
              "      <th>hour_10</th>\n",
              "      <th>hour_11</th>\n",
              "      <th>hour_12</th>\n",
              "      <th>hour_13</th>\n",
              "      <th>hour_14</th>\n",
              "      <th>hour_15</th>\n",
              "      <th>hour_16</th>\n",
              "      <th>hour_17</th>\n",
              "      <th>hour_18</th>\n",
              "      <th>hour_19</th>\n",
              "      <th>hour_20</th>\n",
              "      <th>hour_21</th>\n",
              "      <th>hour_22</th>\n",
              "      <th>hour_23</th>\n",
              "    </tr>\n",
              "  </thead>\n",
              "  <tbody>\n",
              "    <tr>\n",
              "      <th>8708</th>\n",
              "      <td>0</td>\n",
              "      <td>0</td>\n",
              "      <td>1.192201</td>\n",
              "      <td>1.320996</td>\n",
              "      <td>0.629437</td>\n",
              "      <td>0.514237</td>\n",
              "      <td>1</td>\n",
              "      <td>18</td>\n",
              "      <td>19</td>\n",
              "      <td>2012</td>\n",
              "      <td>6</td>\n",
              "      <td>0</td>\n",
              "      <td>0</td>\n",
              "      <td>1</td>\n",
              "      <td>0</td>\n",
              "      <td>1</td>\n",
              "      <td>0</td>\n",
              "      <td>0</td>\n",
              "      <td>0</td>\n",
              "      <td>0</td>\n",
              "      <td>0</td>\n",
              "      <td>0</td>\n",
              "      <td>0</td>\n",
              "      <td>0</td>\n",
              "      <td>1</td>\n",
              "      <td>0</td>\n",
              "      <td>0</td>\n",
              "      <td>0</td>\n",
              "      <td>0</td>\n",
              "      <td>0</td>\n",
              "      <td>0</td>\n",
              "      <td>0</td>\n",
              "      <td>0</td>\n",
              "      <td>0</td>\n",
              "      <td>0</td>\n",
              "      <td>0</td>\n",
              "      <td>0</td>\n",
              "      <td>0</td>\n",
              "      <td>0</td>\n",
              "      <td>0</td>\n",
              "      <td>0</td>\n",
              "      <td>0</td>\n",
              "      <td>0</td>\n",
              "    </tr>\n",
              "    <tr>\n",
              "      <th>8709</th>\n",
              "      <td>0</td>\n",
              "      <td>0</td>\n",
              "      <td>1.192201</td>\n",
              "      <td>1.320996</td>\n",
              "      <td>0.889245</td>\n",
              "      <td>0.514237</td>\n",
              "      <td>7</td>\n",
              "      <td>12</td>\n",
              "      <td>19</td>\n",
              "      <td>2012</td>\n",
              "      <td>6</td>\n",
              "      <td>0</td>\n",
              "      <td>0</td>\n",
              "      <td>1</td>\n",
              "      <td>0</td>\n",
              "      <td>1</td>\n",
              "      <td>0</td>\n",
              "      <td>0</td>\n",
              "      <td>0</td>\n",
              "      <td>0</td>\n",
              "      <td>0</td>\n",
              "      <td>0</td>\n",
              "      <td>0</td>\n",
              "      <td>0</td>\n",
              "      <td>0</td>\n",
              "      <td>1</td>\n",
              "      <td>0</td>\n",
              "      <td>0</td>\n",
              "      <td>0</td>\n",
              "      <td>0</td>\n",
              "      <td>0</td>\n",
              "      <td>0</td>\n",
              "      <td>0</td>\n",
              "      <td>0</td>\n",
              "      <td>0</td>\n",
              "      <td>0</td>\n",
              "      <td>0</td>\n",
              "      <td>0</td>\n",
              "      <td>0</td>\n",
              "      <td>0</td>\n",
              "      <td>0</td>\n",
              "      <td>0</td>\n",
              "      <td>0</td>\n",
              "    </tr>\n",
              "  </tbody>\n",
              "</table>\n",
              "</div>"
            ],
            "text/plain": [
              "      holiday  workingday      temp  ...  hour_21  hour_22  hour_23\n",
              "8708        0           0  1.192201  ...        0        0        0\n",
              "8709        0           0  1.192201  ...        0        0        0\n",
              "\n",
              "[2 rows x 43 columns]"
            ]
          },
          "metadata": {
            "tags": []
          },
          "execution_count": 71
        }
      ]
    },
    {
      "cell_type": "code",
      "metadata": {
        "id": "tlN3bbPBR06o",
        "colab_type": "code",
        "colab": {
          "base_uri": "https://localhost:8080/",
          "height": 799
        },
        "outputId": "fcaef5a0-5f83-4969-a94b-c067a2522459"
      },
      "source": [
        "data_ori.dtypes"
      ],
      "execution_count": 114,
      "outputs": [
        {
          "output_type": "execute_result",
          "data": {
            "text/plain": [
              "holiday          int64\n",
              "workingday       int64\n",
              "temp           float64\n",
              "atemp          float64\n",
              "humidity       float64\n",
              "windspeed      float64\n",
              "casual           int64\n",
              "registered       int64\n",
              "count            int64\n",
              "year             int64\n",
              "Day of Week      int64\n",
              "season_1         uint8\n",
              "season_2         uint8\n",
              "season_3         uint8\n",
              "season_4         uint8\n",
              "weather_1        uint8\n",
              "weather_2        uint8\n",
              "weather_3        uint8\n",
              "weather_4        uint8\n",
              "hour_0           uint8\n",
              "hour_1           uint8\n",
              "hour_2           uint8\n",
              "hour_3           uint8\n",
              "hour_4           uint8\n",
              "hour_5           uint8\n",
              "hour_6           uint8\n",
              "hour_7           uint8\n",
              "hour_8           uint8\n",
              "hour_9           uint8\n",
              "hour_10          uint8\n",
              "hour_11          uint8\n",
              "hour_12          uint8\n",
              "hour_13          uint8\n",
              "hour_14          uint8\n",
              "hour_15          uint8\n",
              "hour_16          uint8\n",
              "hour_17          uint8\n",
              "hour_18          uint8\n",
              "hour_19          uint8\n",
              "hour_20          uint8\n",
              "hour_21          uint8\n",
              "hour_22          uint8\n",
              "hour_23          uint8\n",
              "dtype: object"
            ]
          },
          "metadata": {
            "tags": []
          },
          "execution_count": 114
        }
      ]
    },
    {
      "cell_type": "code",
      "metadata": {
        "id": "eQ79HHzcy2iH",
        "colab_type": "code",
        "colab": {}
      },
      "source": [
        "\n",
        "\n",
        "test1_x, test1_y = split_valid_test_data(test1)"
      ],
      "execution_count": 0,
      "outputs": []
    },
    {
      "cell_type": "code",
      "metadata": {
        "id": "H9XyIm4QRQZa",
        "colab_type": "code",
        "colab": {
          "base_uri": "https://localhost:8080/",
          "height": 248
        },
        "outputId": "042f6cbf-0a6a-4b46-8faa-b4c4ef4b884a"
      },
      "source": [
        "test1_x"
      ],
      "execution_count": 67,
      "outputs": [
        {
          "output_type": "execute_result",
          "data": {
            "text/plain": [
              "array([[ 0.        ,  0.        ,  1.19220087, ...,  0.        ,\n",
              "         0.        ,  0.        ],\n",
              "       [ 0.        ,  0.        ,  1.19220087, ...,  0.        ,\n",
              "         0.        ,  0.        ],\n",
              "       [ 0.        ,  0.        ,  1.29744255, ...,  0.        ,\n",
              "         0.        ,  0.        ],\n",
              "       ...,\n",
              "       [ 0.        ,  1.        , -0.80739104, ...,  1.        ,\n",
              "         0.        ,  0.        ],\n",
              "       [ 0.        ,  1.        , -0.80739104, ...,  0.        ,\n",
              "         1.        ,  0.        ],\n",
              "       [ 0.        ,  1.        , -0.91263272, ...,  0.        ,\n",
              "         0.        ,  1.        ]])"
            ]
          },
          "metadata": {
            "tags": []
          },
          "execution_count": 67
        }
      ]
    },
    {
      "cell_type": "code",
      "metadata": {
        "id": "VLrnRodN1sYD",
        "colab_type": "code",
        "outputId": "9b9bf6e3-4fca-42f0-e558-b4cfa7645832",
        "colab": {
          "base_uri": "https://localhost:8080/",
          "height": 35
        }
      },
      "source": [
        "scores=NN_model.evaluate(test1_x,test1_y)\n"
      ],
      "execution_count": 63,
      "outputs": [
        {
          "output_type": "stream",
          "text": [
            "2178/2178 [==============================] - 0s 40us/step\n"
          ],
          "name": "stdout"
        }
      ]
    },
    {
      "cell_type": "code",
      "metadata": {
        "id": "wIzdJo-PHQdf",
        "colab_type": "code",
        "outputId": "8e009caf-9728-4dae-ca15-db3f46fdfb24",
        "colab": {
          "base_uri": "https://localhost:8080/",
          "height": 35
        }
      },
      "source": [
        "print(NN_model.metrics_names)"
      ],
      "execution_count": 64,
      "outputs": [
        {
          "output_type": "stream",
          "text": [
            "['loss', 'mean_absolute_error', 'mean_squared_error', 'rmse']\n"
          ],
          "name": "stdout"
        }
      ]
    },
    {
      "cell_type": "code",
      "metadata": {
        "id": "sXhqEwBfHRV8",
        "colab_type": "code",
        "colab": {}
      },
      "source": [
        "test1_loss=scores[0]\n",
        "test1_mae=scores[1]\n",
        "test1_mse=scores[2]\n",
        "test1_rmse=scores[3]"
      ],
      "execution_count": 0,
      "outputs": []
    },
    {
      "cell_type": "code",
      "metadata": {
        "id": "EEVlSgfUH-NQ",
        "colab_type": "code",
        "outputId": "06843fb5-4dea-4491-e695-21b8351296e9",
        "colab": {
          "base_uri": "https://localhost:8080/",
          "height": 35
        }
      },
      "source": [
        "test1_mae"
      ],
      "execution_count": 66,
      "outputs": [
        {
          "output_type": "execute_result",
          "data": {
            "text/plain": [
              "131.669765861238"
            ]
          },
          "metadata": {
            "tags": []
          },
          "execution_count": 66
        }
      ]
    },
    {
      "cell_type": "code",
      "metadata": {
        "scrolled": true,
        "id": "rmMSt4JbK87b",
        "colab_type": "code",
        "colab": {}
      },
      "source": [
        "#making predictions\n",
        "prediction=NN_model.predict(predict_rest)"
      ],
      "execution_count": 0,
      "outputs": []
    },
    {
      "cell_type": "code",
      "metadata": {
        "id": "C-Cqy8gLn2I7",
        "colab_type": "code",
        "colab": {
          "base_uri": "https://localhost:8080/",
          "height": 35
        },
        "outputId": "45d8c1b4-a178-473f-bf2c-b080edc7544a"
      },
      "source": [
        "prediction[0][0]"
      ],
      "execution_count": 150,
      "outputs": [
        {
          "output_type": "execute_result",
          "data": {
            "text/plain": [
              "626.5452"
            ]
          },
          "metadata": {
            "tags": []
          },
          "execution_count": 150
        }
      ]
    },
    {
      "cell_type": "code",
      "metadata": {
        "id": "AAEyRASvK870",
        "colab_type": "code",
        "outputId": "1f0d339a-ed6c-44c5-bc6e-fbbf44efca24",
        "colab": {
          "base_uri": "https://localhost:8080/",
          "height": 343
        }
      },
      "source": [
        "\n",
        "evaluation=test_original['datetime'].to_frame()\n",
        "evaluation[\"count\"]=prediction\n",
        "evaluation[:10]"
      ],
      "execution_count": 0,
      "outputs": [
        {
          "output_type": "execute_result",
          "data": {
            "text/html": [
              "<div>\n",
              "<style scoped>\n",
              "    .dataframe tbody tr th:only-of-type {\n",
              "        vertical-align: middle;\n",
              "    }\n",
              "\n",
              "    .dataframe tbody tr th {\n",
              "        vertical-align: top;\n",
              "    }\n",
              "\n",
              "    .dataframe thead th {\n",
              "        text-align: right;\n",
              "    }\n",
              "</style>\n",
              "<table border=\"1\" class=\"dataframe\">\n",
              "  <thead>\n",
              "    <tr style=\"text-align: right;\">\n",
              "      <th></th>\n",
              "      <th>datetime</th>\n",
              "      <th>count</th>\n",
              "    </tr>\n",
              "  </thead>\n",
              "  <tbody>\n",
              "    <tr>\n",
              "      <th>0</th>\n",
              "      <td>2011-01-20 00:00:00</td>\n",
              "      <td>12.484183</td>\n",
              "    </tr>\n",
              "    <tr>\n",
              "      <th>1</th>\n",
              "      <td>2011-01-20 01:00:00</td>\n",
              "      <td>5.482817</td>\n",
              "    </tr>\n",
              "    <tr>\n",
              "      <th>2</th>\n",
              "      <td>2011-01-20 02:00:00</td>\n",
              "      <td>3.354281</td>\n",
              "    </tr>\n",
              "    <tr>\n",
              "      <th>3</th>\n",
              "      <td>2011-01-20 03:00:00</td>\n",
              "      <td>2.179120</td>\n",
              "    </tr>\n",
              "    <tr>\n",
              "      <th>4</th>\n",
              "      <td>2011-01-20 04:00:00</td>\n",
              "      <td>2.121344</td>\n",
              "    </tr>\n",
              "    <tr>\n",
              "      <th>5</th>\n",
              "      <td>2011-01-20 05:00:00</td>\n",
              "      <td>10.160122</td>\n",
              "    </tr>\n",
              "    <tr>\n",
              "      <th>6</th>\n",
              "      <td>2011-01-20 06:00:00</td>\n",
              "      <td>55.021420</td>\n",
              "    </tr>\n",
              "    <tr>\n",
              "      <th>7</th>\n",
              "      <td>2011-01-20 07:00:00</td>\n",
              "      <td>150.138443</td>\n",
              "    </tr>\n",
              "    <tr>\n",
              "      <th>8</th>\n",
              "      <td>2011-01-20 08:00:00</td>\n",
              "      <td>280.271149</td>\n",
              "    </tr>\n",
              "    <tr>\n",
              "      <th>9</th>\n",
              "      <td>2011-01-20 09:00:00</td>\n",
              "      <td>132.132675</td>\n",
              "    </tr>\n",
              "  </tbody>\n",
              "</table>\n",
              "</div>"
            ],
            "text/plain": [
              "              datetime       count\n",
              "0  2011-01-20 00:00:00   12.484183\n",
              "1  2011-01-20 01:00:00    5.482817\n",
              "2  2011-01-20 02:00:00    3.354281\n",
              "3  2011-01-20 03:00:00    2.179120\n",
              "4  2011-01-20 04:00:00    2.121344\n",
              "5  2011-01-20 05:00:00   10.160122\n",
              "6  2011-01-20 06:00:00   55.021420\n",
              "7  2011-01-20 07:00:00  150.138443\n",
              "8  2011-01-20 08:00:00  280.271149\n",
              "9  2011-01-20 09:00:00  132.132675"
            ]
          },
          "metadata": {
            "tags": []
          },
          "execution_count": 265
        }
      ]
    },
    {
      "cell_type": "code",
      "metadata": {
        "id": "AgFo6HpqP8On",
        "colab_type": "code",
        "outputId": "2f272635-4d34-4bd5-a54d-499cc9f6e068",
        "colab": {
          "base_uri": "https://localhost:8080/",
          "height": 1000
        }
      },
      "source": [
        "evaluation[\"count\"] = evaluation[\"count\"].astype(int)\n",
        "evaluation[\"count\"]"
      ],
      "execution_count": 0,
      "outputs": [
        {
          "output_type": "execute_result",
          "data": {
            "text/plain": [
              "0        14\n",
              "1         7\n",
              "2         4\n",
              "3         2\n",
              "4         2\n",
              "5        13\n",
              "6        47\n",
              "7       152\n",
              "8       262\n",
              "9       136\n",
              "10       69\n",
              "11       74\n",
              "12      107\n",
              "13       86\n",
              "14       79\n",
              "15       84\n",
              "16      119\n",
              "17      259\n",
              "18      203\n",
              "19      141\n",
              "20       91\n",
              "21       68\n",
              "22       49\n",
              "23       32\n",
              "24       12\n",
              "25        5\n",
              "26        3\n",
              "27        2\n",
              "28        2\n",
              "29       12\n",
              "       ... \n",
              "6463     99\n",
              "6464    115\n",
              "6465     59\n",
              "6466     51\n",
              "6467     38\n",
              "6468     29\n",
              "6469     13\n",
              "6470      6\n",
              "6471      3\n",
              "6472      2\n",
              "6473      2\n",
              "6474     12\n",
              "6475     45\n",
              "6476    133\n",
              "6477    223\n",
              "6478    131\n",
              "6479     61\n",
              "6480     66\n",
              "6481     80\n",
              "6482     86\n",
              "6483     78\n",
              "6484     85\n",
              "6485    110\n",
              "6486    244\n",
              "6487    222\n",
              "6488    145\n",
              "6489    103\n",
              "6490     90\n",
              "6491     73\n",
              "6492     42\n",
              "Name: count, Length: 6493, dtype: int64"
            ]
          },
          "metadata": {
            "tags": []
          },
          "execution_count": 179
        }
      ]
    },
    {
      "cell_type": "code",
      "metadata": {
        "id": "Au3vnaLuP9jH",
        "colab_type": "code",
        "colab": {}
      },
      "source": [
        "evaluation.to_csv(\"submissionv19.csv\",index=False)"
      ],
      "execution_count": 0,
      "outputs": []
    }
  ]
}
{
  "nbformat": 4,
  "nbformat_minor": 0,
  "metadata": {
    "colab": {
      "name": "Untitled4.ipynb",
      "version": "0.3.2",
      "provenance": [],
      "include_colab_link": true
    },
    "kernelspec": {
      "name": "python3",
      "display_name": "Python 3"
    }
  },
  "cells": [
    {
      "cell_type": "markdown",
      "metadata": {
        "id": "view-in-github",
        "colab_type": "text"
      },
      "source": [
        "<a href=\"https://colab.research.google.com/github/brontominds/bounce.demo/blob/Ver0.01a/Bounce_assignment_monday_plus_hour_MAE.ipynb\" target=\"_parent\"><img src=\"https://colab.research.google.com/assets/colab-badge.svg\" alt=\"Open In Colab\"/></a>"
      ]
    },
    {
      "cell_type": "code",
      "metadata": {
        "id": "di2rZZ5ttr_s",
        "colab_type": "code",
        "colab": {}
      },
      "source": [
        "import pandas as pd\n",
        "from sklearn.utils import shuffle"
      ],
      "execution_count": 0,
      "outputs": []
    },
    {
      "cell_type": "code",
      "metadata": {
        "id": "FzJEKyoittpG",
        "colab_type": "code",
        "colab": {}
      },
      "source": [
        "data=pd.read_csv(\"train.csv\")#Making it Relative Path -Mayank\n",
        "data_ori=data.copy()"
      ],
      "execution_count": 0,
      "outputs": []
    },
    {
      "cell_type": "code",
      "metadata": {
        "id": "Pm8NY9YAtwR5",
        "colab_type": "code",
        "colab": {}
      },
      "source": [
        "import matplotlib.pyplot as plt  # For plotting graphs \n",
        "from datetime import datetime    # To access datetime \n",
        "        \n",
        "%matplotlib inline"
      ],
      "execution_count": 0,
      "outputs": []
    },
    {
      "cell_type": "code",
      "metadata": {
        "id": "M46KLnFytzHA",
        "colab_type": "code",
        "colab": {}
      },
      "source": [
        "def datetime(df):\n",
        "  from datetime import datetime\n",
        "  df['datetime'] = pd.to_datetime(df['datetime'])\n",
        "  df['year'] = df['datetime'].dt.year \n",
        "  #df['day'] = df['datetime'].dt.day \n",
        "  df['hour'] = df['datetime'].dt.hour\n",
        "  df['date'] = df['datetime'].dt.date\n",
        "  df['Day of Week'] = df['datetime'].apply(lambda time: time.dayofweek)\n",
        "  \n",
        "  return df"
      ],
      "execution_count": 0,
      "outputs": []
    },
    {
      "cell_type": "code",
      "metadata": {
        "id": "zsciuSkTt3XP",
        "colab_type": "code",
        "colab": {}
      },
      "source": [
        "data_ori=datetime(data_ori)"
      ],
      "execution_count": 0,
      "outputs": []
    },
    {
      "cell_type": "code",
      "metadata": {
        "id": "s_L8QkopyKXg",
        "colab_type": "code",
        "colab": {}
      },
      "source": [
        "def normalize(df,columns):\n",
        "    result=df.copy()\n",
        "    for feature_name in columns :\n",
        "        mean_value = df[feature_name].mean()\n",
        "        std_value = df[feature_name].std()\n",
        "        result[feature_name] = (df[feature_name] - mean_value) / std_value\n",
        "        \n",
        "    return result"
      ],
      "execution_count": 0,
      "outputs": []
    },
    {
      "cell_type": "code",
      "metadata": {
        "id": "ZpnaQN28yMup",
        "colab_type": "code",
        "colab": {}
      },
      "source": [
        "data_ori=normalize(data_ori,[\"temp\",\"atemp\",\"humidity\",\"windspeed\"])"
      ],
      "execution_count": 0,
      "outputs": []
    },
    {
      "cell_type": "code",
      "metadata": {
        "id": "l5isIRDNuEFy",
        "colab_type": "code",
        "outputId": "78f3f453-50b2-4cbf-f5cd-2db0b6fdba53",
        "colab": {
          "base_uri": "https://localhost:8080/",
          "height": 195
        }
      },
      "source": [
        "data_ori.head()"
      ],
      "execution_count": 32,
      "outputs": [
        {
          "output_type": "execute_result",
          "data": {
            "text/html": [
              "<div>\n",
              "<style scoped>\n",
              "    .dataframe tbody tr th:only-of-type {\n",
              "        vertical-align: middle;\n",
              "    }\n",
              "\n",
              "    .dataframe tbody tr th {\n",
              "        vertical-align: top;\n",
              "    }\n",
              "\n",
              "    .dataframe thead th {\n",
              "        text-align: right;\n",
              "    }\n",
              "</style>\n",
              "<table border=\"1\" class=\"dataframe\">\n",
              "  <thead>\n",
              "    <tr style=\"text-align: right;\">\n",
              "      <th></th>\n",
              "      <th>datetime</th>\n",
              "      <th>season</th>\n",
              "      <th>holiday</th>\n",
              "      <th>workingday</th>\n",
              "      <th>weather</th>\n",
              "      <th>temp</th>\n",
              "      <th>atemp</th>\n",
              "      <th>humidity</th>\n",
              "      <th>windspeed</th>\n",
              "      <th>casual</th>\n",
              "      <th>registered</th>\n",
              "      <th>count</th>\n",
              "      <th>year</th>\n",
              "      <th>hour</th>\n",
              "      <th>date</th>\n",
              "      <th>Day of Week</th>\n",
              "    </tr>\n",
              "  </thead>\n",
              "  <tbody>\n",
              "    <tr>\n",
              "      <th>0</th>\n",
              "      <td>2011-01-01 00:00:00</td>\n",
              "      <td>1</td>\n",
              "      <td>0</td>\n",
              "      <td>0</td>\n",
              "      <td>1</td>\n",
              "      <td>-1.333599</td>\n",
              "      <td>-1.092687</td>\n",
              "      <td>0.993167</td>\n",
              "      <td>-1.567682</td>\n",
              "      <td>3</td>\n",
              "      <td>13</td>\n",
              "      <td>16</td>\n",
              "      <td>2011</td>\n",
              "      <td>0</td>\n",
              "      <td>2011-01-01</td>\n",
              "      <td>5</td>\n",
              "    </tr>\n",
              "    <tr>\n",
              "      <th>1</th>\n",
              "      <td>2011-01-01 01:00:00</td>\n",
              "      <td>1</td>\n",
              "      <td>0</td>\n",
              "      <td>0</td>\n",
              "      <td>1</td>\n",
              "      <td>-1.438841</td>\n",
              "      <td>-1.182367</td>\n",
              "      <td>0.941206</td>\n",
              "      <td>-1.567682</td>\n",
              "      <td>8</td>\n",
              "      <td>32</td>\n",
              "      <td>40</td>\n",
              "      <td>2011</td>\n",
              "      <td>1</td>\n",
              "      <td>2011-01-01</td>\n",
              "      <td>5</td>\n",
              "    </tr>\n",
              "    <tr>\n",
              "      <th>2</th>\n",
              "      <td>2011-01-01 02:00:00</td>\n",
              "      <td>1</td>\n",
              "      <td>0</td>\n",
              "      <td>0</td>\n",
              "      <td>1</td>\n",
              "      <td>-1.438841</td>\n",
              "      <td>-1.182367</td>\n",
              "      <td>0.941206</td>\n",
              "      <td>-1.567682</td>\n",
              "      <td>5</td>\n",
              "      <td>27</td>\n",
              "      <td>32</td>\n",
              "      <td>2011</td>\n",
              "      <td>2</td>\n",
              "      <td>2011-01-01</td>\n",
              "      <td>5</td>\n",
              "    </tr>\n",
              "    <tr>\n",
              "      <th>3</th>\n",
              "      <td>2011-01-01 03:00:00</td>\n",
              "      <td>1</td>\n",
              "      <td>0</td>\n",
              "      <td>0</td>\n",
              "      <td>1</td>\n",
              "      <td>-1.333599</td>\n",
              "      <td>-1.092687</td>\n",
              "      <td>0.681399</td>\n",
              "      <td>-1.567682</td>\n",
              "      <td>3</td>\n",
              "      <td>10</td>\n",
              "      <td>13</td>\n",
              "      <td>2011</td>\n",
              "      <td>3</td>\n",
              "      <td>2011-01-01</td>\n",
              "      <td>5</td>\n",
              "    </tr>\n",
              "    <tr>\n",
              "      <th>4</th>\n",
              "      <td>2011-01-01 04:00:00</td>\n",
              "      <td>1</td>\n",
              "      <td>0</td>\n",
              "      <td>0</td>\n",
              "      <td>1</td>\n",
              "      <td>-1.333599</td>\n",
              "      <td>-1.092687</td>\n",
              "      <td>0.681399</td>\n",
              "      <td>-1.567682</td>\n",
              "      <td>0</td>\n",
              "      <td>1</td>\n",
              "      <td>1</td>\n",
              "      <td>2011</td>\n",
              "      <td>4</td>\n",
              "      <td>2011-01-01</td>\n",
              "      <td>5</td>\n",
              "    </tr>\n",
              "  </tbody>\n",
              "</table>\n",
              "</div>"
            ],
            "text/plain": [
              "             datetime  season  holiday  ...  hour        date  Day of Week\n",
              "0 2011-01-01 00:00:00       1        0  ...     0  2011-01-01            5\n",
              "1 2011-01-01 01:00:00       1        0  ...     1  2011-01-01            5\n",
              "2 2011-01-01 02:00:00       1        0  ...     2  2011-01-01            5\n",
              "3 2011-01-01 03:00:00       1        0  ...     3  2011-01-01            5\n",
              "4 2011-01-01 04:00:00       1        0  ...     4  2011-01-01            5\n",
              "\n",
              "[5 rows x 16 columns]"
            ]
          },
          "metadata": {
            "tags": []
          },
          "execution_count": 32
        }
      ]
    },
    {
      "cell_type": "code",
      "metadata": {
        "id": "EEVH9_s8Np8F",
        "colab_type": "code",
        "outputId": "ff88a8f4-1813-46b1-82e3-c67ff8a7c9d5",
        "colab": {
          "base_uri": "https://localhost:8080/",
          "height": 151
        }
      },
      "source": [
        "data_ori['Day of Week'].value_counts()"
      ],
      "execution_count": 33,
      "outputs": [
        {
          "output_type": "execute_result",
          "data": {
            "text/plain": [
              "5    1584\n",
              "6    1579\n",
              "3    1553\n",
              "2    1551\n",
              "0    1551\n",
              "1    1539\n",
              "4    1529\n",
              "Name: Day of Week, dtype: int64"
            ]
          },
          "metadata": {
            "tags": []
          },
          "execution_count": 33
        }
      ]
    },
    {
      "cell_type": "code",
      "metadata": {
        "id": "5EN6ijjpVBDn",
        "colab_type": "code",
        "colab": {}
      },
      "source": [
        "data_ori=data_ori[data_ori['Day of Week']==0]\n",
        "data_ori=data_ori[data_ori['hour']==17]"
      ],
      "execution_count": 0,
      "outputs": []
    },
    {
      "cell_type": "code",
      "metadata": {
        "id": "eeJ4O3jFVmNt",
        "colab_type": "code",
        "outputId": "eca52d80-e038-4371-d25b-f72a826cb068",
        "colab": {
          "base_uri": "https://localhost:8080/",
          "height": 195
        }
      },
      "source": [
        "data_ori.head()"
      ],
      "execution_count": 35,
      "outputs": [
        {
          "output_type": "execute_result",
          "data": {
            "text/html": [
              "<div>\n",
              "<style scoped>\n",
              "    .dataframe tbody tr th:only-of-type {\n",
              "        vertical-align: middle;\n",
              "    }\n",
              "\n",
              "    .dataframe tbody tr th {\n",
              "        vertical-align: top;\n",
              "    }\n",
              "\n",
              "    .dataframe thead th {\n",
              "        text-align: right;\n",
              "    }\n",
              "</style>\n",
              "<table border=\"1\" class=\"dataframe\">\n",
              "  <thead>\n",
              "    <tr style=\"text-align: right;\">\n",
              "      <th></th>\n",
              "      <th>datetime</th>\n",
              "      <th>season</th>\n",
              "      <th>holiday</th>\n",
              "      <th>workingday</th>\n",
              "      <th>weather</th>\n",
              "      <th>temp</th>\n",
              "      <th>atemp</th>\n",
              "      <th>humidity</th>\n",
              "      <th>windspeed</th>\n",
              "      <th>casual</th>\n",
              "      <th>registered</th>\n",
              "      <th>count</th>\n",
              "      <th>year</th>\n",
              "      <th>hour</th>\n",
              "      <th>date</th>\n",
              "      <th>Day of Week</th>\n",
              "    </tr>\n",
              "  </thead>\n",
              "  <tbody>\n",
              "    <tr>\n",
              "      <th>62</th>\n",
              "      <td>2011-01-03 17:00:00</td>\n",
              "      <td>1</td>\n",
              "      <td>0</td>\n",
              "      <td>1</td>\n",
              "      <td>1</td>\n",
              "      <td>-1.333599</td>\n",
              "      <td>-1.450226</td>\n",
              "      <td>-1.656867</td>\n",
              "      <td>0.269691</td>\n",
              "      <td>11</td>\n",
              "      <td>146</td>\n",
              "      <td>157</td>\n",
              "      <td>2011</td>\n",
              "      <td>17</td>\n",
              "      <td>2011-01-03</td>\n",
              "      <td>0</td>\n",
              "    </tr>\n",
              "    <tr>\n",
              "      <th>226</th>\n",
              "      <td>2011-01-10 17:00:00</td>\n",
              "      <td>1</td>\n",
              "      <td>0</td>\n",
              "      <td>1</td>\n",
              "      <td>1</td>\n",
              "      <td>-1.544083</td>\n",
              "      <td>-1.450226</td>\n",
              "      <td>-1.137252</td>\n",
              "      <td>-0.710132</td>\n",
              "      <td>4</td>\n",
              "      <td>174</td>\n",
              "      <td>178</td>\n",
              "      <td>2011</td>\n",
              "      <td>17</td>\n",
              "      <td>2011-01-10</td>\n",
              "      <td>0</td>\n",
              "    </tr>\n",
              "    <tr>\n",
              "      <th>389</th>\n",
              "      <td>2011-01-17 17:00:00</td>\n",
              "      <td>1</td>\n",
              "      <td>1</td>\n",
              "      <td>0</td>\n",
              "      <td>1</td>\n",
              "      <td>-1.544083</td>\n",
              "      <td>-1.628995</td>\n",
              "      <td>-0.565676</td>\n",
              "      <td>0.024325</td>\n",
              "      <td>4</td>\n",
              "      <td>67</td>\n",
              "      <td>71</td>\n",
              "      <td>2011</td>\n",
              "      <td>17</td>\n",
              "      <td>2011-01-17</td>\n",
              "      <td>0</td>\n",
              "    </tr>\n",
              "    <tr>\n",
              "      <th>589</th>\n",
              "      <td>2011-02-07 17:00:00</td>\n",
              "      <td>1</td>\n",
              "      <td>0</td>\n",
              "      <td>1</td>\n",
              "      <td>2</td>\n",
              "      <td>-0.912633</td>\n",
              "      <td>-0.913917</td>\n",
              "      <td>0.421591</td>\n",
              "      <td>-0.220220</td>\n",
              "      <td>9</td>\n",
              "      <td>207</td>\n",
              "      <td>216</td>\n",
              "      <td>2011</td>\n",
              "      <td>17</td>\n",
              "      <td>2011-02-07</td>\n",
              "      <td>0</td>\n",
              "    </tr>\n",
              "    <tr>\n",
              "      <th>752</th>\n",
              "      <td>2011-02-14 17:00:00</td>\n",
              "      <td>1</td>\n",
              "      <td>0</td>\n",
              "      <td>1</td>\n",
              "      <td>1</td>\n",
              "      <td>-0.175941</td>\n",
              "      <td>-0.109750</td>\n",
              "      <td>-1.500983</td>\n",
              "      <td>3.453705</td>\n",
              "      <td>25</td>\n",
              "      <td>218</td>\n",
              "      <td>243</td>\n",
              "      <td>2011</td>\n",
              "      <td>17</td>\n",
              "      <td>2011-02-14</td>\n",
              "      <td>0</td>\n",
              "    </tr>\n",
              "  </tbody>\n",
              "</table>\n",
              "</div>"
            ],
            "text/plain": [
              "               datetime  season  holiday  ...  hour        date  Day of Week\n",
              "62  2011-01-03 17:00:00       1        0  ...    17  2011-01-03            0\n",
              "226 2011-01-10 17:00:00       1        0  ...    17  2011-01-10            0\n",
              "389 2011-01-17 17:00:00       1        1  ...    17  2011-01-17            0\n",
              "589 2011-02-07 17:00:00       1        0  ...    17  2011-02-07            0\n",
              "752 2011-02-14 17:00:00       1        0  ...    17  2011-02-14            0\n",
              "\n",
              "[5 rows x 16 columns]"
            ]
          },
          "metadata": {
            "tags": []
          },
          "execution_count": 35
        }
      ]
    },
    {
      "cell_type": "code",
      "metadata": {
        "id": "H1MMx46gWSOd",
        "colab_type": "code",
        "colab": {}
      },
      "source": [
        "data_ori=data_ori.sort_values(by='datetime',ascending=False)"
      ],
      "execution_count": 0,
      "outputs": []
    },
    {
      "cell_type": "code",
      "metadata": {
        "id": "DXNxxvADnqwi",
        "colab_type": "code",
        "outputId": "74203fe9-b143-4e36-ea24-9cc672e61db3",
        "colab": {
          "base_uri": "https://localhost:8080/",
          "height": 195
        }
      },
      "source": [
        "data_ori.head()\n"
      ],
      "execution_count": 37,
      "outputs": [
        {
          "output_type": "execute_result",
          "data": {
            "text/html": [
              "<div>\n",
              "<style scoped>\n",
              "    .dataframe tbody tr th:only-of-type {\n",
              "        vertical-align: middle;\n",
              "    }\n",
              "\n",
              "    .dataframe tbody tr th {\n",
              "        vertical-align: top;\n",
              "    }\n",
              "\n",
              "    .dataframe thead th {\n",
              "        text-align: right;\n",
              "    }\n",
              "</style>\n",
              "<table border=\"1\" class=\"dataframe\">\n",
              "  <thead>\n",
              "    <tr style=\"text-align: right;\">\n",
              "      <th></th>\n",
              "      <th>datetime</th>\n",
              "      <th>season</th>\n",
              "      <th>holiday</th>\n",
              "      <th>workingday</th>\n",
              "      <th>weather</th>\n",
              "      <th>temp</th>\n",
              "      <th>atemp</th>\n",
              "      <th>humidity</th>\n",
              "      <th>windspeed</th>\n",
              "      <th>casual</th>\n",
              "      <th>registered</th>\n",
              "      <th>count</th>\n",
              "      <th>year</th>\n",
              "      <th>hour</th>\n",
              "      <th>date</th>\n",
              "      <th>Day of Week</th>\n",
              "    </tr>\n",
              "  </thead>\n",
              "  <tbody>\n",
              "    <tr>\n",
              "      <th>10831</th>\n",
              "      <td>2012-12-17 17:00:00</td>\n",
              "      <td>4</td>\n",
              "      <td>0</td>\n",
              "      <td>1</td>\n",
              "      <td>2</td>\n",
              "      <td>-0.491666</td>\n",
              "      <td>-0.377609</td>\n",
              "      <td>1.668666</td>\n",
              "      <td>0.514237</td>\n",
              "      <td>17</td>\n",
              "      <td>478</td>\n",
              "      <td>495</td>\n",
              "      <td>2012</td>\n",
              "      <td>17</td>\n",
              "      <td>2012-12-17</td>\n",
              "      <td>0</td>\n",
              "    </tr>\n",
              "    <tr>\n",
              "      <th>10663</th>\n",
              "      <td>2012-12-10 17:00:00</td>\n",
              "      <td>4</td>\n",
              "      <td>0</td>\n",
              "      <td>1</td>\n",
              "      <td>2</td>\n",
              "      <td>-0.070699</td>\n",
              "      <td>-0.020070</td>\n",
              "      <td>1.045129</td>\n",
              "      <td>0.759603</td>\n",
              "      <td>38</td>\n",
              "      <td>578</td>\n",
              "      <td>616</td>\n",
              "      <td>2012</td>\n",
              "      <td>17</td>\n",
              "      <td>2012-12-10</td>\n",
              "      <td>0</td>\n",
              "    </tr>\n",
              "    <tr>\n",
              "      <th>10495</th>\n",
              "      <td>2012-12-03 17:00:00</td>\n",
              "      <td>4</td>\n",
              "      <td>0</td>\n",
              "      <td>1</td>\n",
              "      <td>1</td>\n",
              "      <td>0.139784</td>\n",
              "      <td>0.158700</td>\n",
              "      <td>0.057861</td>\n",
              "      <td>-0.710132</td>\n",
              "      <td>43</td>\n",
              "      <td>665</td>\n",
              "      <td>708</td>\n",
              "      <td>2012</td>\n",
              "      <td>17</td>\n",
              "      <td>2012-12-03</td>\n",
              "      <td>0</td>\n",
              "    </tr>\n",
              "    <tr>\n",
              "      <th>10423</th>\n",
              "      <td>2012-11-19 17:00:00</td>\n",
              "      <td>4</td>\n",
              "      <td>0</td>\n",
              "      <td>1</td>\n",
              "      <td>2</td>\n",
              "      <td>-0.386424</td>\n",
              "      <td>-0.288519</td>\n",
              "      <td>-0.201946</td>\n",
              "      <td>0.024325</td>\n",
              "      <td>33</td>\n",
              "      <td>586</td>\n",
              "      <td>619</td>\n",
              "      <td>2012</td>\n",
              "      <td>17</td>\n",
              "      <td>2012-11-19</td>\n",
              "      <td>0</td>\n",
              "    </tr>\n",
              "    <tr>\n",
              "      <th>10255</th>\n",
              "      <td>2012-11-12 17:00:00</td>\n",
              "      <td>4</td>\n",
              "      <td>1</td>\n",
              "      <td>0</td>\n",
              "      <td>1</td>\n",
              "      <td>0.350267</td>\n",
              "      <td>0.337469</td>\n",
              "      <td>0.109823</td>\n",
              "      <td>0.759603</td>\n",
              "      <td>66</td>\n",
              "      <td>530</td>\n",
              "      <td>596</td>\n",
              "      <td>2012</td>\n",
              "      <td>17</td>\n",
              "      <td>2012-11-12</td>\n",
              "      <td>0</td>\n",
              "    </tr>\n",
              "  </tbody>\n",
              "</table>\n",
              "</div>"
            ],
            "text/plain": [
              "                 datetime  season  holiday  ...  hour        date  Day of Week\n",
              "10831 2012-12-17 17:00:00       4        0  ...    17  2012-12-17            0\n",
              "10663 2012-12-10 17:00:00       4        0  ...    17  2012-12-10            0\n",
              "10495 2012-12-03 17:00:00       4        0  ...    17  2012-12-03            0\n",
              "10423 2012-11-19 17:00:00       4        0  ...    17  2012-11-19            0\n",
              "10255 2012-11-12 17:00:00       4        1  ...    17  2012-11-12            0\n",
              "\n",
              "[5 rows x 16 columns]"
            ]
          },
          "metadata": {
            "tags": []
          },
          "execution_count": 37
        }
      ]
    },
    {
      "cell_type": "code",
      "metadata": {
        "id": "EhwdyK70yho_",
        "colab_type": "code",
        "colab": {}
      },
      "source": [
        "#data_ori['Predicted']=0"
      ],
      "execution_count": 0,
      "outputs": []
    },
    {
      "cell_type": "code",
      "metadata": {
        "id": "2lVL5bCHqPTc",
        "colab_type": "code",
        "colab": {
          "base_uri": "https://localhost:8080/",
          "height": 145
        },
        "outputId": "26d700f1-66f9-4006-d916-445217bf1d61"
      },
      "source": [
        "\n",
        "'''''def mean(df):\n",
        "  for i in range(0,len(df)-10):\n",
        "    mean=df['count'].iloc[i+1:i+11].mean()\n",
        "    df.iat[i,17]=mean\n",
        "    #print(mean)\n",
        "     return df''''''"
      ],
      "execution_count": 18,
      "outputs": [
        {
          "output_type": "error",
          "ename": "SyntaxError",
          "evalue": "ignored",
          "traceback": [
            "\u001b[0;36m  File \u001b[0;32m\"<ipython-input-18-3389ce25a1da>\"\u001b[0;36m, line \u001b[0;32m7\u001b[0m\n\u001b[0;31m    return df''''''\u001b[0m\n\u001b[0m                   \n^\u001b[0m\n\u001b[0;31mSyntaxError\u001b[0m\u001b[0;31m:\u001b[0m EOF while scanning triple-quoted string literal\n"
          ]
        }
      ]
    },
    {
      "cell_type": "code",
      "metadata": {
        "id": "9yuvGi3B0TSC",
        "colab_type": "code",
        "colab": {}
      },
      "source": [
        "#d1=mean(data_ori)"
      ],
      "execution_count": 0,
      "outputs": []
    },
    {
      "cell_type": "code",
      "metadata": {
        "id": "TjCsVpv16jA_",
        "colab_type": "code",
        "colab": {}
      },
      "source": [
        "#d1.tail(20)"
      ],
      "execution_count": 0,
      "outputs": []
    },
    {
      "cell_type": "code",
      "metadata": {
        "id": "CaVxe7w79dxJ",
        "colab_type": "code",
        "colab": {}
      },
      "source": [
        "#d1.drop(d1.tail(10).index,inplace=True)"
      ],
      "execution_count": 0,
      "outputs": []
    },
    {
      "cell_type": "code",
      "metadata": {
        "id": "dc3wIBtyAF5A",
        "colab_type": "code",
        "colab": {}
      },
      "source": [
        "#d1.loc[10828]"
      ],
      "execution_count": 0,
      "outputs": []
    },
    {
      "cell_type": "code",
      "metadata": {
        "id": "Jp5KMD46-x1S",
        "colab_type": "code",
        "colab": {}
      },
      "source": [
        "#y_true=d1['count']\n",
        "#y_pred=d1['Predicted']"
      ],
      "execution_count": 0,
      "outputs": []
    },
    {
      "cell_type": "code",
      "metadata": {
        "id": "28LAgiIV_vh5",
        "colab_type": "code",
        "colab": {}
      },
      "source": [
        "data_ori['predicted']=data_ori['count'].rolling(window=10).mean()"
      ],
      "execution_count": 0,
      "outputs": []
    },
    {
      "cell_type": "code",
      "metadata": {
        "id": "VdH93qFfJ0DQ",
        "colab_type": "code",
        "colab": {
          "base_uri": "https://localhost:8080/",
          "height": 639
        },
        "outputId": "94de6e3d-5b4f-46e1-c0d5-55af9d991d7a"
      },
      "source": [
        "data_ori.head(20)"
      ],
      "execution_count": 40,
      "outputs": [
        {
          "output_type": "execute_result",
          "data": {
            "text/html": [
              "<div>\n",
              "<style scoped>\n",
              "    .dataframe tbody tr th:only-of-type {\n",
              "        vertical-align: middle;\n",
              "    }\n",
              "\n",
              "    .dataframe tbody tr th {\n",
              "        vertical-align: top;\n",
              "    }\n",
              "\n",
              "    .dataframe thead th {\n",
              "        text-align: right;\n",
              "    }\n",
              "</style>\n",
              "<table border=\"1\" class=\"dataframe\">\n",
              "  <thead>\n",
              "    <tr style=\"text-align: right;\">\n",
              "      <th></th>\n",
              "      <th>datetime</th>\n",
              "      <th>season</th>\n",
              "      <th>holiday</th>\n",
              "      <th>workingday</th>\n",
              "      <th>weather</th>\n",
              "      <th>temp</th>\n",
              "      <th>atemp</th>\n",
              "      <th>humidity</th>\n",
              "      <th>windspeed</th>\n",
              "      <th>casual</th>\n",
              "      <th>registered</th>\n",
              "      <th>count</th>\n",
              "      <th>year</th>\n",
              "      <th>hour</th>\n",
              "      <th>date</th>\n",
              "      <th>Day of Week</th>\n",
              "      <th>predicted</th>\n",
              "    </tr>\n",
              "  </thead>\n",
              "  <tbody>\n",
              "    <tr>\n",
              "      <th>9296</th>\n",
              "      <td>2012-09-10 17:00:00</td>\n",
              "      <td>3</td>\n",
              "      <td>0</td>\n",
              "      <td>1</td>\n",
              "      <td>1</td>\n",
              "      <td>0.876476</td>\n",
              "      <td>0.873778</td>\n",
              "      <td>-1.449021</td>\n",
              "      <td>1.127241</td>\n",
              "      <td>127</td>\n",
              "      <td>744</td>\n",
              "      <td>871</td>\n",
              "      <td>2012</td>\n",
              "      <td>17</td>\n",
              "      <td>2012-09-10</td>\n",
              "      <td>0</td>\n",
              "      <td>NaN</td>\n",
              "    </tr>\n",
              "    <tr>\n",
              "      <th>9128</th>\n",
              "      <td>2012-09-03 17:00:00</td>\n",
              "      <td>3</td>\n",
              "      <td>1</td>\n",
              "      <td>0</td>\n",
              "      <td>1</td>\n",
              "      <td>1.297443</td>\n",
              "      <td>1.320996</td>\n",
              "      <td>0.421591</td>\n",
              "      <td>-0.465586</td>\n",
              "      <td>181</td>\n",
              "      <td>317</td>\n",
              "      <td>498</td>\n",
              "      <td>2012</td>\n",
              "      <td>17</td>\n",
              "      <td>2012-09-03</td>\n",
              "      <td>0</td>\n",
              "      <td>NaN</td>\n",
              "    </tr>\n",
              "    <tr>\n",
              "      <th>8912</th>\n",
              "      <td>2012-08-13 17:00:00</td>\n",
              "      <td>3</td>\n",
              "      <td>0</td>\n",
              "      <td>1</td>\n",
              "      <td>1</td>\n",
              "      <td>1.613168</td>\n",
              "      <td>1.410086</td>\n",
              "      <td>-1.345098</td>\n",
              "      <td>-0.220220</td>\n",
              "      <td>102</td>\n",
              "      <td>716</td>\n",
              "      <td>818</td>\n",
              "      <td>2012</td>\n",
              "      <td>17</td>\n",
              "      <td>2012-08-13</td>\n",
              "      <td>0</td>\n",
              "      <td>NaN</td>\n",
              "    </tr>\n",
              "    <tr>\n",
              "      <th>8744</th>\n",
              "      <td>2012-08-06 17:00:00</td>\n",
              "      <td>3</td>\n",
              "      <td>0</td>\n",
              "      <td>1</td>\n",
              "      <td>1</td>\n",
              "      <td>1.718409</td>\n",
              "      <td>1.588856</td>\n",
              "      <td>-1.085291</td>\n",
              "      <td>-1.567682</td>\n",
              "      <td>112</td>\n",
              "      <td>746</td>\n",
              "      <td>858</td>\n",
              "      <td>2012</td>\n",
              "      <td>17</td>\n",
              "      <td>2012-08-06</td>\n",
              "      <td>0</td>\n",
              "      <td>NaN</td>\n",
              "    </tr>\n",
              "    <tr>\n",
              "      <th>8528</th>\n",
              "      <td>2012-07-16 17:00:00</td>\n",
              "      <td>3</td>\n",
              "      <td>0</td>\n",
              "      <td>1</td>\n",
              "      <td>3</td>\n",
              "      <td>1.402684</td>\n",
              "      <td>1.499766</td>\n",
              "      <td>0.213746</td>\n",
              "      <td>3.209160</td>\n",
              "      <td>86</td>\n",
              "      <td>669</td>\n",
              "      <td>755</td>\n",
              "      <td>2012</td>\n",
              "      <td>17</td>\n",
              "      <td>2012-07-16</td>\n",
              "      <td>0</td>\n",
              "      <td>NaN</td>\n",
              "    </tr>\n",
              "    <tr>\n",
              "      <th>8360</th>\n",
              "      <td>2012-07-09 17:00:00</td>\n",
              "      <td>3</td>\n",
              "      <td>0</td>\n",
              "      <td>1</td>\n",
              "      <td>1</td>\n",
              "      <td>1.507926</td>\n",
              "      <td>1.320996</td>\n",
              "      <td>-1.137252</td>\n",
              "      <td>-0.220220</td>\n",
              "      <td>108</td>\n",
              "      <td>741</td>\n",
              "      <td>849</td>\n",
              "      <td>2012</td>\n",
              "      <td>17</td>\n",
              "      <td>2012-07-09</td>\n",
              "      <td>0</td>\n",
              "      <td>NaN</td>\n",
              "    </tr>\n",
              "    <tr>\n",
              "      <th>8192</th>\n",
              "      <td>2012-07-02 17:00:00</td>\n",
              "      <td>3</td>\n",
              "      <td>0</td>\n",
              "      <td>1</td>\n",
              "      <td>1</td>\n",
              "      <td>1.823651</td>\n",
              "      <td>1.499766</td>\n",
              "      <td>-1.552944</td>\n",
              "      <td>-0.465586</td>\n",
              "      <td>82</td>\n",
              "      <td>665</td>\n",
              "      <td>747</td>\n",
              "      <td>2012</td>\n",
              "      <td>17</td>\n",
              "      <td>2012-07-02</td>\n",
              "      <td>0</td>\n",
              "      <td>NaN</td>\n",
              "    </tr>\n",
              "    <tr>\n",
              "      <th>8120</th>\n",
              "      <td>2012-06-18 17:00:00</td>\n",
              "      <td>2</td>\n",
              "      <td>0</td>\n",
              "      <td>1</td>\n",
              "      <td>2</td>\n",
              "      <td>0.560751</td>\n",
              "      <td>0.695008</td>\n",
              "      <td>0.577476</td>\n",
              "      <td>0.024325</td>\n",
              "      <td>54</td>\n",
              "      <td>669</td>\n",
              "      <td>723</td>\n",
              "      <td>2012</td>\n",
              "      <td>17</td>\n",
              "      <td>2012-06-18</td>\n",
              "      <td>0</td>\n",
              "      <td>NaN</td>\n",
              "    </tr>\n",
              "    <tr>\n",
              "      <th>7952</th>\n",
              "      <td>2012-06-11 17:00:00</td>\n",
              "      <td>2</td>\n",
              "      <td>0</td>\n",
              "      <td>1</td>\n",
              "      <td>2</td>\n",
              "      <td>1.613168</td>\n",
              "      <td>1.410086</td>\n",
              "      <td>-1.085291</td>\n",
              "      <td>1.371787</td>\n",
              "      <td>85</td>\n",
              "      <td>715</td>\n",
              "      <td>800</td>\n",
              "      <td>2012</td>\n",
              "      <td>17</td>\n",
              "      <td>2012-06-11</td>\n",
              "      <td>0</td>\n",
              "      <td>NaN</td>\n",
              "    </tr>\n",
              "    <tr>\n",
              "      <th>7784</th>\n",
              "      <td>2012-06-04 17:00:00</td>\n",
              "      <td>2</td>\n",
              "      <td>0</td>\n",
              "      <td>1</td>\n",
              "      <td>1</td>\n",
              "      <td>0.771234</td>\n",
              "      <td>0.873778</td>\n",
              "      <td>-1.241175</td>\n",
              "      <td>2.107064</td>\n",
              "      <td>101</td>\n",
              "      <td>733</td>\n",
              "      <td>834</td>\n",
              "      <td>2012</td>\n",
              "      <td>17</td>\n",
              "      <td>2012-06-04</td>\n",
              "      <td>0</td>\n",
              "      <td>775.3</td>\n",
              "    </tr>\n",
              "    <tr>\n",
              "      <th>7568</th>\n",
              "      <td>2012-05-14 17:00:00</td>\n",
              "      <td>2</td>\n",
              "      <td>0</td>\n",
              "      <td>1</td>\n",
              "      <td>3</td>\n",
              "      <td>0.350267</td>\n",
              "      <td>0.337469</td>\n",
              "      <td>1.356898</td>\n",
              "      <td>0.514237</td>\n",
              "      <td>25</td>\n",
              "      <td>204</td>\n",
              "      <td>229</td>\n",
              "      <td>2012</td>\n",
              "      <td>17</td>\n",
              "      <td>2012-05-14</td>\n",
              "      <td>0</td>\n",
              "      <td>711.1</td>\n",
              "    </tr>\n",
              "    <tr>\n",
              "      <th>7400</th>\n",
              "      <td>2012-05-07 17:00:00</td>\n",
              "      <td>2</td>\n",
              "      <td>0</td>\n",
              "      <td>1</td>\n",
              "      <td>2</td>\n",
              "      <td>0.560751</td>\n",
              "      <td>0.873778</td>\n",
              "      <td>-0.461753</td>\n",
              "      <td>1.127241</td>\n",
              "      <td>102</td>\n",
              "      <td>667</td>\n",
              "      <td>769</td>\n",
              "      <td>2012</td>\n",
              "      <td>17</td>\n",
              "      <td>2012-05-07</td>\n",
              "      <td>0</td>\n",
              "      <td>738.2</td>\n",
              "    </tr>\n",
              "    <tr>\n",
              "      <th>7160</th>\n",
              "      <td>2012-04-16 17:00:00</td>\n",
              "      <td>2</td>\n",
              "      <td>1</td>\n",
              "      <td>0</td>\n",
              "      <td>1</td>\n",
              "      <td>1.613168</td>\n",
              "      <td>1.320996</td>\n",
              "      <td>-1.500983</td>\n",
              "      <td>1.617153</td>\n",
              "      <td>111</td>\n",
              "      <td>601</td>\n",
              "      <td>712</td>\n",
              "      <td>2012</td>\n",
              "      <td>17</td>\n",
              "      <td>2012-04-16</td>\n",
              "      <td>0</td>\n",
              "      <td>727.6</td>\n",
              "    </tr>\n",
              "    <tr>\n",
              "      <th>6993</th>\n",
              "      <td>2012-04-09 17:00:00</td>\n",
              "      <td>2</td>\n",
              "      <td>0</td>\n",
              "      <td>1</td>\n",
              "      <td>1</td>\n",
              "      <td>0.245026</td>\n",
              "      <td>0.248379</td>\n",
              "      <td>-1.552944</td>\n",
              "      <td>1.861698</td>\n",
              "      <td>67</td>\n",
              "      <td>565</td>\n",
              "      <td>632</td>\n",
              "      <td>2012</td>\n",
              "      <td>17</td>\n",
              "      <td>2012-04-09</td>\n",
              "      <td>0</td>\n",
              "      <td>705.0</td>\n",
              "    </tr>\n",
              "    <tr>\n",
              "      <th>6825</th>\n",
              "      <td>2012-04-02 17:00:00</td>\n",
              "      <td>2</td>\n",
              "      <td>0</td>\n",
              "      <td>1</td>\n",
              "      <td>1</td>\n",
              "      <td>0.034542</td>\n",
              "      <td>0.069020</td>\n",
              "      <td>-1.708828</td>\n",
              "      <td>0.759603</td>\n",
              "      <td>128</td>\n",
              "      <td>601</td>\n",
              "      <td>729</td>\n",
              "      <td>2012</td>\n",
              "      <td>17</td>\n",
              "      <td>2012-04-02</td>\n",
              "      <td>0</td>\n",
              "      <td>702.4</td>\n",
              "    </tr>\n",
              "    <tr>\n",
              "      <th>6778</th>\n",
              "      <td>2012-03-19 17:00:00</td>\n",
              "      <td>1</td>\n",
              "      <td>0</td>\n",
              "      <td>1</td>\n",
              "      <td>1</td>\n",
              "      <td>0.771234</td>\n",
              "      <td>0.873778</td>\n",
              "      <td>-0.461753</td>\n",
              "      <td>0.269691</td>\n",
              "      <td>106</td>\n",
              "      <td>615</td>\n",
              "      <td>721</td>\n",
              "      <td>2012</td>\n",
              "      <td>17</td>\n",
              "      <td>2012-03-19</td>\n",
              "      <td>0</td>\n",
              "      <td>689.6</td>\n",
              "    </tr>\n",
              "    <tr>\n",
              "      <th>6610</th>\n",
              "      <td>2012-03-12 17:00:00</td>\n",
              "      <td>1</td>\n",
              "      <td>0</td>\n",
              "      <td>1</td>\n",
              "      <td>2</td>\n",
              "      <td>0.665992</td>\n",
              "      <td>0.873778</td>\n",
              "      <td>-1.241175</td>\n",
              "      <td>1.861698</td>\n",
              "      <td>87</td>\n",
              "      <td>557</td>\n",
              "      <td>644</td>\n",
              "      <td>2012</td>\n",
              "      <td>17</td>\n",
              "      <td>2012-03-12</td>\n",
              "      <td>0</td>\n",
              "      <td>679.3</td>\n",
              "    </tr>\n",
              "    <tr>\n",
              "      <th>6443</th>\n",
              "      <td>2012-03-05 17:00:00</td>\n",
              "      <td>1</td>\n",
              "      <td>0</td>\n",
              "      <td>1</td>\n",
              "      <td>3</td>\n",
              "      <td>-1.017874</td>\n",
              "      <td>-1.182367</td>\n",
              "      <td>-0.877445</td>\n",
              "      <td>0.881875</td>\n",
              "      <td>11</td>\n",
              "      <td>376</td>\n",
              "      <td>387</td>\n",
              "      <td>2012</td>\n",
              "      <td>17</td>\n",
              "      <td>2012-03-05</td>\n",
              "      <td>0</td>\n",
              "      <td>645.7</td>\n",
              "    </tr>\n",
              "    <tr>\n",
              "      <th>6179</th>\n",
              "      <td>2012-02-13 17:00:00</td>\n",
              "      <td>1</td>\n",
              "      <td>0</td>\n",
              "      <td>1</td>\n",
              "      <td>1</td>\n",
              "      <td>-0.702149</td>\n",
              "      <td>-0.735148</td>\n",
              "      <td>-2.020597</td>\n",
              "      <td>0.024325</td>\n",
              "      <td>8</td>\n",
              "      <td>399</td>\n",
              "      <td>407</td>\n",
              "      <td>2012</td>\n",
              "      <td>17</td>\n",
              "      <td>2012-02-13</td>\n",
              "      <td>0</td>\n",
              "      <td>606.4</td>\n",
              "    </tr>\n",
              "    <tr>\n",
              "      <th>6011</th>\n",
              "      <td>2012-02-06 17:00:00</td>\n",
              "      <td>1</td>\n",
              "      <td>0</td>\n",
              "      <td>1</td>\n",
              "      <td>1</td>\n",
              "      <td>-0.491666</td>\n",
              "      <td>-0.377609</td>\n",
              "      <td>-0.981368</td>\n",
              "      <td>0.514237</td>\n",
              "      <td>13</td>\n",
              "      <td>417</td>\n",
              "      <td>430</td>\n",
              "      <td>2012</td>\n",
              "      <td>17</td>\n",
              "      <td>2012-02-06</td>\n",
              "      <td>0</td>\n",
              "      <td>566.0</td>\n",
              "    </tr>\n",
              "  </tbody>\n",
              "</table>\n",
              "</div>"
            ],
            "text/plain": [
              "                datetime  season  holiday  ...        date  Day of Week  predicted\n",
              "9296 2012-09-10 17:00:00       3        0  ...  2012-09-10            0        NaN\n",
              "9128 2012-09-03 17:00:00       3        1  ...  2012-09-03            0        NaN\n",
              "8912 2012-08-13 17:00:00       3        0  ...  2012-08-13            0        NaN\n",
              "8744 2012-08-06 17:00:00       3        0  ...  2012-08-06            0        NaN\n",
              "8528 2012-07-16 17:00:00       3        0  ...  2012-07-16            0        NaN\n",
              "8360 2012-07-09 17:00:00       3        0  ...  2012-07-09            0        NaN\n",
              "8192 2012-07-02 17:00:00       3        0  ...  2012-07-02            0        NaN\n",
              "8120 2012-06-18 17:00:00       2        0  ...  2012-06-18            0        NaN\n",
              "7952 2012-06-11 17:00:00       2        0  ...  2012-06-11            0        NaN\n",
              "7784 2012-06-04 17:00:00       2        0  ...  2012-06-04            0      775.3\n",
              "7568 2012-05-14 17:00:00       2        0  ...  2012-05-14            0      711.1\n",
              "7400 2012-05-07 17:00:00       2        0  ...  2012-05-07            0      738.2\n",
              "7160 2012-04-16 17:00:00       2        1  ...  2012-04-16            0      727.6\n",
              "6993 2012-04-09 17:00:00       2        0  ...  2012-04-09            0      705.0\n",
              "6825 2012-04-02 17:00:00       2        0  ...  2012-04-02            0      702.4\n",
              "6778 2012-03-19 17:00:00       1        0  ...  2012-03-19            0      689.6\n",
              "6610 2012-03-12 17:00:00       1        0  ...  2012-03-12            0      679.3\n",
              "6443 2012-03-05 17:00:00       1        0  ...  2012-03-05            0      645.7\n",
              "6179 2012-02-13 17:00:00       1        0  ...  2012-02-13            0      606.4\n",
              "6011 2012-02-06 17:00:00       1        0  ...  2012-02-06            0      566.0\n",
              "\n",
              "[20 rows x 17 columns]"
            ]
          },
          "metadata": {
            "tags": []
          },
          "execution_count": 40
        }
      ]
    },
    {
      "cell_type": "code",
      "metadata": {
        "id": "hdTgQ7kiKExv",
        "colab_type": "code",
        "colab": {}
      },
      "source": [
        "data_ori.drop(data_ori.head(10).index,inplace=True)"
      ],
      "execution_count": 0,
      "outputs": []
    },
    {
      "cell_type": "code",
      "metadata": {
        "id": "GPTqtFFXKwJQ",
        "colab_type": "code",
        "colab": {
          "base_uri": "https://localhost:8080/",
          "height": 343
        },
        "outputId": "869adba3-d45a-4bb2-d5bb-0ca9669b1d36"
      },
      "source": [
        "data_ori.head(10)"
      ],
      "execution_count": 42,
      "outputs": [
        {
          "output_type": "execute_result",
          "data": {
            "text/html": [
              "<div>\n",
              "<style scoped>\n",
              "    .dataframe tbody tr th:only-of-type {\n",
              "        vertical-align: middle;\n",
              "    }\n",
              "\n",
              "    .dataframe tbody tr th {\n",
              "        vertical-align: top;\n",
              "    }\n",
              "\n",
              "    .dataframe thead th {\n",
              "        text-align: right;\n",
              "    }\n",
              "</style>\n",
              "<table border=\"1\" class=\"dataframe\">\n",
              "  <thead>\n",
              "    <tr style=\"text-align: right;\">\n",
              "      <th></th>\n",
              "      <th>datetime</th>\n",
              "      <th>season</th>\n",
              "      <th>holiday</th>\n",
              "      <th>workingday</th>\n",
              "      <th>weather</th>\n",
              "      <th>temp</th>\n",
              "      <th>atemp</th>\n",
              "      <th>humidity</th>\n",
              "      <th>windspeed</th>\n",
              "      <th>casual</th>\n",
              "      <th>registered</th>\n",
              "      <th>count</th>\n",
              "      <th>year</th>\n",
              "      <th>hour</th>\n",
              "      <th>date</th>\n",
              "      <th>Day of Week</th>\n",
              "      <th>predicted</th>\n",
              "    </tr>\n",
              "  </thead>\n",
              "  <tbody>\n",
              "    <tr>\n",
              "      <th>7568</th>\n",
              "      <td>2012-05-14 17:00:00</td>\n",
              "      <td>2</td>\n",
              "      <td>0</td>\n",
              "      <td>1</td>\n",
              "      <td>3</td>\n",
              "      <td>0.350267</td>\n",
              "      <td>0.337469</td>\n",
              "      <td>1.356898</td>\n",
              "      <td>0.514237</td>\n",
              "      <td>25</td>\n",
              "      <td>204</td>\n",
              "      <td>229</td>\n",
              "      <td>2012</td>\n",
              "      <td>17</td>\n",
              "      <td>2012-05-14</td>\n",
              "      <td>0</td>\n",
              "      <td>711.1</td>\n",
              "    </tr>\n",
              "    <tr>\n",
              "      <th>7400</th>\n",
              "      <td>2012-05-07 17:00:00</td>\n",
              "      <td>2</td>\n",
              "      <td>0</td>\n",
              "      <td>1</td>\n",
              "      <td>2</td>\n",
              "      <td>0.560751</td>\n",
              "      <td>0.873778</td>\n",
              "      <td>-0.461753</td>\n",
              "      <td>1.127241</td>\n",
              "      <td>102</td>\n",
              "      <td>667</td>\n",
              "      <td>769</td>\n",
              "      <td>2012</td>\n",
              "      <td>17</td>\n",
              "      <td>2012-05-07</td>\n",
              "      <td>0</td>\n",
              "      <td>738.2</td>\n",
              "    </tr>\n",
              "    <tr>\n",
              "      <th>7160</th>\n",
              "      <td>2012-04-16 17:00:00</td>\n",
              "      <td>2</td>\n",
              "      <td>1</td>\n",
              "      <td>0</td>\n",
              "      <td>1</td>\n",
              "      <td>1.613168</td>\n",
              "      <td>1.320996</td>\n",
              "      <td>-1.500983</td>\n",
              "      <td>1.617153</td>\n",
              "      <td>111</td>\n",
              "      <td>601</td>\n",
              "      <td>712</td>\n",
              "      <td>2012</td>\n",
              "      <td>17</td>\n",
              "      <td>2012-04-16</td>\n",
              "      <td>0</td>\n",
              "      <td>727.6</td>\n",
              "    </tr>\n",
              "    <tr>\n",
              "      <th>6993</th>\n",
              "      <td>2012-04-09 17:00:00</td>\n",
              "      <td>2</td>\n",
              "      <td>0</td>\n",
              "      <td>1</td>\n",
              "      <td>1</td>\n",
              "      <td>0.245026</td>\n",
              "      <td>0.248379</td>\n",
              "      <td>-1.552944</td>\n",
              "      <td>1.861698</td>\n",
              "      <td>67</td>\n",
              "      <td>565</td>\n",
              "      <td>632</td>\n",
              "      <td>2012</td>\n",
              "      <td>17</td>\n",
              "      <td>2012-04-09</td>\n",
              "      <td>0</td>\n",
              "      <td>705.0</td>\n",
              "    </tr>\n",
              "    <tr>\n",
              "      <th>6825</th>\n",
              "      <td>2012-04-02 17:00:00</td>\n",
              "      <td>2</td>\n",
              "      <td>0</td>\n",
              "      <td>1</td>\n",
              "      <td>1</td>\n",
              "      <td>0.034542</td>\n",
              "      <td>0.069020</td>\n",
              "      <td>-1.708828</td>\n",
              "      <td>0.759603</td>\n",
              "      <td>128</td>\n",
              "      <td>601</td>\n",
              "      <td>729</td>\n",
              "      <td>2012</td>\n",
              "      <td>17</td>\n",
              "      <td>2012-04-02</td>\n",
              "      <td>0</td>\n",
              "      <td>702.4</td>\n",
              "    </tr>\n",
              "    <tr>\n",
              "      <th>6778</th>\n",
              "      <td>2012-03-19 17:00:00</td>\n",
              "      <td>1</td>\n",
              "      <td>0</td>\n",
              "      <td>1</td>\n",
              "      <td>1</td>\n",
              "      <td>0.771234</td>\n",
              "      <td>0.873778</td>\n",
              "      <td>-0.461753</td>\n",
              "      <td>0.269691</td>\n",
              "      <td>106</td>\n",
              "      <td>615</td>\n",
              "      <td>721</td>\n",
              "      <td>2012</td>\n",
              "      <td>17</td>\n",
              "      <td>2012-03-19</td>\n",
              "      <td>0</td>\n",
              "      <td>689.6</td>\n",
              "    </tr>\n",
              "    <tr>\n",
              "      <th>6610</th>\n",
              "      <td>2012-03-12 17:00:00</td>\n",
              "      <td>1</td>\n",
              "      <td>0</td>\n",
              "      <td>1</td>\n",
              "      <td>2</td>\n",
              "      <td>0.665992</td>\n",
              "      <td>0.873778</td>\n",
              "      <td>-1.241175</td>\n",
              "      <td>1.861698</td>\n",
              "      <td>87</td>\n",
              "      <td>557</td>\n",
              "      <td>644</td>\n",
              "      <td>2012</td>\n",
              "      <td>17</td>\n",
              "      <td>2012-03-12</td>\n",
              "      <td>0</td>\n",
              "      <td>679.3</td>\n",
              "    </tr>\n",
              "    <tr>\n",
              "      <th>6443</th>\n",
              "      <td>2012-03-05 17:00:00</td>\n",
              "      <td>1</td>\n",
              "      <td>0</td>\n",
              "      <td>1</td>\n",
              "      <td>3</td>\n",
              "      <td>-1.017874</td>\n",
              "      <td>-1.182367</td>\n",
              "      <td>-0.877445</td>\n",
              "      <td>0.881875</td>\n",
              "      <td>11</td>\n",
              "      <td>376</td>\n",
              "      <td>387</td>\n",
              "      <td>2012</td>\n",
              "      <td>17</td>\n",
              "      <td>2012-03-05</td>\n",
              "      <td>0</td>\n",
              "      <td>645.7</td>\n",
              "    </tr>\n",
              "    <tr>\n",
              "      <th>6179</th>\n",
              "      <td>2012-02-13 17:00:00</td>\n",
              "      <td>1</td>\n",
              "      <td>0</td>\n",
              "      <td>1</td>\n",
              "      <td>1</td>\n",
              "      <td>-0.702149</td>\n",
              "      <td>-0.735148</td>\n",
              "      <td>-2.020597</td>\n",
              "      <td>0.024325</td>\n",
              "      <td>8</td>\n",
              "      <td>399</td>\n",
              "      <td>407</td>\n",
              "      <td>2012</td>\n",
              "      <td>17</td>\n",
              "      <td>2012-02-13</td>\n",
              "      <td>0</td>\n",
              "      <td>606.4</td>\n",
              "    </tr>\n",
              "    <tr>\n",
              "      <th>6011</th>\n",
              "      <td>2012-02-06 17:00:00</td>\n",
              "      <td>1</td>\n",
              "      <td>0</td>\n",
              "      <td>1</td>\n",
              "      <td>1</td>\n",
              "      <td>-0.491666</td>\n",
              "      <td>-0.377609</td>\n",
              "      <td>-0.981368</td>\n",
              "      <td>0.514237</td>\n",
              "      <td>13</td>\n",
              "      <td>417</td>\n",
              "      <td>430</td>\n",
              "      <td>2012</td>\n",
              "      <td>17</td>\n",
              "      <td>2012-02-06</td>\n",
              "      <td>0</td>\n",
              "      <td>566.0</td>\n",
              "    </tr>\n",
              "  </tbody>\n",
              "</table>\n",
              "</div>"
            ],
            "text/plain": [
              "                datetime  season  holiday  ...        date  Day of Week  predicted\n",
              "7568 2012-05-14 17:00:00       2        0  ...  2012-05-14            0      711.1\n",
              "7400 2012-05-07 17:00:00       2        0  ...  2012-05-07            0      738.2\n",
              "7160 2012-04-16 17:00:00       2        1  ...  2012-04-16            0      727.6\n",
              "6993 2012-04-09 17:00:00       2        0  ...  2012-04-09            0      705.0\n",
              "6825 2012-04-02 17:00:00       2        0  ...  2012-04-02            0      702.4\n",
              "6778 2012-03-19 17:00:00       1        0  ...  2012-03-19            0      689.6\n",
              "6610 2012-03-12 17:00:00       1        0  ...  2012-03-12            0      679.3\n",
              "6443 2012-03-05 17:00:00       1        0  ...  2012-03-05            0      645.7\n",
              "6179 2012-02-13 17:00:00       1        0  ...  2012-02-13            0      606.4\n",
              "6011 2012-02-06 17:00:00       1        0  ...  2012-02-06            0      566.0\n",
              "\n",
              "[10 rows x 17 columns]"
            ]
          },
          "metadata": {
            "tags": []
          },
          "execution_count": 42
        }
      ]
    },
    {
      "cell_type": "code",
      "metadata": {
        "id": "bblOwQoQK1PG",
        "colab_type": "code",
        "colab": {}
      },
      "source": [
        "y_true=data_ori['count']\n",
        "y_pred=data_ori['predicted']"
      ],
      "execution_count": 0,
      "outputs": []
    },
    {
      "cell_type": "code",
      "metadata": {
        "id": "0fLHpu0ZKpAz",
        "colab_type": "code",
        "colab": {
          "base_uri": "https://localhost:8080/",
          "height": 34
        },
        "outputId": "6c095766-e2dd-4ef0-92d2-120797f073f6"
      },
      "source": [
        "from sklearn.metrics import mean_absolute_error\n",
        "mean_absolute_error(y_true, y_pred)"
      ],
      "execution_count": 44,
      "outputs": [
        {
          "output_type": "execute_result",
          "data": {
            "text/plain": [
              "131.01777777777778"
            ]
          },
          "metadata": {
            "tags": []
          },
          "execution_count": 44
        }
      ]
    },
    {
      "cell_type": "code",
      "metadata": {
        "id": "T5gJriHOypy8",
        "colab_type": "code",
        "outputId": "6675dcf0-fdd9-45f0-8235-39871e8c7c28",
        "colab": {
          "base_uri": "https://localhost:8080/",
          "height": 202
        }
      },
      "source": [
        "df['count'].iloc[1:11]"
      ],
      "execution_count": 0,
      "outputs": [
        {
          "output_type": "execute_result",
          "data": {
            "text/plain": [
              "10836     54\n",
              "10835    120\n",
              "10834    200\n",
              "10833    340\n",
              "10832    507\n",
              "10831    495\n",
              "10830    302\n",
              "10829    211\n",
              "10828    181\n",
              "10827    210\n",
              "Name: count, dtype: int64"
            ]
          },
          "metadata": {
            "tags": []
          },
          "execution_count": 551
        }
      ]
    },
    {
      "cell_type": "code",
      "metadata": {
        "id": "nfaEbtkj40U1",
        "colab_type": "code",
        "outputId": "cade05db-28c2-43a3-c9ad-4fea34ba4032",
        "colab": {
          "base_uri": "https://localhost:8080/",
          "height": 110
        }
      },
      "source": [
        "df.head(1)"
      ],
      "execution_count": 0,
      "outputs": [
        {
          "output_type": "execute_result",
          "data": {
            "text/html": [
              "<div>\n",
              "<style scoped>\n",
              "    .dataframe tbody tr th:only-of-type {\n",
              "        vertical-align: middle;\n",
              "    }\n",
              "\n",
              "    .dataframe tbody tr th {\n",
              "        vertical-align: top;\n",
              "    }\n",
              "\n",
              "    .dataframe thead th {\n",
              "        text-align: right;\n",
              "    }\n",
              "</style>\n",
              "<table border=\"1\" class=\"dataframe\">\n",
              "  <thead>\n",
              "    <tr style=\"text-align: right;\">\n",
              "      <th></th>\n",
              "      <th>datetime</th>\n",
              "      <th>season</th>\n",
              "      <th>holiday</th>\n",
              "      <th>workingday</th>\n",
              "      <th>weather</th>\n",
              "      <th>temp</th>\n",
              "      <th>atemp</th>\n",
              "      <th>humidity</th>\n",
              "      <th>windspeed</th>\n",
              "      <th>casual</th>\n",
              "      <th>registered</th>\n",
              "      <th>count</th>\n",
              "      <th>year</th>\n",
              "      <th>day</th>\n",
              "      <th>hour</th>\n",
              "      <th>date</th>\n",
              "      <th>Day of Week</th>\n",
              "      <th>Predicted</th>\n",
              "    </tr>\n",
              "  </thead>\n",
              "  <tbody>\n",
              "    <tr>\n",
              "      <th>10837</th>\n",
              "      <td>2012-12-17 23:00:00</td>\n",
              "      <td>4</td>\n",
              "      <td>0</td>\n",
              "      <td>1</td>\n",
              "      <td>3</td>\n",
              "      <td>-0.386424</td>\n",
              "      <td>-0.288519</td>\n",
              "      <td>1.668666</td>\n",
              "      <td>0.269691</td>\n",
              "      <td>6</td>\n",
              "      <td>41</td>\n",
              "      <td>47</td>\n",
              "      <td>2012</td>\n",
              "      <td>17</td>\n",
              "      <td>23</td>\n",
              "      <td>2012-12-17</td>\n",
              "      <td>0</td>\n",
              "      <td>0</td>\n",
              "    </tr>\n",
              "  </tbody>\n",
              "</table>\n",
              "</div>"
            ],
            "text/plain": [
              "                 datetime  season  holiday  ...        date  Day of Week  Predicted\n",
              "10837 2012-12-17 23:00:00       4        0  ...  2012-12-17            0          0\n",
              "\n",
              "[1 rows x 18 columns]"
            ]
          },
          "metadata": {
            "tags": []
          },
          "execution_count": 545
        }
      ]
    },
    {
      "cell_type": "code",
      "metadata": {
        "id": "49JbjD6auiFL",
        "colab_type": "code",
        "colab": {}
      },
      "source": [
        "def dummy_data(data, columns):\n",
        "    for column in columns:\n",
        "        data = pd.concat([data, pd.get_dummies(data[column], prefix=column)], axis=1)\n",
        "        data = data.drop(column, axis=1)\n",
        "    return data"
      ],
      "execution_count": 0,
      "outputs": []
    },
    {
      "cell_type": "code",
      "metadata": {
        "id": "F5u2fMvou3Vm",
        "colab_type": "code",
        "colab": {}
      },
      "source": [
        "data_ori = dummy_data(data_ori, [\"season\",\"weather\",\"hour\"])"
      ],
      "execution_count": 0,
      "outputs": []
    },
    {
      "cell_type": "code",
      "metadata": {
        "id": "EGX7AQxEyoXq",
        "colab_type": "code",
        "colab": {}
      },
      "source": [
        "data_ori=data_ori.drop(['datetime'],axis=1)"
      ],
      "execution_count": 0,
      "outputs": []
    },
    {
      "cell_type": "code",
      "metadata": {
        "id": "CPr2-dUHwvMO",
        "colab_type": "code",
        "colab": {}
      },
      "source": [
        "''''data=shuffle(data_ori,random_state=1)\n",
        "nrows = len(data_ori)\n",
        "training_validation_rows = int(nrows*0.8)\n",
        "data=data_ori[0:training_validation_rows-1]\n",
        "test1=data_ori[training_validation_rows:]'''"
      ],
      "execution_count": 0,
      "outputs": []
    },
    {
      "cell_type": "code",
      "metadata": {
        "id": "ZRH8vIOQ9Vpq",
        "colab_type": "code",
        "colab": {}
      },
      "source": [
        ""
      ],
      "execution_count": 0,
      "outputs": []
    },
    {
      "cell_type": "code",
      "metadata": {
        "id": "P_NJlmFZxBUt",
        "colab_type": "code",
        "outputId": "85cfa976-347c-45cc-fff1-a9e3ee8d10ea",
        "colab": {
          "base_uri": "https://localhost:8080/",
          "height": 34
        }
      },
      "source": [
        "#data.shape"
      ],
      "execution_count": 0,
      "outputs": [
        {
          "output_type": "execute_result",
          "data": {
            "text/plain": [
              "(10886, 12)"
            ]
          },
          "metadata": {
            "tags": []
          },
          "execution_count": 176
        }
      ]
    },
    {
      "cell_type": "code",
      "metadata": {
        "id": "xFt3axCMxCpG",
        "colab_type": "code",
        "colab": {}
      },
      "source": [
        "#test1.shape"
      ],
      "execution_count": 0,
      "outputs": []
    },
    {
      "cell_type": "code",
      "metadata": {
        "id": "79dvJUPAYDxn",
        "colab_type": "code",
        "outputId": "cf8ad080-9ad3-409e-fdb1-d7c970be40f6",
        "colab": {
          "base_uri": "https://localhost:8080/",
          "height": 249
        }
      },
      "source": [
        "data_ori.head()"
      ],
      "execution_count": 0,
      "outputs": [
        {
          "output_type": "execute_result",
          "data": {
            "text/html": [
              "<div>\n",
              "<style scoped>\n",
              "    .dataframe tbody tr th:only-of-type {\n",
              "        vertical-align: middle;\n",
              "    }\n",
              "\n",
              "    .dataframe tbody tr th {\n",
              "        vertical-align: top;\n",
              "    }\n",
              "\n",
              "    .dataframe thead th {\n",
              "        text-align: right;\n",
              "    }\n",
              "</style>\n",
              "<table border=\"1\" class=\"dataframe\">\n",
              "  <thead>\n",
              "    <tr style=\"text-align: right;\">\n",
              "      <th></th>\n",
              "      <th>holiday</th>\n",
              "      <th>workingday</th>\n",
              "      <th>temp</th>\n",
              "      <th>atemp</th>\n",
              "      <th>humidity</th>\n",
              "      <th>windspeed</th>\n",
              "      <th>casual</th>\n",
              "      <th>registered</th>\n",
              "      <th>count</th>\n",
              "      <th>year</th>\n",
              "      <th>day</th>\n",
              "      <th>Day of Week</th>\n",
              "      <th>season_1</th>\n",
              "      <th>weather_1</th>\n",
              "      <th>hour_0</th>\n",
              "      <th>hour_14</th>\n",
              "      <th>hour_15</th>\n",
              "      <th>hour_16</th>\n",
              "      <th>hour_17</th>\n",
              "      <th>hour_19</th>\n",
              "      <th>hour_20</th>\n",
              "      <th>hour_21</th>\n",
              "      <th>hour_22</th>\n",
              "      <th>hour_23</th>\n",
              "    </tr>\n",
              "  </thead>\n",
              "  <tbody>\n",
              "    <tr>\n",
              "      <th>47</th>\n",
              "      <td>0</td>\n",
              "      <td>1</td>\n",
              "      <td>-1.438841</td>\n",
              "      <td>-1.628995</td>\n",
              "      <td>-0.929407</td>\n",
              "      <td>1.371787</td>\n",
              "      <td>0</td>\n",
              "      <td>5</td>\n",
              "      <td>5</td>\n",
              "      <td>2011</td>\n",
              "      <td>3</td>\n",
              "      <td>0</td>\n",
              "      <td>1</td>\n",
              "      <td>1</td>\n",
              "      <td>1</td>\n",
              "      <td>0</td>\n",
              "      <td>0</td>\n",
              "      <td>0</td>\n",
              "      <td>0</td>\n",
              "      <td>0</td>\n",
              "      <td>0</td>\n",
              "      <td>0</td>\n",
              "      <td>0</td>\n",
              "      <td>0</td>\n",
              "    </tr>\n",
              "    <tr>\n",
              "      <th>68</th>\n",
              "      <td>0</td>\n",
              "      <td>1</td>\n",
              "      <td>-1.649324</td>\n",
              "      <td>-1.539905</td>\n",
              "      <td>-0.357830</td>\n",
              "      <td>-0.710132</td>\n",
              "      <td>1</td>\n",
              "      <td>11</td>\n",
              "      <td>12</td>\n",
              "      <td>2011</td>\n",
              "      <td>3</td>\n",
              "      <td>0</td>\n",
              "      <td>1</td>\n",
              "      <td>1</td>\n",
              "      <td>0</td>\n",
              "      <td>0</td>\n",
              "      <td>0</td>\n",
              "      <td>0</td>\n",
              "      <td>0</td>\n",
              "      <td>0</td>\n",
              "      <td>0</td>\n",
              "      <td>0</td>\n",
              "      <td>0</td>\n",
              "      <td>1</td>\n",
              "    </tr>\n",
              "    <tr>\n",
              "      <th>67</th>\n",
              "      <td>0</td>\n",
              "      <td>1</td>\n",
              "      <td>-1.859808</td>\n",
              "      <td>-1.897444</td>\n",
              "      <td>0.369630</td>\n",
              "      <td>-0.465586</td>\n",
              "      <td>0</td>\n",
              "      <td>20</td>\n",
              "      <td>20</td>\n",
              "      <td>2011</td>\n",
              "      <td>3</td>\n",
              "      <td>0</td>\n",
              "      <td>1</td>\n",
              "      <td>1</td>\n",
              "      <td>0</td>\n",
              "      <td>0</td>\n",
              "      <td>0</td>\n",
              "      <td>0</td>\n",
              "      <td>0</td>\n",
              "      <td>0</td>\n",
              "      <td>0</td>\n",
              "      <td>0</td>\n",
              "      <td>1</td>\n",
              "      <td>0</td>\n",
              "    </tr>\n",
              "    <tr>\n",
              "      <th>66</th>\n",
              "      <td>0</td>\n",
              "      <td>1</td>\n",
              "      <td>-1.649324</td>\n",
              "      <td>-1.628995</td>\n",
              "      <td>0.109823</td>\n",
              "      <td>-0.465586</td>\n",
              "      <td>3</td>\n",
              "      <td>49</td>\n",
              "      <td>52</td>\n",
              "      <td>2011</td>\n",
              "      <td>3</td>\n",
              "      <td>0</td>\n",
              "      <td>1</td>\n",
              "      <td>1</td>\n",
              "      <td>0</td>\n",
              "      <td>0</td>\n",
              "      <td>0</td>\n",
              "      <td>0</td>\n",
              "      <td>0</td>\n",
              "      <td>0</td>\n",
              "      <td>0</td>\n",
              "      <td>1</td>\n",
              "      <td>0</td>\n",
              "      <td>0</td>\n",
              "    </tr>\n",
              "    <tr>\n",
              "      <th>65</th>\n",
              "      <td>0</td>\n",
              "      <td>1</td>\n",
              "      <td>-1.544083</td>\n",
              "      <td>-1.450226</td>\n",
              "      <td>-0.773522</td>\n",
              "      <td>-0.710132</td>\n",
              "      <td>3</td>\n",
              "      <td>49</td>\n",
              "      <td>52</td>\n",
              "      <td>2011</td>\n",
              "      <td>3</td>\n",
              "      <td>0</td>\n",
              "      <td>1</td>\n",
              "      <td>1</td>\n",
              "      <td>0</td>\n",
              "      <td>0</td>\n",
              "      <td>0</td>\n",
              "      <td>0</td>\n",
              "      <td>0</td>\n",
              "      <td>0</td>\n",
              "      <td>1</td>\n",
              "      <td>0</td>\n",
              "      <td>0</td>\n",
              "      <td>0</td>\n",
              "    </tr>\n",
              "  </tbody>\n",
              "</table>\n",
              "</div>"
            ],
            "text/plain": [
              "    holiday  workingday      temp     atemp  ...  hour_20  hour_21  hour_22  hour_23\n",
              "47        0           1 -1.438841 -1.628995  ...        0        0        0        0\n",
              "68        0           1 -1.649324 -1.539905  ...        0        0        0        1\n",
              "67        0           1 -1.859808 -1.897444  ...        0        0        1        0\n",
              "66        0           1 -1.649324 -1.628995  ...        0        1        0        0\n",
              "65        0           1 -1.544083 -1.450226  ...        1        0        0        0\n",
              "\n",
              "[5 rows x 24 columns]"
            ]
          },
          "metadata": {
            "tags": []
          },
          "execution_count": 286
        }
      ]
    },
    {
      "cell_type": "code",
      "metadata": {
        "id": "60OMn0fMxFGY",
        "colab_type": "code",
        "colab": {}
      },
      "source": [
        "def split_data(data):\n",
        "    data_y = data[\"count\"]\n",
        "    \n",
        "    \n",
        "\n",
        "    data_x = data.drop([\"count\",\"casual\",\"registered\"], axis=1)\n",
        "\n",
        "    \n",
        "\n",
        "    return data_x.values, data_y\n",
        "\n",
        "data_x, data_y = split_data(data_ori)"
      ],
      "execution_count": 0,
      "outputs": []
    },
    {
      "cell_type": "code",
      "metadata": {
        "id": "P1Nd2TXHxRc5",
        "colab_type": "code",
        "colab": {}
      },
      "source": [
        "from keras.models import Sequential\n",
        "from keras.layers import Dense, Activation\n",
        "from keras.callbacks import ModelCheckpoint,EarlyStopping\n",
        "from keras.optimizers import Adam,SGD,RMSprop,Adagrad"
      ],
      "execution_count": 0,
      "outputs": []
    },
    {
      "cell_type": "code",
      "metadata": {
        "id": "kMRMI5-NxWH0",
        "colab_type": "code",
        "colab": {}
      },
      "source": [
        "adam = Adam(lr=1e-3, decay=1e-3 / 200)"
      ],
      "execution_count": 0,
      "outputs": []
    },
    {
      "cell_type": "code",
      "metadata": {
        "id": "BWwRBkjQxp99",
        "colab_type": "code",
        "colab": {}
      },
      "source": [
        "from keras import backend\n",
        " \n",
        "def rmse(y_true, y_pred):\n",
        "\treturn backend.sqrt(backend.mean(backend.square(y_pred - y_true), axis=-1))"
      ],
      "execution_count": 0,
      "outputs": []
    },
    {
      "cell_type": "code",
      "metadata": {
        "id": "vI9HcDFSxvQC",
        "colab_type": "code",
        "outputId": "18301bf7-13e3-445e-ffb0-5e503de17819",
        "colab": {
          "base_uri": "https://localhost:8080/",
          "height": 302
        }
      },
      "source": [
        "from keras import regularizers\n",
        "from keras.layers.core import Dropout\n",
        "NN_model = Sequential()\n",
        "\n",
        "# The Input Layer :\n",
        "NN_model.add(Dense(128, kernel_initializer='normal',input_dim = data_x.shape[1], activation='relu'))\n",
        "\n",
        "\n",
        "# The Hidden Layers :\n",
        "NN_model.add(Dense(256, kernel_initializer='normal',activation='relu'))\n",
        "\n",
        "NN_model.add(Dense(256, kernel_initializer='normal',activation='relu'))\n",
        "\n",
        "NN_model.add(Dense(256, kernel_initializer='normal',activation='relu'))\n",
        "\n",
        "\n",
        "# The Output Layer :\n",
        "NN_model.add(Dense(1, kernel_initializer='normal',activation='softplus'))\n",
        "\n",
        "# Compile the network :\n",
        "NN_model.compile(loss='mean_squared_logarithmic_error', optimizer=adam, metrics=['mean_absolute_error','mean_squared_error',rmse])\n",
        "NN_model.summary()"
      ],
      "execution_count": 0,
      "outputs": [
        {
          "output_type": "stream",
          "text": [
            "_________________________________________________________________\n",
            "Layer (type)                 Output Shape              Param #   \n",
            "=================================================================\n",
            "dense_26 (Dense)             (None, 128)               2816      \n",
            "_________________________________________________________________\n",
            "dense_27 (Dense)             (None, 256)               33024     \n",
            "_________________________________________________________________\n",
            "dense_28 (Dense)             (None, 256)               65792     \n",
            "_________________________________________________________________\n",
            "dense_29 (Dense)             (None, 256)               65792     \n",
            "_________________________________________________________________\n",
            "dense_30 (Dense)             (None, 1)                 257       \n",
            "=================================================================\n",
            "Total params: 167,681\n",
            "Trainable params: 167,681\n",
            "Non-trainable params: 0\n",
            "_________________________________________________________________\n"
          ],
          "name": "stdout"
        }
      ]
    },
    {
      "cell_type": "code",
      "metadata": {
        "id": "m1AuLgYax0VG",
        "colab_type": "code",
        "colab": {}
      },
      "source": [
        "checkpoint_name = 'Weights-{epoch:03d}--{val_loss:.5f}.hdf5' \n",
        "checkpoint = ModelCheckpoint(checkpoint_name, monitor='val_loss', verbose =1, save_best_only = True, mode ='auto')\n",
        "early_stop=EarlyStopping(monitor='val_loss',patience=10)\n",
        "callbacks_list = [checkpoint,early_stop]"
      ],
      "execution_count": 0,
      "outputs": []
    },
    {
      "cell_type": "code",
      "metadata": {
        "id": "sbwWRVpNx5z0",
        "colab_type": "code",
        "outputId": "fc62a313-9552-41a8-c184-b260152adad9",
        "colab": {
          "base_uri": "https://localhost:8080/",
          "height": 1000
        }
      },
      "source": [
        "history=NN_model.fit(data_x, data_y, epochs=100, batch_size=32, validation_split = 0.2, callbacks=callbacks_list)"
      ],
      "execution_count": 0,
      "outputs": [
        {
          "output_type": "stream",
          "text": [
            "Train on 8 samples, validate on 2 samples\n",
            "Epoch 1/100\n",
            "8/8 [==============================] - 1s 116ms/step - loss: 5.9155 - mean_absolute_error: 57.0738 - mean_squared_error: 5659.7744 - rmse: 57.0738 - val_loss: 0.8505 - val_mean_absolute_error: 45.4767 - val_mean_squared_error: 2074.3784 - val_rmse: 45.4767\n",
            "\n",
            "Epoch 00001: val_loss improved from inf to 0.85046, saving model to Weights-001--0.85046.hdf5\n",
            "Epoch 2/100\n",
            "8/8 [==============================] - 0s 682us/step - loss: 1.1778 - mean_absolute_error: 43.9955 - mean_squared_error: 3393.6440 - rmse: 43.9955 - val_loss: 0.2211 - val_mean_absolute_error: 28.2948 - val_mean_squared_error: 806.8401 - val_rmse: 28.2948\n",
            "\n",
            "Epoch 00002: val_loss improved from 0.85046 to 0.22113, saving model to Weights-002--0.22113.hdf5\n",
            "Epoch 3/100\n",
            "8/8 [==============================] - 0s 761us/step - loss: 1.1287 - mean_absolute_error: 39.6995 - mean_squared_error: 2606.7957 - rmse: 39.6995 - val_loss: 0.0597 - val_mean_absolute_error: 16.2646 - val_mean_squared_error: 270.7773 - val_rmse: 16.2646\n",
            "\n",
            "Epoch 00003: val_loss improved from 0.22113 to 0.05969, saving model to Weights-003--0.05969.hdf5\n",
            "Epoch 4/100\n",
            "8/8 [==============================] - 0s 675us/step - loss: 1.2583 - mean_absolute_error: 39.7999 - mean_squared_error: 2407.2568 - rmse: 39.7999 - val_loss: 0.0153 - val_mean_absolute_error: 8.5177 - val_mean_squared_error: 78.7904 - val_rmse: 8.5177\n",
            "\n",
            "Epoch 00004: val_loss improved from 0.05969 to 0.01529, saving model to Weights-004--0.01529.hdf5\n",
            "Epoch 5/100\n",
            "8/8 [==============================] - 0s 752us/step - loss: 1.3715 - mean_absolute_error: 41.7350 - mean_squared_error: 2431.8115 - rmse: 41.7350 - val_loss: 0.0046 - val_mean_absolute_error: 4.3936 - val_mean_squared_error: 25.5449 - val_rmse: 4.3936\n",
            "\n",
            "Epoch 00005: val_loss improved from 0.01529 to 0.00462, saving model to Weights-005--0.00462.hdf5\n",
            "Epoch 6/100\n",
            "8/8 [==============================] - 0s 764us/step - loss: 1.4375 - mean_absolute_error: 42.7665 - mean_squared_error: 2493.9985 - rmse: 42.7665 - val_loss: 0.0022 - val_mean_absolute_error: 2.5510 - val_mean_squared_error: 12.7492 - val_rmse: 2.5510\n",
            "\n",
            "Epoch 00006: val_loss improved from 0.00462 to 0.00224, saving model to Weights-006--0.00224.hdf5\n",
            "Epoch 7/100\n",
            "8/8 [==============================] - 0s 725us/step - loss: 1.4680 - mean_absolute_error: 43.2266 - mean_squared_error: 2532.7153 - rmse: 43.2266 - val_loss: 0.0026 - val_mean_absolute_error: 2.8923 - val_mean_squared_error: 14.6067 - val_rmse: 2.8923\n",
            "\n",
            "Epoch 00007: val_loss did not improve from 0.00224\n",
            "Epoch 8/100\n",
            "8/8 [==============================] - 0s 962us/step - loss: 1.4623 - mean_absolute_error: 43.1410 - mean_squared_error: 2524.9700 - rmse: 43.1410 - val_loss: 0.0051 - val_mean_absolute_error: 4.6628 - val_mean_squared_error: 27.9842 - val_rmse: 4.6628\n",
            "\n",
            "Epoch 00008: val_loss did not improve from 0.00224\n",
            "Epoch 9/100\n",
            "8/8 [==============================] - 0s 808us/step - loss: 1.4331 - mean_absolute_error: 42.6973 - mean_squared_error: 2488.6914 - rmse: 42.6973 - val_loss: 0.0125 - val_mean_absolute_error: 7.6777 - val_mean_squared_error: 65.1907 - val_rmse: 7.6777\n",
            "\n",
            "Epoch 00009: val_loss did not improve from 0.00224\n",
            "Epoch 10/100\n",
            "8/8 [==============================] - 0s 969us/step - loss: 1.3847 - mean_absolute_error: 41.9441 - mean_squared_error: 2441.6006 - rmse: 41.9441 - val_loss: 0.0288 - val_mean_absolute_error: 11.6059 - val_mean_squared_error: 140.9369 - val_rmse: 11.6059\n",
            "\n",
            "Epoch 00010: val_loss did not improve from 0.00224\n",
            "Epoch 11/100\n",
            "8/8 [==============================] - 0s 738us/step - loss: 1.3244 - mean_absolute_error: 40.9629 - mean_squared_error: 2407.4810 - rmse: 40.9629 - val_loss: 0.0633 - val_mean_absolute_error: 16.6998 - val_mean_squared_error: 285.1262 - val_rmse: 16.6998\n",
            "\n",
            "Epoch 00011: val_loss did not improve from 0.00224\n",
            "Epoch 12/100\n",
            "8/8 [==============================] - 0s 716us/step - loss: 1.2525 - mean_absolute_error: 39.6907 - mean_squared_error: 2409.2031 - rmse: 39.6907 - val_loss: 0.1276 - val_mean_absolute_error: 22.6267 - val_mean_squared_error: 518.2089 - val_rmse: 22.6267\n",
            "\n",
            "Epoch 00012: val_loss did not improve from 0.00224\n",
            "Epoch 13/100\n",
            "8/8 [==============================] - 0s 807us/step - loss: 1.1804 - mean_absolute_error: 38.2791 - mean_squared_error: 2476.4844 - rmse: 38.2791 - val_loss: 0.2414 - val_mean_absolute_error: 29.2801 - val_mean_squared_error: 863.5703 - val_rmse: 29.2801\n",
            "\n",
            "Epoch 00013: val_loss did not improve from 0.00224\n",
            "Epoch 14/100\n",
            "8/8 [==============================] - 0s 798us/step - loss: 1.1217 - mean_absolute_error: 39.9424 - mean_squared_error: 2635.7104 - rmse: 39.9424 - val_loss: 0.4340 - val_mean_absolute_error: 36.4187 - val_mean_squared_error: 1332.5698 - val_rmse: 36.4187\n",
            "\n",
            "Epoch 00014: val_loss did not improve from 0.00224\n",
            "Epoch 15/100\n",
            "8/8 [==============================] - 0s 837us/step - loss: 1.0992 - mean_absolute_error: 41.7274 - mean_squared_error: 2905.0122 - rmse: 41.7275 - val_loss: 0.7019 - val_mean_absolute_error: 42.8295 - val_mean_squared_error: 1840.6200 - val_rmse: 42.8295\n",
            "\n",
            "Epoch 00015: val_loss did not improve from 0.00224\n",
            "Epoch 16/100\n",
            "8/8 [==============================] - 0s 868us/step - loss: 1.1374 - mean_absolute_error: 43.3311 - mean_squared_error: 3233.7866 - rmse: 43.3311 - val_loss: 0.9003 - val_mean_absolute_error: 46.2668 - val_mean_squared_error: 2146.8647 - val_rmse: 46.2668\n",
            "\n",
            "Epoch 00016: val_loss did not improve from 0.00224\n"
          ],
          "name": "stdout"
        }
      ]
    },
    {
      "cell_type": "code",
      "metadata": {
        "id": "wRf7ZzOOzMuO",
        "colab_type": "code",
        "colab": {}
      },
      "source": [
        "test1_x, test1_y = split_data(test1)"
      ],
      "execution_count": 0,
      "outputs": []
    },
    {
      "cell_type": "code",
      "metadata": {
        "id": "KqWqcaO9zPUg",
        "colab_type": "code",
        "outputId": "6a8a7cd8-f9ba-4e63-ff35-1c1550465920",
        "colab": {
          "base_uri": "https://localhost:8080/",
          "height": 34
        }
      },
      "source": [
        "scores=NN_model.evaluate(test1_x,test1_y)"
      ],
      "execution_count": 0,
      "outputs": [
        {
          "output_type": "stream",
          "text": [
            "\r10/10 [==============================] - 0s 288us/step\n"
          ],
          "name": "stdout"
        }
      ]
    },
    {
      "cell_type": "code",
      "metadata": {
        "id": "PXJ18a5jzWI2",
        "colab_type": "code",
        "outputId": "0e802e35-9f2d-4b02-f90c-a23b91c71c00",
        "colab": {
          "base_uri": "https://localhost:8080/",
          "height": 34
        }
      },
      "source": [
        "print(NN_model.metrics_names)"
      ],
      "execution_count": 0,
      "outputs": [
        {
          "output_type": "stream",
          "text": [
            "['loss', 'mean_absolute_error', 'mean_squared_error', 'rmse']\n"
          ],
          "name": "stdout"
        }
      ]
    },
    {
      "cell_type": "code",
      "metadata": {
        "id": "CtZ41RnUzXYN",
        "colab_type": "code",
        "colab": {}
      },
      "source": [
        "test1_loss=scores[0]\n",
        "test1_mae=scores[1]\n",
        "test1_mse=scores[2]\n",
        "test1_rmse=scores[3]"
      ],
      "execution_count": 0,
      "outputs": []
    },
    {
      "cell_type": "code",
      "metadata": {
        "id": "ORg_lnhszbBH",
        "colab_type": "code",
        "outputId": "3773e35b-942b-431f-9e17-fe1d6885cfb4",
        "colab": {
          "base_uri": "https://localhost:8080/",
          "height": 34
        }
      },
      "source": [
        "test1_mae"
      ],
      "execution_count": 0,
      "outputs": [
        {
          "output_type": "execute_result",
          "data": {
            "text/plain": [
              "44.6051025390625"
            ]
          },
          "metadata": {
            "tags": []
          },
          "execution_count": 297
        }
      ]
    }
  ]
}
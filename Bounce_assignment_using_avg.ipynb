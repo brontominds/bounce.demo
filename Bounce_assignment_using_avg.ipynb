{
  "nbformat": 4,
  "nbformat_minor": 0,
  "metadata": {
    "colab": {
      "name": "Untitled4.ipynb",
      "version": "0.3.2",
      "provenance": [],
      "include_colab_link": true
    },
    "kernelspec": {
      "name": "python3",
      "display_name": "Python 3"
    }
  },
  "cells": [
    {
      "cell_type": "markdown",
      "metadata": {
        "id": "view-in-github",
        "colab_type": "text"
      },
      "source": [
        "<a href=\"https://colab.research.google.com/github/brontominds/bounce.demo/blob/master/Bounce_assignment_using_avg.ipynb\" target=\"_parent\"><img src=\"https://colab.research.google.com/assets/colab-badge.svg\" alt=\"Open In Colab\"/></a>"
      ]
    },
    {
      "cell_type": "code",
      "metadata": {
        "id": "di2rZZ5ttr_s",
        "colab_type": "code",
        "colab": {}
      },
      "source": [
        "import pandas as pd\n",
        "from sklearn.utils import shuffle"
      ],
      "execution_count": 0,
      "outputs": []
    },
    {
      "cell_type": "code",
      "metadata": {
        "id": "FzJEKyoittpG",
        "colab_type": "code",
        "colab": {}
      },
      "source": [
        "data=pd.read_csv(\"train.csv\")#Making it Relative Path -Mayank\n",
        "data_ori=data.copy()"
      ],
      "execution_count": 0,
      "outputs": []
    },
    {
      "cell_type": "code",
      "metadata": {
        "id": "Pm8NY9YAtwR5",
        "colab_type": "code",
        "colab": {}
      },
      "source": [
        "import matplotlib.pyplot as plt  # For plotting graphs \n",
        "from datetime import datetime    # To access datetime \n",
        "        \n",
        "%matplotlib inline"
      ],
      "execution_count": 0,
      "outputs": []
    },
    {
      "cell_type": "code",
      "metadata": {
        "id": "M46KLnFytzHA",
        "colab_type": "code",
        "colab": {}
      },
      "source": [
        "def datetime(df):\n",
        "  from datetime import datetime\n",
        "  df['datetime'] = pd.to_datetime(df['datetime'])\n",
        "  df['year'] = df['datetime'].dt.year \n",
        "  df['day'] = df['datetime'].dt.day \n",
        "  df['hour'] = df['datetime'].dt.hour\n",
        "  return df"
      ],
      "execution_count": 0,
      "outputs": []
    },
    {
      "cell_type": "code",
      "metadata": {
        "id": "zsciuSkTt3XP",
        "colab_type": "code",
        "colab": {}
      },
      "source": [
        "data_ori=datetime(data_ori)"
      ],
      "execution_count": 0,
      "outputs": []
    },
    {
      "cell_type": "code",
      "metadata": {
        "id": "s_L8QkopyKXg",
        "colab_type": "code",
        "colab": {}
      },
      "source": [
        "def normalize(df,columns):\n",
        "    result=df.copy()\n",
        "    for feature_name in columns :\n",
        "        mean_value = df[feature_name].mean()\n",
        "        std_value = df[feature_name].std()\n",
        "        result[feature_name] = (df[feature_name] - mean_value) / std_value\n",
        "        \n",
        "    return result"
      ],
      "execution_count": 0,
      "outputs": []
    },
    {
      "cell_type": "code",
      "metadata": {
        "id": "ZpnaQN28yMup",
        "colab_type": "code",
        "colab": {}
      },
      "source": [
        "data_ori=normalize(data_ori,[\"temp\",\"atemp\",\"humidity\",\"windspeed\"])"
      ],
      "execution_count": 0,
      "outputs": []
    },
    {
      "cell_type": "code",
      "metadata": {
        "id": "l5isIRDNuEFy",
        "colab_type": "code",
        "colab": {
          "base_uri": "https://localhost:8080/",
          "height": 195
        },
        "outputId": "64f42e92-19c2-4eb5-b0b6-91f9c8afe5ec"
      },
      "source": [
        "data_ori.head()"
      ],
      "execution_count": 30,
      "outputs": [
        {
          "output_type": "execute_result",
          "data": {
            "text/html": [
              "<div>\n",
              "<style scoped>\n",
              "    .dataframe tbody tr th:only-of-type {\n",
              "        vertical-align: middle;\n",
              "    }\n",
              "\n",
              "    .dataframe tbody tr th {\n",
              "        vertical-align: top;\n",
              "    }\n",
              "\n",
              "    .dataframe thead th {\n",
              "        text-align: right;\n",
              "    }\n",
              "</style>\n",
              "<table border=\"1\" class=\"dataframe\">\n",
              "  <thead>\n",
              "    <tr style=\"text-align: right;\">\n",
              "      <th></th>\n",
              "      <th>datetime</th>\n",
              "      <th>season</th>\n",
              "      <th>holiday</th>\n",
              "      <th>workingday</th>\n",
              "      <th>weather</th>\n",
              "      <th>temp</th>\n",
              "      <th>atemp</th>\n",
              "      <th>humidity</th>\n",
              "      <th>windspeed</th>\n",
              "      <th>casual</th>\n",
              "      <th>registered</th>\n",
              "      <th>count</th>\n",
              "      <th>year</th>\n",
              "      <th>day</th>\n",
              "      <th>hour</th>\n",
              "    </tr>\n",
              "  </thead>\n",
              "  <tbody>\n",
              "    <tr>\n",
              "      <th>0</th>\n",
              "      <td>2011-01-01 00:00:00</td>\n",
              "      <td>1</td>\n",
              "      <td>0</td>\n",
              "      <td>0</td>\n",
              "      <td>1</td>\n",
              "      <td>-1.333599</td>\n",
              "      <td>-1.092687</td>\n",
              "      <td>0.993167</td>\n",
              "      <td>-1.567682</td>\n",
              "      <td>3</td>\n",
              "      <td>13</td>\n",
              "      <td>16</td>\n",
              "      <td>2011</td>\n",
              "      <td>1</td>\n",
              "      <td>0</td>\n",
              "    </tr>\n",
              "    <tr>\n",
              "      <th>1</th>\n",
              "      <td>2011-01-01 01:00:00</td>\n",
              "      <td>1</td>\n",
              "      <td>0</td>\n",
              "      <td>0</td>\n",
              "      <td>1</td>\n",
              "      <td>-1.438841</td>\n",
              "      <td>-1.182367</td>\n",
              "      <td>0.941206</td>\n",
              "      <td>-1.567682</td>\n",
              "      <td>8</td>\n",
              "      <td>32</td>\n",
              "      <td>40</td>\n",
              "      <td>2011</td>\n",
              "      <td>1</td>\n",
              "      <td>1</td>\n",
              "    </tr>\n",
              "    <tr>\n",
              "      <th>2</th>\n",
              "      <td>2011-01-01 02:00:00</td>\n",
              "      <td>1</td>\n",
              "      <td>0</td>\n",
              "      <td>0</td>\n",
              "      <td>1</td>\n",
              "      <td>-1.438841</td>\n",
              "      <td>-1.182367</td>\n",
              "      <td>0.941206</td>\n",
              "      <td>-1.567682</td>\n",
              "      <td>5</td>\n",
              "      <td>27</td>\n",
              "      <td>32</td>\n",
              "      <td>2011</td>\n",
              "      <td>1</td>\n",
              "      <td>2</td>\n",
              "    </tr>\n",
              "    <tr>\n",
              "      <th>3</th>\n",
              "      <td>2011-01-01 03:00:00</td>\n",
              "      <td>1</td>\n",
              "      <td>0</td>\n",
              "      <td>0</td>\n",
              "      <td>1</td>\n",
              "      <td>-1.333599</td>\n",
              "      <td>-1.092687</td>\n",
              "      <td>0.681399</td>\n",
              "      <td>-1.567682</td>\n",
              "      <td>3</td>\n",
              "      <td>10</td>\n",
              "      <td>13</td>\n",
              "      <td>2011</td>\n",
              "      <td>1</td>\n",
              "      <td>3</td>\n",
              "    </tr>\n",
              "    <tr>\n",
              "      <th>4</th>\n",
              "      <td>2011-01-01 04:00:00</td>\n",
              "      <td>1</td>\n",
              "      <td>0</td>\n",
              "      <td>0</td>\n",
              "      <td>1</td>\n",
              "      <td>-1.333599</td>\n",
              "      <td>-1.092687</td>\n",
              "      <td>0.681399</td>\n",
              "      <td>-1.567682</td>\n",
              "      <td>0</td>\n",
              "      <td>1</td>\n",
              "      <td>1</td>\n",
              "      <td>2011</td>\n",
              "      <td>1</td>\n",
              "      <td>4</td>\n",
              "    </tr>\n",
              "  </tbody>\n",
              "</table>\n",
              "</div>"
            ],
            "text/plain": [
              "             datetime  season  holiday  workingday  ...  count  year  day  hour\n",
              "0 2011-01-01 00:00:00       1        0           0  ...     16  2011    1     0\n",
              "1 2011-01-01 01:00:00       1        0           0  ...     40  2011    1     1\n",
              "2 2011-01-01 02:00:00       1        0           0  ...     32  2011    1     2\n",
              "3 2011-01-01 03:00:00       1        0           0  ...     13  2011    1     3\n",
              "4 2011-01-01 04:00:00       1        0           0  ...      1  2011    1     4\n",
              "\n",
              "[5 rows x 15 columns]"
            ]
          },
          "metadata": {
            "tags": []
          },
          "execution_count": 30
        }
      ]
    },
    {
      "cell_type": "code",
      "metadata": {
        "id": "BqMT4ATNuWH8",
        "colab_type": "code",
        "colab": {}
      },
      "source": [
        "data_ori=data_ori[data_ori['day']==1]"
      ],
      "execution_count": 0,
      "outputs": []
    },
    {
      "cell_type": "code",
      "metadata": {
        "id": "eWU3PtQIugFC",
        "colab_type": "code",
        "colab": {
          "base_uri": "https://localhost:8080/",
          "height": 34
        },
        "outputId": "c7a2f383-40ba-4756-8473-4540610485ac"
      },
      "source": [
        "data_ori.shape"
      ],
      "execution_count": 32,
      "outputs": [
        {
          "output_type": "execute_result",
          "data": {
            "text/plain": [
              "(575, 15)"
            ]
          },
          "metadata": {
            "tags": []
          },
          "execution_count": 32
        }
      ]
    },
    {
      "cell_type": "code",
      "metadata": {
        "id": "49JbjD6auiFL",
        "colab_type": "code",
        "colab": {}
      },
      "source": [
        "def dummy_data(data, columns):\n",
        "    for column in columns:\n",
        "        data = pd.concat([data, pd.get_dummies(data[column], prefix=column)], axis=1)\n",
        "        data = data.drop(column, axis=1)\n",
        "    return data"
      ],
      "execution_count": 0,
      "outputs": []
    },
    {
      "cell_type": "code",
      "metadata": {
        "id": "F5u2fMvou3Vm",
        "colab_type": "code",
        "colab": {}
      },
      "source": [
        "data_ori = dummy_data(data_ori, [\"season\",\"weather\",\"hour\"])"
      ],
      "execution_count": 0,
      "outputs": []
    },
    {
      "cell_type": "code",
      "metadata": {
        "id": "EGX7AQxEyoXq",
        "colab_type": "code",
        "colab": {}
      },
      "source": [
        "data_ori=data_ori.drop('datetime',axis=1)"
      ],
      "execution_count": 0,
      "outputs": []
    },
    {
      "cell_type": "code",
      "metadata": {
        "id": "CPr2-dUHwvMO",
        "colab_type": "code",
        "colab": {}
      },
      "source": [
        "data=shuffle(data_ori,random_state=1)\n",
        "nrows = len(data_ori)\n",
        "training_validation_rows = int(nrows*0.8)\n",
        "data=data_ori[0:training_validation_rows-1]\n",
        "test1=data_ori[training_validation_rows:]"
      ],
      "execution_count": 0,
      "outputs": []
    },
    {
      "cell_type": "code",
      "metadata": {
        "id": "P_NJlmFZxBUt",
        "colab_type": "code",
        "colab": {
          "base_uri": "https://localhost:8080/",
          "height": 34
        },
        "outputId": "fbe7ad04-0d07-4a16-834e-91beef7e5236"
      },
      "source": [
        "data.shape"
      ],
      "execution_count": 37,
      "outputs": [
        {
          "output_type": "execute_result",
          "data": {
            "text/plain": [
              "(459, 42)"
            ]
          },
          "metadata": {
            "tags": []
          },
          "execution_count": 37
        }
      ]
    },
    {
      "cell_type": "code",
      "metadata": {
        "id": "xFt3axCMxCpG",
        "colab_type": "code",
        "colab": {
          "base_uri": "https://localhost:8080/",
          "height": 34
        },
        "outputId": "24ef625a-65ed-4457-a9e6-fce6b8cf27db"
      },
      "source": [
        "test1.shape"
      ],
      "execution_count": 38,
      "outputs": [
        {
          "output_type": "execute_result",
          "data": {
            "text/plain": [
              "(115, 42)"
            ]
          },
          "metadata": {
            "tags": []
          },
          "execution_count": 38
        }
      ]
    },
    {
      "cell_type": "code",
      "metadata": {
        "id": "60OMn0fMxFGY",
        "colab_type": "code",
        "colab": {}
      },
      "source": [
        "def split_data(data):\n",
        "    data_y = data[\"count\"]\n",
        "    \n",
        "    \n",
        "\n",
        "    data_x = data.drop([\"count\",\"casual\",\"registered\"], axis=1)\n",
        "\n",
        "    \n",
        "\n",
        "    return data_x.values, data_y\n",
        "\n",
        "data_x, data_y = split_data(data)"
      ],
      "execution_count": 0,
      "outputs": []
    },
    {
      "cell_type": "code",
      "metadata": {
        "id": "P1Nd2TXHxRc5",
        "colab_type": "code",
        "colab": {}
      },
      "source": [
        "from keras.models import Sequential\n",
        "from keras.layers import Dense, Activation\n",
        "from keras.callbacks import ModelCheckpoint,EarlyStopping\n",
        "from keras.optimizers import Adam,SGD,RMSprop,Adagrad"
      ],
      "execution_count": 0,
      "outputs": []
    },
    {
      "cell_type": "code",
      "metadata": {
        "id": "kMRMI5-NxWH0",
        "colab_type": "code",
        "colab": {}
      },
      "source": [
        "adam = Adam(lr=1e-3, decay=1e-3 / 200)"
      ],
      "execution_count": 0,
      "outputs": []
    },
    {
      "cell_type": "code",
      "metadata": {
        "id": "BWwRBkjQxp99",
        "colab_type": "code",
        "colab": {}
      },
      "source": [
        "from keras import backend\n",
        " \n",
        "def rmse(y_true, y_pred):\n",
        "\treturn backend.sqrt(backend.mean(backend.square(y_pred - y_true), axis=-1))"
      ],
      "execution_count": 0,
      "outputs": []
    },
    {
      "cell_type": "code",
      "metadata": {
        "id": "vI9HcDFSxvQC",
        "colab_type": "code",
        "colab": {
          "base_uri": "https://localhost:8080/",
          "height": 302
        },
        "outputId": "2d70c6b4-dbb3-4adc-b50f-c5ce30330f83"
      },
      "source": [
        "from keras import regularizers\n",
        "from keras.layers.core import Dropout\n",
        "NN_model = Sequential()\n",
        "\n",
        "# The Input Layer :\n",
        "NN_model.add(Dense(128, kernel_initializer='normal',input_dim = data_x.shape[1], activation='relu'))\n",
        "\n",
        "\n",
        "# The Hidden Layers :\n",
        "NN_model.add(Dense(256, kernel_initializer='normal',activation='relu'))\n",
        "\n",
        "NN_model.add(Dense(256, kernel_initializer='normal',activation='relu'))\n",
        "\n",
        "NN_model.add(Dense(256, kernel_initializer='normal',activation='relu'))\n",
        "\n",
        "\n",
        "# The Output Layer :\n",
        "NN_model.add(Dense(1, kernel_initializer='normal',activation='softplus'))\n",
        "\n",
        "# Compile the network :\n",
        "NN_model.compile(loss='mean_squared_logarithmic_error', optimizer=adam, metrics=['mean_absolute_error','mean_squared_error',rmse])\n",
        "NN_model.summary()"
      ],
      "execution_count": 46,
      "outputs": [
        {
          "output_type": "stream",
          "text": [
            "_________________________________________________________________\n",
            "Layer (type)                 Output Shape              Param #   \n",
            "=================================================================\n",
            "dense_6 (Dense)              (None, 128)               5120      \n",
            "_________________________________________________________________\n",
            "dense_7 (Dense)              (None, 256)               33024     \n",
            "_________________________________________________________________\n",
            "dense_8 (Dense)              (None, 256)               65792     \n",
            "_________________________________________________________________\n",
            "dense_9 (Dense)              (None, 256)               65792     \n",
            "_________________________________________________________________\n",
            "dense_10 (Dense)             (None, 1)                 257       \n",
            "=================================================================\n",
            "Total params: 169,985\n",
            "Trainable params: 169,985\n",
            "Non-trainable params: 0\n",
            "_________________________________________________________________\n"
          ],
          "name": "stdout"
        }
      ]
    },
    {
      "cell_type": "code",
      "metadata": {
        "id": "m1AuLgYax0VG",
        "colab_type": "code",
        "colab": {}
      },
      "source": [
        "checkpoint_name = 'Weights-{epoch:03d}--{val_loss:.5f}.hdf5' \n",
        "checkpoint = ModelCheckpoint(checkpoint_name, monitor='val_loss', verbose =1, save_best_only = True, mode ='auto')\n",
        "early_stop=EarlyStopping(monitor='val_loss',patience=10)\n",
        "callbacks_list = [checkpoint,early_stop]"
      ],
      "execution_count": 0,
      "outputs": []
    },
    {
      "cell_type": "code",
      "metadata": {
        "id": "sbwWRVpNx5z0",
        "colab_type": "code",
        "colab": {
          "base_uri": "https://localhost:8080/",
          "height": 793
        },
        "outputId": "9e3b33ec-6fcb-4409-946b-9c8ab1306007"
      },
      "source": [
        "history=NN_model.fit(data_x, data_y, epochs=100, batch_size=32, validation_split = 0.2, callbacks=callbacks_list)"
      ],
      "execution_count": 48,
      "outputs": [
        {
          "output_type": "stream",
          "text": [
            "Train on 367 samples, validate on 92 samples\n",
            "Epoch 1/100\n",
            "367/367 [==============================] - 0s 1ms/step - loss: 3.5881 - mean_absolute_error: 109.6928 - mean_squared_error: 24162.1356 - rmse: 109.6928 - val_loss: 1.7800 - val_mean_absolute_error: 167.5789 - val_mean_squared_error: 46728.0137 - val_rmse: 167.5789\n",
            "\n",
            "Epoch 00001: val_loss improved from inf to 1.77996, saving model to Weights-001--1.77996.hdf5\n",
            "Epoch 2/100\n",
            "367/367 [==============================] - 0s 141us/step - loss: 2.0472 - mean_absolute_error: 99.5444 - mean_squared_error: 18781.3188 - rmse: 99.5444 - val_loss: 2.0140 - val_mean_absolute_error: 180.4978 - val_mean_squared_error: 57081.5190 - val_rmse: 180.4978\n",
            "\n",
            "Epoch 00002: val_loss did not improve from 1.77996\n",
            "Epoch 3/100\n",
            "367/367 [==============================] - 0s 131us/step - loss: 1.9152 - mean_absolute_error: 103.5192 - mean_squared_error: 22459.1144 - rmse: 103.5192 - val_loss: 2.1605 - val_mean_absolute_error: 184.6250 - val_mean_squared_error: 60125.3604 - val_rmse: 184.6250\n",
            "\n",
            "Epoch 00003: val_loss did not improve from 1.77996\n",
            "Epoch 4/100\n",
            "367/367 [==============================] - 0s 137us/step - loss: 1.9069 - mean_absolute_error: 102.4114 - mean_squared_error: 21942.4616 - rmse: 102.4114 - val_loss: 2.0479 - val_mean_absolute_error: 181.5745 - val_mean_squared_error: 57881.5690 - val_rmse: 181.5745\n",
            "\n",
            "Epoch 00004: val_loss did not improve from 1.77996\n",
            "Epoch 5/100\n",
            "367/367 [==============================] - 0s 138us/step - loss: 1.9182 - mean_absolute_error: 101.4153 - mean_squared_error: 21297.0762 - rmse: 101.4153 - val_loss: 2.0670 - val_mean_absolute_error: 182.1347 - val_mean_squared_error: 58303.1061 - val_rmse: 182.1347\n",
            "\n",
            "Epoch 00005: val_loss did not improve from 1.77996\n",
            "Epoch 6/100\n",
            "367/367 [==============================] - 0s 139us/step - loss: 1.9193 - mean_absolute_error: 104.1740 - mean_squared_error: 22975.2059 - rmse: 104.1740 - val_loss: 2.1529 - val_mean_absolute_error: 184.4421 - val_mean_squared_error: 59997.0598 - val_rmse: 184.4421\n",
            "\n",
            "Epoch 00006: val_loss did not improve from 1.77996\n",
            "Epoch 7/100\n",
            "367/367 [==============================] - 0s 135us/step - loss: 1.9229 - mean_absolute_error: 102.2209 - mean_squared_error: 21690.2706 - rmse: 102.2209 - val_loss: 2.0206 - val_mean_absolute_error: 180.7258 - val_mean_squared_error: 57262.7690 - val_rmse: 180.7258\n",
            "\n",
            "Epoch 00007: val_loss did not improve from 1.77996\n",
            "Epoch 8/100\n",
            "367/367 [==============================] - 0s 151us/step - loss: 1.9064 - mean_absolute_error: 102.4069 - mean_squared_error: 21926.6564 - rmse: 102.4069 - val_loss: 2.1137 - val_mean_absolute_error: 183.4372 - val_mean_squared_error: 59265.8125 - val_rmse: 183.4372\n",
            "\n",
            "Epoch 00008: val_loss did not improve from 1.77996\n",
            "Epoch 9/100\n",
            "367/367 [==============================] - 0s 131us/step - loss: 1.9056 - mean_absolute_error: 102.2864 - mean_squared_error: 21934.6663 - rmse: 102.2864 - val_loss: 2.0327 - val_mean_absolute_error: 181.1142 - val_mean_squared_error: 57554.9270 - val_rmse: 181.1142\n",
            "\n",
            "Epoch 00009: val_loss did not improve from 1.77996\n",
            "Epoch 10/100\n",
            "367/367 [==============================] - 0s 129us/step - loss: 1.9096 - mean_absolute_error: 102.3845 - mean_squared_error: 21985.7795 - rmse: 102.3845 - val_loss: 2.0839 - val_mean_absolute_error: 182.6160 - val_mean_squared_error: 58677.2865 - val_rmse: 182.6160\n",
            "\n",
            "Epoch 00010: val_loss did not improve from 1.77996\n",
            "Epoch 11/100\n",
            "367/367 [==============================] - 0s 131us/step - loss: 1.9091 - mean_absolute_error: 102.9650 - mean_squared_error: 22340.4950 - rmse: 102.9650 - val_loss: 2.0459 - val_mean_absolute_error: 181.5212 - val_mean_squared_error: 57863.0526 - val_rmse: 181.5212\n",
            "\n",
            "Epoch 00011: val_loss did not improve from 1.77996\n"
          ],
          "name": "stdout"
        }
      ]
    },
    {
      "cell_type": "code",
      "metadata": {
        "id": "wRf7ZzOOzMuO",
        "colab_type": "code",
        "colab": {}
      },
      "source": [
        "test1_x, test1_y = split_data(test1)"
      ],
      "execution_count": 0,
      "outputs": []
    },
    {
      "cell_type": "code",
      "metadata": {
        "id": "KqWqcaO9zPUg",
        "colab_type": "code",
        "colab": {
          "base_uri": "https://localhost:8080/",
          "height": 34
        },
        "outputId": "6766cdf7-32b2-404a-850c-efffcd9fad4e"
      },
      "source": [
        "scores=NN_model.evaluate(test1_x,test1_y)"
      ],
      "execution_count": 50,
      "outputs": [
        {
          "output_type": "stream",
          "text": [
            "115/115 [==============================] - 0s 88us/step\n"
          ],
          "name": "stdout"
        }
      ]
    },
    {
      "cell_type": "code",
      "metadata": {
        "id": "PXJ18a5jzWI2",
        "colab_type": "code",
        "colab": {
          "base_uri": "https://localhost:8080/",
          "height": 34
        },
        "outputId": "9a6cecf2-1314-4465-ac03-790835425594"
      },
      "source": [
        "print(NN_model.metrics_names)"
      ],
      "execution_count": 51,
      "outputs": [
        {
          "output_type": "stream",
          "text": [
            "['loss', 'mean_absolute_error', 'mean_squared_error', 'rmse']\n"
          ],
          "name": "stdout"
        }
      ]
    },
    {
      "cell_type": "code",
      "metadata": {
        "id": "CtZ41RnUzXYN",
        "colab_type": "code",
        "colab": {}
      },
      "source": [
        "test1_loss=scores[0]\n",
        "test1_mae=scores[1]\n",
        "test1_mse=scores[2]\n",
        "test1_rmse=scores[3]"
      ],
      "execution_count": 0,
      "outputs": []
    },
    {
      "cell_type": "code",
      "metadata": {
        "id": "ORg_lnhszbBH",
        "colab_type": "code",
        "colab": {
          "base_uri": "https://localhost:8080/",
          "height": 34
        },
        "outputId": "404ca602-09af-4cc5-9f2a-7fd1059a1d0a"
      },
      "source": [
        "test1_mae"
      ],
      "execution_count": 53,
      "outputs": [
        {
          "output_type": "execute_result",
          "data": {
            "text/plain": [
              "218.63342086128566"
            ]
          },
          "metadata": {
            "tags": []
          },
          "execution_count": 53
        }
      ]
    }
  ]
}
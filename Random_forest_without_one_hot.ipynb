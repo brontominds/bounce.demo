{
  "nbformat": 4,
  "nbformat_minor": 0,
  "metadata": {
    "colab": {
      "name": "Untitled3.ipynb",
      "version": "0.3.2",
      "provenance": [],
      "include_colab_link": true
    },
    "kernelspec": {
      "name": "python3",
      "display_name": "Python 3"
    }
  },
  "cells": [
    {
      "cell_type": "markdown",
      "metadata": {
        "id": "view-in-github",
        "colab_type": "text"
      },
      "source": [
        "<a href=\"https://colab.research.google.com/github/brontominds/bounce.demo/blob/Ver0.01a/Random_forest_without_one_hot.ipynb\" target=\"_parent\"><img src=\"https://colab.research.google.com/assets/colab-badge.svg\" alt=\"Open In Colab\"/></a>"
      ]
    },
    {
      "cell_type": "code",
      "metadata": {
        "id": "koE3jdc9mlti",
        "colab_type": "code",
        "colab": {}
      },
      "source": [
        "import pandas as pd"
      ],
      "execution_count": 0,
      "outputs": []
    },
    {
      "cell_type": "code",
      "metadata": {
        "id": "d90-awzumqdZ",
        "colab_type": "code",
        "colab": {}
      },
      "source": [
        "data=pd.read_csv(\"train.csv\")#Making it Relative Path -Mayank\n",
        "data_ori=data.copy()"
      ],
      "execution_count": 0,
      "outputs": []
    },
    {
      "cell_type": "code",
      "metadata": {
        "id": "Zu4Xl6U7msOf",
        "colab_type": "code",
        "colab": {}
      },
      "source": [
        "import matplotlib.pyplot as plt  # For plotting graphs \n",
        "from datetime import datetime "
      ],
      "execution_count": 0,
      "outputs": []
    },
    {
      "cell_type": "code",
      "metadata": {
        "id": "jtaOGlvumvi0",
        "colab_type": "code",
        "colab": {}
      },
      "source": [
        "def datetime(df):\n",
        "  from datetime import datetime\n",
        "  df['datetime'] = pd.to_datetime(df['datetime'])\n",
        "  df['year'] = df['datetime'].dt.year \n",
        "  df['day'] = df['datetime'].dt.day \n",
        "  df['hour'] = df['datetime'].dt.hour\n",
        "  return df"
      ],
      "execution_count": 0,
      "outputs": []
    },
    {
      "cell_type": "code",
      "metadata": {
        "id": "WN7EzMtem0zQ",
        "colab_type": "code",
        "colab": {}
      },
      "source": [
        "data_ori=datetime(data_ori)"
      ],
      "execution_count": 0,
      "outputs": []
    },
    {
      "cell_type": "code",
      "metadata": {
        "id": "i6NR7T7qm7P1",
        "colab_type": "code",
        "colab": {}
      },
      "source": [
        "data_ori=data_ori.drop('datetime',axis=1)"
      ],
      "execution_count": 0,
      "outputs": []
    },
    {
      "cell_type": "code",
      "metadata": {
        "id": "ExeFxh3pm8Kw",
        "colab_type": "code",
        "colab": {}
      },
      "source": [
        "def normalize(df,columns):\n",
        "    result=df.copy()\n",
        "    for feature_name in columns :\n",
        "        mean_value = df[feature_name].mean()\n",
        "        std_value = df[feature_name].std()\n",
        "        result[feature_name] = (df[feature_name] - mean_value) / std_value\n",
        "        \n",
        "    return result"
      ],
      "execution_count": 0,
      "outputs": []
    },
    {
      "cell_type": "code",
      "metadata": {
        "id": "4wsM4-XSm8V1",
        "colab_type": "code",
        "colab": {}
      },
      "source": [
        "data_ori=normalize(data_ori,[\"temp\",\"atemp\",\"humidity\",\"windspeed\"])"
      ],
      "execution_count": 0,
      "outputs": []
    },
    {
      "cell_type": "code",
      "metadata": {
        "id": "W7QKB9hunBXz",
        "colab_type": "code",
        "colab": {}
      },
      "source": [
        "def split_data(data_ori):\n",
        "    data_y = data_ori[\"count\"]\n",
        "    \n",
        "    \n",
        "\n",
        "    data_x = data_ori.drop([\"count\",\"casual\",\"registered\"], axis=1)\n",
        "\n",
        "    \n",
        "\n",
        "    return data_x.values, data_y\n",
        "\n",
        "data_x, data_y = split_data(data_ori)"
      ],
      "execution_count": 0,
      "outputs": []
    },
    {
      "cell_type": "code",
      "metadata": {
        "id": "i61d6M0jnrXn",
        "colab_type": "code",
        "colab": {}
      },
      "source": [
        "from sklearn.model_selection import train_test_split\n",
        "train_X, val_X, train_y, val_y = train_test_split(data_x,data_y, random_state=1)"
      ],
      "execution_count": 0,
      "outputs": []
    },
    {
      "cell_type": "code",
      "metadata": {
        "id": "Q_2LMNAEnBdO",
        "colab_type": "code",
        "colab": {}
      },
      "source": [
        "from sklearn.ensemble import RandomForestRegressor"
      ],
      "execution_count": 0,
      "outputs": []
    },
    {
      "cell_type": "code",
      "metadata": {
        "id": "jG84ziXTn3T_",
        "colab_type": "code",
        "colab": {
          "base_uri": "https://localhost:8080/",
          "height": 70
        },
        "outputId": "f41ffcdd-61d6-4eee-b115-0a60f4a27436"
      },
      "source": [
        "my_model=RandomForestRegressor(random_state=1).fit(train_X, train_y)"
      ],
      "execution_count": 16,
      "outputs": [
        {
          "output_type": "stream",
          "text": [
            "/usr/local/lib/python3.6/dist-packages/sklearn/ensemble/forest.py:245: FutureWarning: The default value of n_estimators will change from 10 in version 0.20 to 100 in 0.22.\n",
            "  \"10 in version 0.20 to 100 in 0.22.\", FutureWarning)\n"
          ],
          "name": "stderr"
        }
      ]
    },
    {
      "cell_type": "code",
      "metadata": {
        "id": "YqDFKoBmoFc4",
        "colab_type": "code",
        "colab": {}
      },
      "source": [
        "test=pd.read_csv(\"test.csv\")\n",
        "test_original=test.copy()"
      ],
      "execution_count": 0,
      "outputs": []
    },
    {
      "cell_type": "code",
      "metadata": {
        "id": "0BMwXcKqoeBn",
        "colab_type": "code",
        "colab": {}
      },
      "source": [
        "test_original=datetime(test_original)\n",
        "test_original=test_original.drop('datetime',axis=1)"
      ],
      "execution_count": 0,
      "outputs": []
    },
    {
      "cell_type": "code",
      "metadata": {
        "id": "TOm-X1mIoTzh",
        "colab_type": "code",
        "colab": {}
      },
      "source": [
        "test_original=normalize(test_original,[\"temp\",\"atemp\",\"humidity\",\"windspeed\"])"
      ],
      "execution_count": 0,
      "outputs": []
    },
    {
      "cell_type": "code",
      "metadata": {
        "id": "r64Hw-TgoCRs",
        "colab_type": "code",
        "colab": {}
      },
      "source": [
        "predictions = my_model.predict(test_original)"
      ],
      "execution_count": 0,
      "outputs": []
    },
    {
      "cell_type": "code",
      "metadata": {
        "id": "_BQ9Y_kHpGgs",
        "colab_type": "code",
        "colab": {
          "base_uri": "https://localhost:8080/",
          "height": 34
        },
        "outputId": "704d7455-c05a-4ea8-d06a-e5e5eee630cb"
      },
      "source": [
        "predictions.shape"
      ],
      "execution_count": 32,
      "outputs": [
        {
          "output_type": "execute_result",
          "data": {
            "text/plain": [
              "(6493,)"
            ]
          },
          "metadata": {
            "tags": []
          },
          "execution_count": 32
        }
      ]
    },
    {
      "cell_type": "code",
      "metadata": {
        "id": "8MEalwvXpILU",
        "colab_type": "code",
        "colab": {
          "base_uri": "https://localhost:8080/",
          "height": 343
        },
        "outputId": "ce799592-dbf5-4e51-af8d-8f6c6ded9672"
      },
      "source": [
        "\n",
        "evaluation=test['datetime'].to_frame()\n",
        "evaluation[\"count\"]=predictions\n",
        "evaluation[:10]"
      ],
      "execution_count": 33,
      "outputs": [
        {
          "output_type": "execute_result",
          "data": {
            "text/html": [
              "<div>\n",
              "<style scoped>\n",
              "    .dataframe tbody tr th:only-of-type {\n",
              "        vertical-align: middle;\n",
              "    }\n",
              "\n",
              "    .dataframe tbody tr th {\n",
              "        vertical-align: top;\n",
              "    }\n",
              "\n",
              "    .dataframe thead th {\n",
              "        text-align: right;\n",
              "    }\n",
              "</style>\n",
              "<table border=\"1\" class=\"dataframe\">\n",
              "  <thead>\n",
              "    <tr style=\"text-align: right;\">\n",
              "      <th></th>\n",
              "      <th>datetime</th>\n",
              "      <th>count</th>\n",
              "    </tr>\n",
              "  </thead>\n",
              "  <tbody>\n",
              "    <tr>\n",
              "      <th>0</th>\n",
              "      <td>2011-01-20 00:00:00</td>\n",
              "      <td>11.6</td>\n",
              "    </tr>\n",
              "    <tr>\n",
              "      <th>1</th>\n",
              "      <td>2011-01-20 01:00:00</td>\n",
              "      <td>5.6</td>\n",
              "    </tr>\n",
              "    <tr>\n",
              "      <th>2</th>\n",
              "      <td>2011-01-20 02:00:00</td>\n",
              "      <td>6.2</td>\n",
              "    </tr>\n",
              "    <tr>\n",
              "      <th>3</th>\n",
              "      <td>2011-01-20 03:00:00</td>\n",
              "      <td>4.7</td>\n",
              "    </tr>\n",
              "    <tr>\n",
              "      <th>4</th>\n",
              "      <td>2011-01-20 04:00:00</td>\n",
              "      <td>3.4</td>\n",
              "    </tr>\n",
              "    <tr>\n",
              "      <th>5</th>\n",
              "      <td>2011-01-20 05:00:00</td>\n",
              "      <td>8.6</td>\n",
              "    </tr>\n",
              "    <tr>\n",
              "      <th>6</th>\n",
              "      <td>2011-01-20 06:00:00</td>\n",
              "      <td>34.6</td>\n",
              "    </tr>\n",
              "    <tr>\n",
              "      <th>7</th>\n",
              "      <td>2011-01-20 07:00:00</td>\n",
              "      <td>98.0</td>\n",
              "    </tr>\n",
              "    <tr>\n",
              "      <th>8</th>\n",
              "      <td>2011-01-20 08:00:00</td>\n",
              "      <td>208.0</td>\n",
              "    </tr>\n",
              "    <tr>\n",
              "      <th>9</th>\n",
              "      <td>2011-01-20 09:00:00</td>\n",
              "      <td>124.2</td>\n",
              "    </tr>\n",
              "  </tbody>\n",
              "</table>\n",
              "</div>"
            ],
            "text/plain": [
              "              datetime  count\n",
              "0  2011-01-20 00:00:00   11.6\n",
              "1  2011-01-20 01:00:00    5.6\n",
              "2  2011-01-20 02:00:00    6.2\n",
              "3  2011-01-20 03:00:00    4.7\n",
              "4  2011-01-20 04:00:00    3.4\n",
              "5  2011-01-20 05:00:00    8.6\n",
              "6  2011-01-20 06:00:00   34.6\n",
              "7  2011-01-20 07:00:00   98.0\n",
              "8  2011-01-20 08:00:00  208.0\n",
              "9  2011-01-20 09:00:00  124.2"
            ]
          },
          "metadata": {
            "tags": []
          },
          "execution_count": 33
        }
      ]
    },
    {
      "cell_type": "code",
      "metadata": {
        "id": "qhT4sJ8ZpTBs",
        "colab_type": "code",
        "colab": {
          "base_uri": "https://localhost:8080/",
          "height": 1000
        },
        "outputId": "ff60f105-600f-401d-fe55-7b2786ccce80"
      },
      "source": [
        "evaluation[\"count\"] = evaluation[\"count\"].astype(int)\n",
        "evaluation[\"count\"]"
      ],
      "execution_count": 34,
      "outputs": [
        {
          "output_type": "execute_result",
          "data": {
            "text/plain": [
              "0        11\n",
              "1         5\n",
              "2         6\n",
              "3         4\n",
              "4         3\n",
              "5         8\n",
              "6        34\n",
              "7        98\n",
              "8       208\n",
              "9       124\n",
              "10       61\n",
              "11       60\n",
              "12       79\n",
              "13       75\n",
              "14       81\n",
              "15       82\n",
              "16       94\n",
              "17      191\n",
              "18      164\n",
              "19       94\n",
              "20       66\n",
              "21       58\n",
              "22       54\n",
              "23       22\n",
              "24       14\n",
              "25        5\n",
              "26        3\n",
              "27        2\n",
              "28        2\n",
              "29        5\n",
              "       ... \n",
              "6463    242\n",
              "6464    185\n",
              "6465    140\n",
              "6466     82\n",
              "6467     71\n",
              "6468     51\n",
              "6469     12\n",
              "6470      7\n",
              "6471      3\n",
              "6472      2\n",
              "6473      2\n",
              "6474     20\n",
              "6475     79\n",
              "6476    237\n",
              "6477    422\n",
              "6478    216\n",
              "6479    131\n",
              "6480    108\n",
              "6481    132\n",
              "6482    147\n",
              "6483    144\n",
              "6484    144\n",
              "6485    197\n",
              "6486    258\n",
              "6487    285\n",
              "6488    229\n",
              "6489    174\n",
              "6490    121\n",
              "6491     96\n",
              "6492     50\n",
              "Name: count, Length: 6493, dtype: int64"
            ]
          },
          "metadata": {
            "tags": []
          },
          "execution_count": 34
        }
      ]
    },
    {
      "cell_type": "code",
      "metadata": {
        "id": "hnHLdSXFpYYI",
        "colab_type": "code",
        "colab": {}
      },
      "source": [
        "evaluation.to_csv(\"submissionv20.csv\",index=False)"
      ],
      "execution_count": 0,
      "outputs": []
    }
  ]
}
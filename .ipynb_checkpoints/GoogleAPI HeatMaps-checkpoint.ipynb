{
 "cells": [
  {
   "cell_type": "code",
   "execution_count": null,
   "metadata": {},
   "outputs": [],
   "source": [
    "#Requires installation of gaps, uncomment if required\n",
    "\n",
    "#conda install gmaps"
   ]
  },
  {
   "cell_type": "code",
   "execution_count": 1,
   "metadata": {},
   "outputs": [],
   "source": [
    "%matplotlib inline\n",
    "import pandas as pd\n",
    "import numpy as np"
   ]
  },
  {
   "cell_type": "code",
   "execution_count": 2,
   "metadata": {},
   "outputs": [],
   "source": [
    "import os\n",
    "import gmaps"
   ]
  },
  {
   "cell_type": "code",
   "execution_count": 3,
   "metadata": {},
   "outputs": [],
   "source": [
    "gmaps.configure(api_key=os.environ[\"GOOGLE_API\"])"
   ]
  },
  {
   "cell_type": "markdown",
   "metadata": {},
   "source": [
    "locations = earthquake_df[['latitude', 'longitude']]<br>\n",
    "weights = earthquake_df['magnitude']<br>\n",
    "fig = gmaps.figure()<br>\n",
    "fig.add_layer(gmaps.heatmap_layer(locations, weights=weights))<br>\n",
    "fig<br>\n",
    "\n",
    "# Made into Markup"
   ]
  },
  {
   "cell_type": "code",
   "execution_count": 4,
   "metadata": {},
   "outputs": [
    {
     "data": {
      "text/html": [
       "<div>\n",
       "<style scoped>\n",
       "    .dataframe tbody tr th:only-of-type {\n",
       "        vertical-align: middle;\n",
       "    }\n",
       "\n",
       "    .dataframe tbody tr th {\n",
       "        vertical-align: top;\n",
       "    }\n",
       "\n",
       "    .dataframe thead th {\n",
       "        text-align: right;\n",
       "    }\n",
       "</style>\n",
       "<table border=\"1\" class=\"dataframe\">\n",
       "  <thead>\n",
       "    <tr style=\"text-align: right;\">\n",
       "      <th></th>\n",
       "      <th>names</th>\n",
       "      <th>Price</th>\n",
       "      <th>lat</th>\n",
       "      <th>lon</th>\n",
       "      <th>random</th>\n",
       "    </tr>\n",
       "  </thead>\n",
       "  <tbody>\n",
       "    <tr>\n",
       "      <th>0</th>\n",
       "      <td>Salarpuria Sattva Cadenza</td>\n",
       "      <td>416.5</td>\n",
       "      <td>12.889441</td>\n",
       "      <td>77.640221</td>\n",
       "      <td>2</td>\n",
       "    </tr>\n",
       "    <tr>\n",
       "      <th>1</th>\n",
       "      <td>Salarpuria Sattva Cadenza</td>\n",
       "      <td>750.0</td>\n",
       "      <td>12.889441</td>\n",
       "      <td>77.640221</td>\n",
       "      <td>0</td>\n",
       "    </tr>\n",
       "    <tr>\n",
       "      <th>2</th>\n",
       "      <td>Salarpuria Sattva Cadenza</td>\n",
       "      <td>733.0</td>\n",
       "      <td>12.889441</td>\n",
       "      <td>77.640221</td>\n",
       "      <td>4</td>\n",
       "    </tr>\n",
       "    <tr>\n",
       "      <th>3</th>\n",
       "      <td>Salarpuria Sattva Cadenza</td>\n",
       "      <td>950.0</td>\n",
       "      <td>12.889441</td>\n",
       "      <td>77.640221</td>\n",
       "      <td>8</td>\n",
       "    </tr>\n",
       "    <tr>\n",
       "      <th>4</th>\n",
       "      <td>Purva Skydale</td>\n",
       "      <td>1750.0</td>\n",
       "      <td>12.894033</td>\n",
       "      <td>77.662362</td>\n",
       "      <td>0</td>\n",
       "    </tr>\n",
       "  </tbody>\n",
       "</table>\n",
       "</div>"
      ],
      "text/plain": [
       "                       names   Price        lat        lon  random\n",
       "0  Salarpuria Sattva Cadenza   416.5  12.889441  77.640221       2\n",
       "1  Salarpuria Sattva Cadenza   750.0  12.889441  77.640221       0\n",
       "2  Salarpuria Sattva Cadenza   733.0  12.889441  77.640221       4\n",
       "3  Salarpuria Sattva Cadenza   950.0  12.889441  77.640221       8\n",
       "4              Purva Skydale  1750.0  12.894033  77.662362       0"
      ]
     },
     "execution_count": 4,
     "metadata": {},
     "output_type": "execute_result"
    }
   ],
   "source": [
    "df = pd.read_csv(\"DataSet.csv\")\n",
    "df.drop(['Unnamed: 0'], axis = 1, inplace=True)\n",
    "df['random'] = np.random.randint(0,11, len(df))\n",
    "df.head()"
   ]
  },
  {
   "cell_type": "code",
   "execution_count": 5,
   "metadata": {},
   "outputs": [],
   "source": [
    "locations = df[['lat','lon']]\n",
    "weights = df['Price']\n"
   ]
  },
  {
   "cell_type": "code",
   "execution_count": 6,
   "metadata": {},
   "outputs": [
    {
     "data": {
      "application/vnd.jupyter.widget-view+json": {
       "model_id": "246dccd545374c9dac2e5add98c7e24a",
       "version_major": 2,
       "version_minor": 0
      },
      "text/plain": [
       "Figure(layout=FigureLayout(height='420px'))"
      ]
     },
     "metadata": {},
     "output_type": "display_data"
    }
   ],
   "source": [
    "fig = gmaps.figure(center = (12.9716,77.5946), zoom_level = 10)\n",
    "fig.add_layer(gmaps.heatmap_layer(locations, weights=weights))\n",
    "fig"
   ]
  },
  {
   "cell_type": "code",
   "execution_count": 7,
   "metadata": {},
   "outputs": [],
   "source": [
    "df2 = pd.DataFrame()"
   ]
  },
  {
   "cell_type": "code",
   "execution_count": 8,
   "metadata": {},
   "outputs": [
    {
     "data": {
      "text/html": [
       "<div>\n",
       "<style scoped>\n",
       "    .dataframe tbody tr th:only-of-type {\n",
       "        vertical-align: middle;\n",
       "    }\n",
       "\n",
       "    .dataframe tbody tr th {\n",
       "        vertical-align: top;\n",
       "    }\n",
       "\n",
       "    .dataframe thead th {\n",
       "        text-align: right;\n",
       "    }\n",
       "</style>\n",
       "<table border=\"1\" class=\"dataframe\">\n",
       "  <thead>\n",
       "    <tr style=\"text-align: right;\">\n",
       "      <th></th>\n",
       "      <th>lat</th>\n",
       "      <th>lon</th>\n",
       "      <th>random</th>\n",
       "    </tr>\n",
       "  </thead>\n",
       "  <tbody>\n",
       "    <tr>\n",
       "      <th>0</th>\n",
       "      <td>12.959646</td>\n",
       "      <td>77.653503</td>\n",
       "      <td>471</td>\n",
       "    </tr>\n",
       "    <tr>\n",
       "      <th>1</th>\n",
       "      <td>13.061759</td>\n",
       "      <td>77.556353</td>\n",
       "      <td>605</td>\n",
       "    </tr>\n",
       "    <tr>\n",
       "      <th>2</th>\n",
       "      <td>12.924263</td>\n",
       "      <td>77.787715</td>\n",
       "      <td>57</td>\n",
       "    </tr>\n",
       "    <tr>\n",
       "      <th>3</th>\n",
       "      <td>13.139253</td>\n",
       "      <td>77.801984</td>\n",
       "      <td>474</td>\n",
       "    </tr>\n",
       "    <tr>\n",
       "      <th>4</th>\n",
       "      <td>12.780804</td>\n",
       "      <td>77.718552</td>\n",
       "      <td>366</td>\n",
       "    </tr>\n",
       "  </tbody>\n",
       "</table>\n",
       "</div>"
      ],
      "text/plain": [
       "         lat        lon  random\n",
       "0  12.959646  77.653503     471\n",
       "1  13.061759  77.556353     605\n",
       "2  12.924263  77.787715      57\n",
       "3  13.139253  77.801984     474\n",
       "4  12.780804  77.718552     366"
      ]
     },
     "execution_count": 8,
     "metadata": {},
     "output_type": "execute_result"
    }
   ],
   "source": [
    "df2['lat'] = np.random.uniform(12.75,13.3, size=2000)\n",
    "\n",
    "df2['lon'] = np.random.uniform(77.4, 77.9, size=2000)\n",
    "\n",
    "df2['random'] = np.random.randint(0,1001, size=2000)\n",
    "\n",
    "df2.head()"
   ]
  },
  {
   "cell_type": "code",
   "execution_count": 9,
   "metadata": {
    "scrolled": true
   },
   "outputs": [
    {
     "data": {
      "application/vnd.jupyter.widget-view+json": {
       "model_id": "14ae8d6d5f0c466e85a65cab622a216a",
       "version_major": 2,
       "version_minor": 0
      },
      "text/plain": [
       "Figure(layout=FigureLayout(height='420px'))"
      ]
     },
     "metadata": {},
     "output_type": "display_data"
    }
   ],
   "source": [
    "locations = df2[['lat','lon']]\n",
    "weights = df2['random']\n",
    "\n",
    "\n",
    "fig = gmaps.figure(center = (12.9716,77.5946), zoom_level = 10)\n",
    "fig.add_layer(gmaps.heatmap_layer(locations, weights=weights))\n",
    "fig"
   ]
  },
  {
   "cell_type": "code",
   "execution_count": 12,
   "metadata": {},
   "outputs": [],
   "source": [
    "import json\n",
    "with open('grid.json') as f:\n",
    "    blr_grid = json.load(f)"
   ]
  },
  {
   "cell_type": "code",
   "execution_count": 38,
   "metadata": {},
   "outputs": [
    {
     "data": {
      "text/plain": [
       "{'type': 'Feature',\n",
       " 'properties': {'number': 6, 'rand': 0.871},\n",
       " 'geometry': {'type': 'Polygon',\n",
       "  'coordinates': [[[77.42105916604272, 12.711342329392307],\n",
       "    [77.42105916604272, 12.71583893121093],\n",
       "    [77.4256682451762, 12.71583893121093],\n",
       "    [77.4256682451762, 12.711342329392307],\n",
       "    [77.42105916604272, 12.711342329392307]]]}}"
      ]
     },
     "execution_count": 38,
     "metadata": {},
     "output_type": "execute_result"
    }
   ],
   "source": [
    "blr_grid['features'][6]"
   ]
  },
  {
   "cell_type": "code",
   "execution_count": 39,
   "metadata": {},
   "outputs": [],
   "source": [
    "import random\n",
    "for num in range(len(blr_grid['features'])):\n",
    "    blr_grid['features'][num]['properties']['number'] = num\n",
    "    blr_grid['features'][num]['properties']['rand'] = random.randint(0,1001)/1000\n",
    "    "
   ]
  },
  {
   "cell_type": "code",
   "execution_count": 49,
   "metadata": {},
   "outputs": [],
   "source": [
    "from matplotlib.cm import viridis\n",
    "from matplotlib.colors import to_hex\n",
    "\n",
    "colors = []\n",
    "\n",
    "for feature in blr_grid['features']:\n",
    "    try:\n",
    "        color = to_hex(viridis(feature['properties']['rand']), keep_alpha=False)\n",
    "    except KeyError:\n",
    "        # no GINI for that country: return default color\n",
    "        color = (0, 0, 0, 0.3)\n",
    "    colors.append(color)\n"
   ]
  },
  {
   "cell_type": "code",
   "execution_count": 51,
   "metadata": {},
   "outputs": [
    {
     "data": {
      "application/vnd.jupyter.widget-view+json": {
       "model_id": "ccd93a72593f45a59a902e77b4e36fae",
       "version_major": 2,
       "version_minor": 0
      },
      "text/plain": [
       "Figure(layout=FigureLayout(height='420px'))"
      ]
     },
     "metadata": {},
     "output_type": "display_data"
    }
   ],
   "source": [
    "fig = gmaps.figure(center = (12.9716,77.5946), zoom_level = 10)\n",
    "fig.add_layer(gmaps.geojson_layer(blr_grid, fill_color=colors, stroke_color=colors, fill_opacity=0.8))\n",
    "fig"
   ]
  },
  {
   "cell_type": "code",
   "execution_count": 52,
   "metadata": {},
   "outputs": [
    {
     "data": {
      "text/plain": [
       "2"
      ]
     },
     "execution_count": 52,
     "metadata": {},
     "output_type": "execute_result"
    }
   ],
   "source": [
    "len(blr_grid)"
   ]
  },
  {
   "cell_type": "code",
   "execution_count": null,
   "metadata": {},
   "outputs": [],
   "source": []
  }
 ],
 "metadata": {
  "kernelspec": {
   "display_name": "Python 3",
   "language": "python",
   "name": "python3"
  },
  "language_info": {
   "codemirror_mode": {
    "name": "ipython",
    "version": 3
   },
   "file_extension": ".py",
   "mimetype": "text/x-python",
   "name": "python",
   "nbconvert_exporter": "python",
   "pygments_lexer": "ipython3",
   "version": "3.7.3"
  }
 },
 "nbformat": 4,
 "nbformat_minor": 2
}

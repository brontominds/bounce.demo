{
  "nbformat": 4,
  "nbformat_minor": 0,
  "metadata": {
    "colab": {
      "name": "Untitled4.ipynb",
      "version": "0.3.2",
      "provenance": [],
      "include_colab_link": true
    },
    "kernelspec": {
      "name": "python3",
      "display_name": "Python 3"
    }
  },
  "cells": [
    {
      "cell_type": "markdown",
      "metadata": {
        "id": "view-in-github",
        "colab_type": "text"
      },
      "source": [
        "<a href=\"https://colab.research.google.com/github/brontominds/bounce.demo/blob/Ver0.01a/Bounce_assignment_monday_MAE.ipynb\" target=\"_parent\"><img src=\"https://colab.research.google.com/assets/colab-badge.svg\" alt=\"Open In Colab\"/></a>"
      ]
    },
    {
      "cell_type": "code",
      "metadata": {
        "id": "di2rZZ5ttr_s",
        "colab_type": "code",
        "colab": {}
      },
      "source": [
        "import pandas as pd\n",
        "from sklearn.utils import shuffle"
      ],
      "execution_count": 0,
      "outputs": []
    },
    {
      "cell_type": "code",
      "metadata": {
        "id": "FzJEKyoittpG",
        "colab_type": "code",
        "colab": {}
      },
      "source": [
        "data=pd.read_csv(\"train.csv\")#Making it Relative Path -Mayank\n",
        "data_ori=data.copy()"
      ],
      "execution_count": 0,
      "outputs": []
    },
    {
      "cell_type": "code",
      "metadata": {
        "id": "Pm8NY9YAtwR5",
        "colab_type": "code",
        "colab": {}
      },
      "source": [
        "import matplotlib.pyplot as plt  # For plotting graphs \n",
        "from datetime import datetime    # To access datetime \n",
        "        \n",
        "%matplotlib inline"
      ],
      "execution_count": 0,
      "outputs": []
    },
    {
      "cell_type": "code",
      "metadata": {
        "id": "M46KLnFytzHA",
        "colab_type": "code",
        "colab": {}
      },
      "source": [
        "def datetime(df):\n",
        "  from datetime import datetime\n",
        "  df['datetime'] = pd.to_datetime(df['datetime'])\n",
        "  df['year'] = df['datetime'].dt.year \n",
        "  df['day'] = df['datetime'].dt.day \n",
        "  df['hour'] = df['datetime'].dt.hour\n",
        "  df['date'] = df['datetime'].dt.date\n",
        "  df['Day of Week'] = df['datetime'].apply(lambda time: time.dayofweek)\n",
        "  \n",
        "  return df"
      ],
      "execution_count": 0,
      "outputs": []
    },
    {
      "cell_type": "code",
      "metadata": {
        "id": "zsciuSkTt3XP",
        "colab_type": "code",
        "colab": {}
      },
      "source": [
        "data_ori=datetime(data_ori)"
      ],
      "execution_count": 0,
      "outputs": []
    },
    {
      "cell_type": "code",
      "metadata": {
        "id": "s_L8QkopyKXg",
        "colab_type": "code",
        "colab": {}
      },
      "source": [
        "def normalize(df,columns):\n",
        "    result=df.copy()\n",
        "    for feature_name in columns :\n",
        "        mean_value = df[feature_name].mean()\n",
        "        std_value = df[feature_name].std()\n",
        "        result[feature_name] = (df[feature_name] - mean_value) / std_value\n",
        "        \n",
        "    return result"
      ],
      "execution_count": 0,
      "outputs": []
    },
    {
      "cell_type": "code",
      "metadata": {
        "id": "ZpnaQN28yMup",
        "colab_type": "code",
        "colab": {}
      },
      "source": [
        "data_ori=normalize(data_ori,[\"temp\",\"atemp\",\"humidity\",\"windspeed\"])"
      ],
      "execution_count": 0,
      "outputs": []
    },
    {
      "cell_type": "code",
      "metadata": {
        "id": "l5isIRDNuEFy",
        "colab_type": "code",
        "colab": {
          "base_uri": "https://localhost:8080/",
          "height": 195
        },
        "outputId": "bb872fb6-2acc-4db1-ab77-c96d194d88d7"
      },
      "source": [
        "data_ori.head()"
      ],
      "execution_count": 505,
      "outputs": [
        {
          "output_type": "execute_result",
          "data": {
            "text/html": [
              "<div>\n",
              "<style scoped>\n",
              "    .dataframe tbody tr th:only-of-type {\n",
              "        vertical-align: middle;\n",
              "    }\n",
              "\n",
              "    .dataframe tbody tr th {\n",
              "        vertical-align: top;\n",
              "    }\n",
              "\n",
              "    .dataframe thead th {\n",
              "        text-align: right;\n",
              "    }\n",
              "</style>\n",
              "<table border=\"1\" class=\"dataframe\">\n",
              "  <thead>\n",
              "    <tr style=\"text-align: right;\">\n",
              "      <th></th>\n",
              "      <th>datetime</th>\n",
              "      <th>season</th>\n",
              "      <th>holiday</th>\n",
              "      <th>workingday</th>\n",
              "      <th>weather</th>\n",
              "      <th>temp</th>\n",
              "      <th>atemp</th>\n",
              "      <th>humidity</th>\n",
              "      <th>windspeed</th>\n",
              "      <th>casual</th>\n",
              "      <th>registered</th>\n",
              "      <th>count</th>\n",
              "      <th>year</th>\n",
              "      <th>day</th>\n",
              "      <th>hour</th>\n",
              "      <th>date</th>\n",
              "      <th>Day of Week</th>\n",
              "    </tr>\n",
              "  </thead>\n",
              "  <tbody>\n",
              "    <tr>\n",
              "      <th>0</th>\n",
              "      <td>2011-01-01 00:00:00</td>\n",
              "      <td>1</td>\n",
              "      <td>0</td>\n",
              "      <td>0</td>\n",
              "      <td>1</td>\n",
              "      <td>-1.333599</td>\n",
              "      <td>-1.092687</td>\n",
              "      <td>0.993167</td>\n",
              "      <td>-1.567682</td>\n",
              "      <td>3</td>\n",
              "      <td>13</td>\n",
              "      <td>16</td>\n",
              "      <td>2011</td>\n",
              "      <td>1</td>\n",
              "      <td>0</td>\n",
              "      <td>2011-01-01</td>\n",
              "      <td>5</td>\n",
              "    </tr>\n",
              "    <tr>\n",
              "      <th>1</th>\n",
              "      <td>2011-01-01 01:00:00</td>\n",
              "      <td>1</td>\n",
              "      <td>0</td>\n",
              "      <td>0</td>\n",
              "      <td>1</td>\n",
              "      <td>-1.438841</td>\n",
              "      <td>-1.182367</td>\n",
              "      <td>0.941206</td>\n",
              "      <td>-1.567682</td>\n",
              "      <td>8</td>\n",
              "      <td>32</td>\n",
              "      <td>40</td>\n",
              "      <td>2011</td>\n",
              "      <td>1</td>\n",
              "      <td>1</td>\n",
              "      <td>2011-01-01</td>\n",
              "      <td>5</td>\n",
              "    </tr>\n",
              "    <tr>\n",
              "      <th>2</th>\n",
              "      <td>2011-01-01 02:00:00</td>\n",
              "      <td>1</td>\n",
              "      <td>0</td>\n",
              "      <td>0</td>\n",
              "      <td>1</td>\n",
              "      <td>-1.438841</td>\n",
              "      <td>-1.182367</td>\n",
              "      <td>0.941206</td>\n",
              "      <td>-1.567682</td>\n",
              "      <td>5</td>\n",
              "      <td>27</td>\n",
              "      <td>32</td>\n",
              "      <td>2011</td>\n",
              "      <td>1</td>\n",
              "      <td>2</td>\n",
              "      <td>2011-01-01</td>\n",
              "      <td>5</td>\n",
              "    </tr>\n",
              "    <tr>\n",
              "      <th>3</th>\n",
              "      <td>2011-01-01 03:00:00</td>\n",
              "      <td>1</td>\n",
              "      <td>0</td>\n",
              "      <td>0</td>\n",
              "      <td>1</td>\n",
              "      <td>-1.333599</td>\n",
              "      <td>-1.092687</td>\n",
              "      <td>0.681399</td>\n",
              "      <td>-1.567682</td>\n",
              "      <td>3</td>\n",
              "      <td>10</td>\n",
              "      <td>13</td>\n",
              "      <td>2011</td>\n",
              "      <td>1</td>\n",
              "      <td>3</td>\n",
              "      <td>2011-01-01</td>\n",
              "      <td>5</td>\n",
              "    </tr>\n",
              "    <tr>\n",
              "      <th>4</th>\n",
              "      <td>2011-01-01 04:00:00</td>\n",
              "      <td>1</td>\n",
              "      <td>0</td>\n",
              "      <td>0</td>\n",
              "      <td>1</td>\n",
              "      <td>-1.333599</td>\n",
              "      <td>-1.092687</td>\n",
              "      <td>0.681399</td>\n",
              "      <td>-1.567682</td>\n",
              "      <td>0</td>\n",
              "      <td>1</td>\n",
              "      <td>1</td>\n",
              "      <td>2011</td>\n",
              "      <td>1</td>\n",
              "      <td>4</td>\n",
              "      <td>2011-01-01</td>\n",
              "      <td>5</td>\n",
              "    </tr>\n",
              "  </tbody>\n",
              "</table>\n",
              "</div>"
            ],
            "text/plain": [
              "             datetime  season  holiday  ...  hour        date  Day of Week\n",
              "0 2011-01-01 00:00:00       1        0  ...     0  2011-01-01            5\n",
              "1 2011-01-01 01:00:00       1        0  ...     1  2011-01-01            5\n",
              "2 2011-01-01 02:00:00       1        0  ...     2  2011-01-01            5\n",
              "3 2011-01-01 03:00:00       1        0  ...     3  2011-01-01            5\n",
              "4 2011-01-01 04:00:00       1        0  ...     4  2011-01-01            5\n",
              "\n",
              "[5 rows x 17 columns]"
            ]
          },
          "metadata": {
            "tags": []
          },
          "execution_count": 505
        }
      ]
    },
    {
      "cell_type": "code",
      "metadata": {
        "id": "EEVH9_s8Np8F",
        "colab_type": "code",
        "colab": {
          "base_uri": "https://localhost:8080/",
          "height": 151
        },
        "outputId": "07acc62c-d4c3-495e-f1ed-8e95ddeb32ed"
      },
      "source": [
        "data_ori['Day of Week'].value_counts()"
      ],
      "execution_count": 506,
      "outputs": [
        {
          "output_type": "execute_result",
          "data": {
            "text/plain": [
              "5    1584\n",
              "6    1579\n",
              "3    1553\n",
              "2    1551\n",
              "0    1551\n",
              "1    1539\n",
              "4    1529\n",
              "Name: Day of Week, dtype: int64"
            ]
          },
          "metadata": {
            "tags": []
          },
          "execution_count": 506
        }
      ]
    },
    {
      "cell_type": "code",
      "metadata": {
        "id": "5EN6ijjpVBDn",
        "colab_type": "code",
        "colab": {}
      },
      "source": [
        "data_ori=data_ori[data_ori['Day of Week']==0]"
      ],
      "execution_count": 0,
      "outputs": []
    },
    {
      "cell_type": "code",
      "metadata": {
        "id": "eeJ4O3jFVmNt",
        "colab_type": "code",
        "colab": {
          "base_uri": "https://localhost:8080/",
          "height": 195
        },
        "outputId": "fee18888-f364-4394-e344-e21805a773be"
      },
      "source": [
        "data_ori.head()"
      ],
      "execution_count": 508,
      "outputs": [
        {
          "output_type": "execute_result",
          "data": {
            "text/html": [
              "<div>\n",
              "<style scoped>\n",
              "    .dataframe tbody tr th:only-of-type {\n",
              "        vertical-align: middle;\n",
              "    }\n",
              "\n",
              "    .dataframe tbody tr th {\n",
              "        vertical-align: top;\n",
              "    }\n",
              "\n",
              "    .dataframe thead th {\n",
              "        text-align: right;\n",
              "    }\n",
              "</style>\n",
              "<table border=\"1\" class=\"dataframe\">\n",
              "  <thead>\n",
              "    <tr style=\"text-align: right;\">\n",
              "      <th></th>\n",
              "      <th>datetime</th>\n",
              "      <th>season</th>\n",
              "      <th>holiday</th>\n",
              "      <th>workingday</th>\n",
              "      <th>weather</th>\n",
              "      <th>temp</th>\n",
              "      <th>atemp</th>\n",
              "      <th>humidity</th>\n",
              "      <th>windspeed</th>\n",
              "      <th>casual</th>\n",
              "      <th>registered</th>\n",
              "      <th>count</th>\n",
              "      <th>year</th>\n",
              "      <th>day</th>\n",
              "      <th>hour</th>\n",
              "      <th>date</th>\n",
              "      <th>Day of Week</th>\n",
              "    </tr>\n",
              "  </thead>\n",
              "  <tbody>\n",
              "    <tr>\n",
              "      <th>47</th>\n",
              "      <td>2011-01-03 00:00:00</td>\n",
              "      <td>1</td>\n",
              "      <td>0</td>\n",
              "      <td>1</td>\n",
              "      <td>1</td>\n",
              "      <td>-1.438841</td>\n",
              "      <td>-1.628995</td>\n",
              "      <td>-0.929407</td>\n",
              "      <td>1.371787</td>\n",
              "      <td>0</td>\n",
              "      <td>5</td>\n",
              "      <td>5</td>\n",
              "      <td>2011</td>\n",
              "      <td>3</td>\n",
              "      <td>0</td>\n",
              "      <td>2011-01-03</td>\n",
              "      <td>0</td>\n",
              "    </tr>\n",
              "    <tr>\n",
              "      <th>48</th>\n",
              "      <td>2011-01-03 01:00:00</td>\n",
              "      <td>1</td>\n",
              "      <td>0</td>\n",
              "      <td>1</td>\n",
              "      <td>1</td>\n",
              "      <td>-1.544083</td>\n",
              "      <td>-1.807765</td>\n",
              "      <td>-0.929407</td>\n",
              "      <td>1.861698</td>\n",
              "      <td>0</td>\n",
              "      <td>2</td>\n",
              "      <td>2</td>\n",
              "      <td>2011</td>\n",
              "      <td>3</td>\n",
              "      <td>1</td>\n",
              "      <td>2011-01-03</td>\n",
              "      <td>0</td>\n",
              "    </tr>\n",
              "    <tr>\n",
              "      <th>49</th>\n",
              "      <td>2011-01-03 04:00:00</td>\n",
              "      <td>1</td>\n",
              "      <td>0</td>\n",
              "      <td>1</td>\n",
              "      <td>1</td>\n",
              "      <td>-1.754566</td>\n",
              "      <td>-1.986534</td>\n",
              "      <td>-0.773522</td>\n",
              "      <td>1.617153</td>\n",
              "      <td>0</td>\n",
              "      <td>1</td>\n",
              "      <td>1</td>\n",
              "      <td>2011</td>\n",
              "      <td>3</td>\n",
              "      <td>4</td>\n",
              "      <td>2011-01-03</td>\n",
              "      <td>0</td>\n",
              "    </tr>\n",
              "    <tr>\n",
              "      <th>50</th>\n",
              "      <td>2011-01-03 05:00:00</td>\n",
              "      <td>1</td>\n",
              "      <td>0</td>\n",
              "      <td>1</td>\n",
              "      <td>1</td>\n",
              "      <td>-1.754566</td>\n",
              "      <td>-1.986534</td>\n",
              "      <td>-0.773522</td>\n",
              "      <td>0.759603</td>\n",
              "      <td>0</td>\n",
              "      <td>3</td>\n",
              "      <td>3</td>\n",
              "      <td>2011</td>\n",
              "      <td>3</td>\n",
              "      <td>5</td>\n",
              "      <td>2011-01-03</td>\n",
              "      <td>0</td>\n",
              "    </tr>\n",
              "    <tr>\n",
              "      <th>51</th>\n",
              "      <td>2011-01-03 06:00:00</td>\n",
              "      <td>1</td>\n",
              "      <td>0</td>\n",
              "      <td>1</td>\n",
              "      <td>1</td>\n",
              "      <td>-1.859808</td>\n",
              "      <td>-2.165304</td>\n",
              "      <td>-0.617638</td>\n",
              "      <td>1.617153</td>\n",
              "      <td>0</td>\n",
              "      <td>30</td>\n",
              "      <td>30</td>\n",
              "      <td>2011</td>\n",
              "      <td>3</td>\n",
              "      <td>6</td>\n",
              "      <td>2011-01-03</td>\n",
              "      <td>0</td>\n",
              "    </tr>\n",
              "  </tbody>\n",
              "</table>\n",
              "</div>"
            ],
            "text/plain": [
              "              datetime  season  holiday  ...  hour        date  Day of Week\n",
              "47 2011-01-03 00:00:00       1        0  ...     0  2011-01-03            0\n",
              "48 2011-01-03 01:00:00       1        0  ...     1  2011-01-03            0\n",
              "49 2011-01-03 04:00:00       1        0  ...     4  2011-01-03            0\n",
              "50 2011-01-03 05:00:00       1        0  ...     5  2011-01-03            0\n",
              "51 2011-01-03 06:00:00       1        0  ...     6  2011-01-03            0\n",
              "\n",
              "[5 rows x 17 columns]"
            ]
          },
          "metadata": {
            "tags": []
          },
          "execution_count": 508
        }
      ]
    },
    {
      "cell_type": "code",
      "metadata": {
        "id": "H1MMx46gWSOd",
        "colab_type": "code",
        "colab": {}
      },
      "source": [
        "data_ori=data_ori.sort_values(by='datetime',ascending=False)"
      ],
      "execution_count": 0,
      "outputs": []
    },
    {
      "cell_type": "code",
      "metadata": {
        "id": "DXNxxvADnqwi",
        "colab_type": "code",
        "colab": {
          "base_uri": "https://localhost:8080/",
          "height": 195
        },
        "outputId": "cfecfd9d-dac7-4363-9623-2f3f36e75774"
      },
      "source": [
        "data_ori.head()\n"
      ],
      "execution_count": 510,
      "outputs": [
        {
          "output_type": "execute_result",
          "data": {
            "text/html": [
              "<div>\n",
              "<style scoped>\n",
              "    .dataframe tbody tr th:only-of-type {\n",
              "        vertical-align: middle;\n",
              "    }\n",
              "\n",
              "    .dataframe tbody tr th {\n",
              "        vertical-align: top;\n",
              "    }\n",
              "\n",
              "    .dataframe thead th {\n",
              "        text-align: right;\n",
              "    }\n",
              "</style>\n",
              "<table border=\"1\" class=\"dataframe\">\n",
              "  <thead>\n",
              "    <tr style=\"text-align: right;\">\n",
              "      <th></th>\n",
              "      <th>datetime</th>\n",
              "      <th>season</th>\n",
              "      <th>holiday</th>\n",
              "      <th>workingday</th>\n",
              "      <th>weather</th>\n",
              "      <th>temp</th>\n",
              "      <th>atemp</th>\n",
              "      <th>humidity</th>\n",
              "      <th>windspeed</th>\n",
              "      <th>casual</th>\n",
              "      <th>registered</th>\n",
              "      <th>count</th>\n",
              "      <th>year</th>\n",
              "      <th>day</th>\n",
              "      <th>hour</th>\n",
              "      <th>date</th>\n",
              "      <th>Day of Week</th>\n",
              "    </tr>\n",
              "  </thead>\n",
              "  <tbody>\n",
              "    <tr>\n",
              "      <th>10837</th>\n",
              "      <td>2012-12-17 23:00:00</td>\n",
              "      <td>4</td>\n",
              "      <td>0</td>\n",
              "      <td>1</td>\n",
              "      <td>3</td>\n",
              "      <td>-0.386424</td>\n",
              "      <td>-0.288519</td>\n",
              "      <td>1.668666</td>\n",
              "      <td>0.269691</td>\n",
              "      <td>6</td>\n",
              "      <td>41</td>\n",
              "      <td>47</td>\n",
              "      <td>2012</td>\n",
              "      <td>17</td>\n",
              "      <td>23</td>\n",
              "      <td>2012-12-17</td>\n",
              "      <td>0</td>\n",
              "    </tr>\n",
              "    <tr>\n",
              "      <th>10836</th>\n",
              "      <td>2012-12-17 22:00:00</td>\n",
              "      <td>4</td>\n",
              "      <td>0</td>\n",
              "      <td>1</td>\n",
              "      <td>2</td>\n",
              "      <td>-0.386424</td>\n",
              "      <td>-0.288519</td>\n",
              "      <td>1.668666</td>\n",
              "      <td>-0.465586</td>\n",
              "      <td>5</td>\n",
              "      <td>49</td>\n",
              "      <td>54</td>\n",
              "      <td>2012</td>\n",
              "      <td>17</td>\n",
              "      <td>22</td>\n",
              "      <td>2012-12-17</td>\n",
              "      <td>0</td>\n",
              "    </tr>\n",
              "    <tr>\n",
              "      <th>10835</th>\n",
              "      <td>2012-12-17 21:00:00</td>\n",
              "      <td>4</td>\n",
              "      <td>0</td>\n",
              "      <td>1</td>\n",
              "      <td>2</td>\n",
              "      <td>-0.386424</td>\n",
              "      <td>-0.288519</td>\n",
              "      <td>1.668666</td>\n",
              "      <td>-0.465586</td>\n",
              "      <td>6</td>\n",
              "      <td>114</td>\n",
              "      <td>120</td>\n",
              "      <td>2012</td>\n",
              "      <td>17</td>\n",
              "      <td>21</td>\n",
              "      <td>2012-12-17</td>\n",
              "      <td>0</td>\n",
              "    </tr>\n",
              "    <tr>\n",
              "      <th>10834</th>\n",
              "      <td>2012-12-17 20:00:00</td>\n",
              "      <td>4</td>\n",
              "      <td>0</td>\n",
              "      <td>1</td>\n",
              "      <td>2</td>\n",
              "      <td>-0.386424</td>\n",
              "      <td>-0.288519</td>\n",
              "      <td>1.668666</td>\n",
              "      <td>0.514237</td>\n",
              "      <td>8</td>\n",
              "      <td>192</td>\n",
              "      <td>200</td>\n",
              "      <td>2012</td>\n",
              "      <td>17</td>\n",
              "      <td>20</td>\n",
              "      <td>2012-12-17</td>\n",
              "      <td>0</td>\n",
              "    </tr>\n",
              "    <tr>\n",
              "      <th>10833</th>\n",
              "      <td>2012-12-17 19:00:00</td>\n",
              "      <td>4</td>\n",
              "      <td>0</td>\n",
              "      <td>1</td>\n",
              "      <td>2</td>\n",
              "      <td>-0.386424</td>\n",
              "      <td>-0.288519</td>\n",
              "      <td>1.356898</td>\n",
              "      <td>-0.465586</td>\n",
              "      <td>7</td>\n",
              "      <td>333</td>\n",
              "      <td>340</td>\n",
              "      <td>2012</td>\n",
              "      <td>17</td>\n",
              "      <td>19</td>\n",
              "      <td>2012-12-17</td>\n",
              "      <td>0</td>\n",
              "    </tr>\n",
              "  </tbody>\n",
              "</table>\n",
              "</div>"
            ],
            "text/plain": [
              "                 datetime  season  holiday  ...  hour        date  Day of Week\n",
              "10837 2012-12-17 23:00:00       4        0  ...    23  2012-12-17            0\n",
              "10836 2012-12-17 22:00:00       4        0  ...    22  2012-12-17            0\n",
              "10835 2012-12-17 21:00:00       4        0  ...    21  2012-12-17            0\n",
              "10834 2012-12-17 20:00:00       4        0  ...    20  2012-12-17            0\n",
              "10833 2012-12-17 19:00:00       4        0  ...    19  2012-12-17            0\n",
              "\n",
              "[5 rows x 17 columns]"
            ]
          },
          "metadata": {
            "tags": []
          },
          "execution_count": 510
        }
      ]
    },
    {
      "cell_type": "code",
      "metadata": {
        "id": "NT9eaTwEoo2s",
        "colab_type": "code",
        "colab": {}
      },
      "source": [
        "mean_1=data_ori['count'].iloc[0:10].mean()"
      ],
      "execution_count": 0,
      "outputs": []
    },
    {
      "cell_type": "code",
      "metadata": {
        "id": "660EViG8pCRE",
        "colab_type": "code",
        "colab": {}
      },
      "source": [
        "mean_2=data_ori['count'].iloc[11:20].mean()"
      ],
      "execution_count": 0,
      "outputs": []
    },
    {
      "cell_type": "code",
      "metadata": {
        "id": "EhwdyK70yho_",
        "colab_type": "code",
        "colab": {}
      },
      "source": [
        "data_ori['Predicted']=0"
      ],
      "execution_count": 0,
      "outputs": []
    },
    {
      "cell_type": "code",
      "metadata": {
        "id": "2lVL5bCHqPTc",
        "colab_type": "code",
        "colab": {}
      },
      "source": [
        "\n",
        "def mean(df):\n",
        "  for i in range(0,len(df)-10):\n",
        "    mean=df['count'].iloc[i+1:i+11].mean()\n",
        "    df.iat[i,17]=mean\n",
        "    #print(mean)\n",
        "  return df"
      ],
      "execution_count": 0,
      "outputs": []
    },
    {
      "cell_type": "code",
      "metadata": {
        "id": "9yuvGi3B0TSC",
        "colab_type": "code",
        "colab": {}
      },
      "source": [
        "d1=mean(data_ori)"
      ],
      "execution_count": 0,
      "outputs": []
    },
    {
      "cell_type": "code",
      "metadata": {
        "id": "TjCsVpv16jA_",
        "colab_type": "code",
        "colab": {
          "base_uri": "https://localhost:8080/",
          "height": 639
        },
        "outputId": "d8247d76-88ba-4e9f-a1f3-34a415686da6"
      },
      "source": [
        "d1.tail(20)"
      ],
      "execution_count": 566,
      "outputs": [
        {
          "output_type": "execute_result",
          "data": {
            "text/html": [
              "<div>\n",
              "<style scoped>\n",
              "    .dataframe tbody tr th:only-of-type {\n",
              "        vertical-align: middle;\n",
              "    }\n",
              "\n",
              "    .dataframe tbody tr th {\n",
              "        vertical-align: top;\n",
              "    }\n",
              "\n",
              "    .dataframe thead th {\n",
              "        text-align: right;\n",
              "    }\n",
              "</style>\n",
              "<table border=\"1\" class=\"dataframe\">\n",
              "  <thead>\n",
              "    <tr style=\"text-align: right;\">\n",
              "      <th></th>\n",
              "      <th>datetime</th>\n",
              "      <th>season</th>\n",
              "      <th>holiday</th>\n",
              "      <th>workingday</th>\n",
              "      <th>weather</th>\n",
              "      <th>temp</th>\n",
              "      <th>atemp</th>\n",
              "      <th>humidity</th>\n",
              "      <th>windspeed</th>\n",
              "      <th>casual</th>\n",
              "      <th>registered</th>\n",
              "      <th>count</th>\n",
              "      <th>year</th>\n",
              "      <th>day</th>\n",
              "      <th>hour</th>\n",
              "      <th>date</th>\n",
              "      <th>Day of Week</th>\n",
              "      <th>Predicted</th>\n",
              "    </tr>\n",
              "  </thead>\n",
              "  <tbody>\n",
              "    <tr>\n",
              "      <th>66</th>\n",
              "      <td>2011-01-03 21:00:00</td>\n",
              "      <td>1</td>\n",
              "      <td>0</td>\n",
              "      <td>1</td>\n",
              "      <td>1</td>\n",
              "      <td>-1.649324</td>\n",
              "      <td>-1.628995</td>\n",
              "      <td>0.109823</td>\n",
              "      <td>-0.465586</td>\n",
              "      <td>3</td>\n",
              "      <td>49</td>\n",
              "      <td>52</td>\n",
              "      <td>2011</td>\n",
              "      <td>3</td>\n",
              "      <td>21</td>\n",
              "      <td>2011-01-03</td>\n",
              "      <td>0</td>\n",
              "      <td>87</td>\n",
              "    </tr>\n",
              "    <tr>\n",
              "      <th>65</th>\n",
              "      <td>2011-01-03 20:00:00</td>\n",
              "      <td>1</td>\n",
              "      <td>0</td>\n",
              "      <td>1</td>\n",
              "      <td>1</td>\n",
              "      <td>-1.544083</td>\n",
              "      <td>-1.450226</td>\n",
              "      <td>-0.773522</td>\n",
              "      <td>-0.710132</td>\n",
              "      <td>3</td>\n",
              "      <td>49</td>\n",
              "      <td>52</td>\n",
              "      <td>2011</td>\n",
              "      <td>3</td>\n",
              "      <td>20</td>\n",
              "      <td>2011-01-03</td>\n",
              "      <td>0</td>\n",
              "      <td>86</td>\n",
              "    </tr>\n",
              "    <tr>\n",
              "      <th>64</th>\n",
              "      <td>2011-01-03 19:00:00</td>\n",
              "      <td>1</td>\n",
              "      <td>0</td>\n",
              "      <td>1</td>\n",
              "      <td>1</td>\n",
              "      <td>-1.544083</td>\n",
              "      <td>-1.271456</td>\n",
              "      <td>-0.773522</td>\n",
              "      <td>-1.567682</td>\n",
              "      <td>8</td>\n",
              "      <td>102</td>\n",
              "      <td>110</td>\n",
              "      <td>2011</td>\n",
              "      <td>3</td>\n",
              "      <td>19</td>\n",
              "      <td>2011-01-03</td>\n",
              "      <td>0</td>\n",
              "      <td>84</td>\n",
              "    </tr>\n",
              "    <tr>\n",
              "      <th>63</th>\n",
              "      <td>2011-01-03 18:00:00</td>\n",
              "      <td>1</td>\n",
              "      <td>0</td>\n",
              "      <td>1</td>\n",
              "      <td>1</td>\n",
              "      <td>-1.333599</td>\n",
              "      <td>-1.271456</td>\n",
              "      <td>-1.552944</td>\n",
              "      <td>-0.710132</td>\n",
              "      <td>9</td>\n",
              "      <td>148</td>\n",
              "      <td>157</td>\n",
              "      <td>2011</td>\n",
              "      <td>3</td>\n",
              "      <td>18</td>\n",
              "      <td>2011-01-03</td>\n",
              "      <td>0</td>\n",
              "      <td>84</td>\n",
              "    </tr>\n",
              "    <tr>\n",
              "      <th>62</th>\n",
              "      <td>2011-01-03 17:00:00</td>\n",
              "      <td>1</td>\n",
              "      <td>0</td>\n",
              "      <td>1</td>\n",
              "      <td>1</td>\n",
              "      <td>-1.333599</td>\n",
              "      <td>-1.450226</td>\n",
              "      <td>-1.656867</td>\n",
              "      <td>0.269691</td>\n",
              "      <td>11</td>\n",
              "      <td>146</td>\n",
              "      <td>157</td>\n",
              "      <td>2011</td>\n",
              "      <td>3</td>\n",
              "      <td>17</td>\n",
              "      <td>2011-01-03</td>\n",
              "      <td>0</td>\n",
              "      <td>74</td>\n",
              "    </tr>\n",
              "    <tr>\n",
              "      <th>61</th>\n",
              "      <td>2011-01-03 16:00:00</td>\n",
              "      <td>1</td>\n",
              "      <td>0</td>\n",
              "      <td>1</td>\n",
              "      <td>1</td>\n",
              "      <td>-1.228358</td>\n",
              "      <td>-1.361136</td>\n",
              "      <td>-1.656867</td>\n",
              "      <td>0.514237</td>\n",
              "      <td>9</td>\n",
              "      <td>67</td>\n",
              "      <td>76</td>\n",
              "      <td>2011</td>\n",
              "      <td>3</td>\n",
              "      <td>16</td>\n",
              "      <td>2011-01-03</td>\n",
              "      <td>0</td>\n",
              "      <td>70</td>\n",
              "    </tr>\n",
              "    <tr>\n",
              "      <th>60</th>\n",
              "      <td>2011-01-03 15:00:00</td>\n",
              "      <td>1</td>\n",
              "      <td>0</td>\n",
              "      <td>1</td>\n",
              "      <td>1</td>\n",
              "      <td>-1.228358</td>\n",
              "      <td>-1.361136</td>\n",
              "      <td>-1.656867</td>\n",
              "      <td>0.514237</td>\n",
              "      <td>14</td>\n",
              "      <td>58</td>\n",
              "      <td>72</td>\n",
              "      <td>2011</td>\n",
              "      <td>3</td>\n",
              "      <td>15</td>\n",
              "      <td>2011-01-03</td>\n",
              "      <td>0</td>\n",
              "      <td>63</td>\n",
              "    </tr>\n",
              "    <tr>\n",
              "      <th>59</th>\n",
              "      <td>2011-01-03 14:00:00</td>\n",
              "      <td>1</td>\n",
              "      <td>0</td>\n",
              "      <td>1</td>\n",
              "      <td>1</td>\n",
              "      <td>-1.228358</td>\n",
              "      <td>-1.361136</td>\n",
              "      <td>-1.656867</td>\n",
              "      <td>0.759603</td>\n",
              "      <td>11</td>\n",
              "      <td>66</td>\n",
              "      <td>77</td>\n",
              "      <td>2011</td>\n",
              "      <td>3</td>\n",
              "      <td>14</td>\n",
              "      <td>2011-01-03</td>\n",
              "      <td>0</td>\n",
              "      <td>55</td>\n",
              "    </tr>\n",
              "    <tr>\n",
              "      <th>58</th>\n",
              "      <td>2011-01-03 13:00:00</td>\n",
              "      <td>1</td>\n",
              "      <td>0</td>\n",
              "      <td>1</td>\n",
              "      <td>1</td>\n",
              "      <td>-1.333599</td>\n",
              "      <td>-1.539905</td>\n",
              "      <td>-1.397060</td>\n",
              "      <td>0.759603</td>\n",
              "      <td>8</td>\n",
              "      <td>53</td>\n",
              "      <td>61</td>\n",
              "      <td>2011</td>\n",
              "      <td>3</td>\n",
              "      <td>13</td>\n",
              "      <td>2011-01-03</td>\n",
              "      <td>0</td>\n",
              "      <td>49</td>\n",
              "    </tr>\n",
              "    <tr>\n",
              "      <th>57</th>\n",
              "      <td>2011-01-03 12:00:00</td>\n",
              "      <td>1</td>\n",
              "      <td>0</td>\n",
              "      <td>1</td>\n",
              "      <td>1</td>\n",
              "      <td>-1.438841</td>\n",
              "      <td>-1.539905</td>\n",
              "      <td>-1.397060</td>\n",
              "      <td>0.881875</td>\n",
              "      <td>13</td>\n",
              "      <td>48</td>\n",
              "      <td>61</td>\n",
              "      <td>2011</td>\n",
              "      <td>3</td>\n",
              "      <td>12</td>\n",
              "      <td>2011-01-03</td>\n",
              "      <td>0</td>\n",
              "      <td>44</td>\n",
              "    </tr>\n",
              "    <tr>\n",
              "      <th>56</th>\n",
              "      <td>2011-01-03 11:00:00</td>\n",
              "      <td>1</td>\n",
              "      <td>0</td>\n",
              "      <td>1</td>\n",
              "      <td>1</td>\n",
              "      <td>-1.544083</td>\n",
              "      <td>-1.718675</td>\n",
              "      <td>-1.137252</td>\n",
              "      <td>1.127241</td>\n",
              "      <td>10</td>\n",
              "      <td>41</td>\n",
              "      <td>51</td>\n",
              "      <td>2011</td>\n",
              "      <td>3</td>\n",
              "      <td>11</td>\n",
              "      <td>2011-01-03</td>\n",
              "      <td>0</td>\n",
              "      <td>0</td>\n",
              "    </tr>\n",
              "    <tr>\n",
              "      <th>55</th>\n",
              "      <td>2011-01-03 10:00:00</td>\n",
              "      <td>1</td>\n",
              "      <td>0</td>\n",
              "      <td>1</td>\n",
              "      <td>1</td>\n",
              "      <td>-1.649324</td>\n",
              "      <td>-1.807765</td>\n",
              "      <td>-0.981368</td>\n",
              "      <td>0.514237</td>\n",
              "      <td>11</td>\n",
              "      <td>33</td>\n",
              "      <td>44</td>\n",
              "      <td>2011</td>\n",
              "      <td>3</td>\n",
              "      <td>10</td>\n",
              "      <td>2011-01-03</td>\n",
              "      <td>0</td>\n",
              "      <td>0</td>\n",
              "    </tr>\n",
              "    <tr>\n",
              "      <th>54</th>\n",
              "      <td>2011-01-03 09:00:00</td>\n",
              "      <td>1</td>\n",
              "      <td>0</td>\n",
              "      <td>1</td>\n",
              "      <td>1</td>\n",
              "      <td>-1.754566</td>\n",
              "      <td>-1.986534</td>\n",
              "      <td>-0.981368</td>\n",
              "      <td>1.617153</td>\n",
              "      <td>7</td>\n",
              "      <td>81</td>\n",
              "      <td>88</td>\n",
              "      <td>2011</td>\n",
              "      <td>3</td>\n",
              "      <td>9</td>\n",
              "      <td>2011-01-03</td>\n",
              "      <td>0</td>\n",
              "      <td>0</td>\n",
              "    </tr>\n",
              "    <tr>\n",
              "      <th>53</th>\n",
              "      <td>2011-01-03 08:00:00</td>\n",
              "      <td>1</td>\n",
              "      <td>0</td>\n",
              "      <td>1</td>\n",
              "      <td>1</td>\n",
              "      <td>-1.859808</td>\n",
              "      <td>-2.076214</td>\n",
              "      <td>-0.617638</td>\n",
              "      <td>0.759603</td>\n",
              "      <td>1</td>\n",
              "      <td>153</td>\n",
              "      <td>154</td>\n",
              "      <td>2011</td>\n",
              "      <td>3</td>\n",
              "      <td>8</td>\n",
              "      <td>2011-01-03</td>\n",
              "      <td>0</td>\n",
              "      <td>0</td>\n",
              "    </tr>\n",
              "    <tr>\n",
              "      <th>52</th>\n",
              "      <td>2011-01-03 07:00:00</td>\n",
              "      <td>1</td>\n",
              "      <td>0</td>\n",
              "      <td>1</td>\n",
              "      <td>1</td>\n",
              "      <td>-1.859808</td>\n",
              "      <td>-1.986534</td>\n",
              "      <td>-0.617638</td>\n",
              "      <td>0.024325</td>\n",
              "      <td>1</td>\n",
              "      <td>63</td>\n",
              "      <td>64</td>\n",
              "      <td>2011</td>\n",
              "      <td>3</td>\n",
              "      <td>7</td>\n",
              "      <td>2011-01-03</td>\n",
              "      <td>0</td>\n",
              "      <td>0</td>\n",
              "    </tr>\n",
              "    <tr>\n",
              "      <th>51</th>\n",
              "      <td>2011-01-03 06:00:00</td>\n",
              "      <td>1</td>\n",
              "      <td>0</td>\n",
              "      <td>1</td>\n",
              "      <td>1</td>\n",
              "      <td>-1.859808</td>\n",
              "      <td>-2.165304</td>\n",
              "      <td>-0.617638</td>\n",
              "      <td>1.617153</td>\n",
              "      <td>0</td>\n",
              "      <td>30</td>\n",
              "      <td>30</td>\n",
              "      <td>2011</td>\n",
              "      <td>3</td>\n",
              "      <td>6</td>\n",
              "      <td>2011-01-03</td>\n",
              "      <td>0</td>\n",
              "      <td>0</td>\n",
              "    </tr>\n",
              "    <tr>\n",
              "      <th>50</th>\n",
              "      <td>2011-01-03 05:00:00</td>\n",
              "      <td>1</td>\n",
              "      <td>0</td>\n",
              "      <td>1</td>\n",
              "      <td>1</td>\n",
              "      <td>-1.754566</td>\n",
              "      <td>-1.986534</td>\n",
              "      <td>-0.773522</td>\n",
              "      <td>0.759603</td>\n",
              "      <td>0</td>\n",
              "      <td>3</td>\n",
              "      <td>3</td>\n",
              "      <td>2011</td>\n",
              "      <td>3</td>\n",
              "      <td>5</td>\n",
              "      <td>2011-01-03</td>\n",
              "      <td>0</td>\n",
              "      <td>0</td>\n",
              "    </tr>\n",
              "    <tr>\n",
              "      <th>49</th>\n",
              "      <td>2011-01-03 04:00:00</td>\n",
              "      <td>1</td>\n",
              "      <td>0</td>\n",
              "      <td>1</td>\n",
              "      <td>1</td>\n",
              "      <td>-1.754566</td>\n",
              "      <td>-1.986534</td>\n",
              "      <td>-0.773522</td>\n",
              "      <td>1.617153</td>\n",
              "      <td>0</td>\n",
              "      <td>1</td>\n",
              "      <td>1</td>\n",
              "      <td>2011</td>\n",
              "      <td>3</td>\n",
              "      <td>4</td>\n",
              "      <td>2011-01-03</td>\n",
              "      <td>0</td>\n",
              "      <td>0</td>\n",
              "    </tr>\n",
              "    <tr>\n",
              "      <th>48</th>\n",
              "      <td>2011-01-03 01:00:00</td>\n",
              "      <td>1</td>\n",
              "      <td>0</td>\n",
              "      <td>1</td>\n",
              "      <td>1</td>\n",
              "      <td>-1.544083</td>\n",
              "      <td>-1.807765</td>\n",
              "      <td>-0.929407</td>\n",
              "      <td>1.861698</td>\n",
              "      <td>0</td>\n",
              "      <td>2</td>\n",
              "      <td>2</td>\n",
              "      <td>2011</td>\n",
              "      <td>3</td>\n",
              "      <td>1</td>\n",
              "      <td>2011-01-03</td>\n",
              "      <td>0</td>\n",
              "      <td>0</td>\n",
              "    </tr>\n",
              "    <tr>\n",
              "      <th>47</th>\n",
              "      <td>2011-01-03 00:00:00</td>\n",
              "      <td>1</td>\n",
              "      <td>0</td>\n",
              "      <td>1</td>\n",
              "      <td>1</td>\n",
              "      <td>-1.438841</td>\n",
              "      <td>-1.628995</td>\n",
              "      <td>-0.929407</td>\n",
              "      <td>1.371787</td>\n",
              "      <td>0</td>\n",
              "      <td>5</td>\n",
              "      <td>5</td>\n",
              "      <td>2011</td>\n",
              "      <td>3</td>\n",
              "      <td>0</td>\n",
              "      <td>2011-01-03</td>\n",
              "      <td>0</td>\n",
              "      <td>0</td>\n",
              "    </tr>\n",
              "  </tbody>\n",
              "</table>\n",
              "</div>"
            ],
            "text/plain": [
              "              datetime  season  holiday  ...        date  Day of Week  Predicted\n",
              "66 2011-01-03 21:00:00       1        0  ...  2011-01-03            0         87\n",
              "65 2011-01-03 20:00:00       1        0  ...  2011-01-03            0         86\n",
              "64 2011-01-03 19:00:00       1        0  ...  2011-01-03            0         84\n",
              "63 2011-01-03 18:00:00       1        0  ...  2011-01-03            0         84\n",
              "62 2011-01-03 17:00:00       1        0  ...  2011-01-03            0         74\n",
              "61 2011-01-03 16:00:00       1        0  ...  2011-01-03            0         70\n",
              "60 2011-01-03 15:00:00       1        0  ...  2011-01-03            0         63\n",
              "59 2011-01-03 14:00:00       1        0  ...  2011-01-03            0         55\n",
              "58 2011-01-03 13:00:00       1        0  ...  2011-01-03            0         49\n",
              "57 2011-01-03 12:00:00       1        0  ...  2011-01-03            0         44\n",
              "56 2011-01-03 11:00:00       1        0  ...  2011-01-03            0          0\n",
              "55 2011-01-03 10:00:00       1        0  ...  2011-01-03            0          0\n",
              "54 2011-01-03 09:00:00       1        0  ...  2011-01-03            0          0\n",
              "53 2011-01-03 08:00:00       1        0  ...  2011-01-03            0          0\n",
              "52 2011-01-03 07:00:00       1        0  ...  2011-01-03            0          0\n",
              "51 2011-01-03 06:00:00       1        0  ...  2011-01-03            0          0\n",
              "50 2011-01-03 05:00:00       1        0  ...  2011-01-03            0          0\n",
              "49 2011-01-03 04:00:00       1        0  ...  2011-01-03            0          0\n",
              "48 2011-01-03 01:00:00       1        0  ...  2011-01-03            0          0\n",
              "47 2011-01-03 00:00:00       1        0  ...  2011-01-03            0          0\n",
              "\n",
              "[20 rows x 18 columns]"
            ]
          },
          "metadata": {
            "tags": []
          },
          "execution_count": 566
        }
      ]
    },
    {
      "cell_type": "code",
      "metadata": {
        "id": "CaVxe7w79dxJ",
        "colab_type": "code",
        "colab": {}
      },
      "source": [
        "d1.drop(d1.tail(10).index,inplace=True)"
      ],
      "execution_count": 0,
      "outputs": []
    },
    {
      "cell_type": "code",
      "metadata": {
        "id": "dc3wIBtyAF5A",
        "colab_type": "code",
        "colab": {
          "base_uri": "https://localhost:8080/",
          "height": 336
        },
        "outputId": "355e8ce6-d85e-4a32-b5ad-c1dca9b9dfbc"
      },
      "source": [
        "d1.loc[10828]"
      ],
      "execution_count": 575,
      "outputs": [
        {
          "output_type": "execute_result",
          "data": {
            "text/plain": [
              "datetime       2012-12-17 14:00:00\n",
              "season                           4\n",
              "holiday                          0\n",
              "workingday                       1\n",
              "weather                          2\n",
              "temp                     -0.491666\n",
              "atemp                    -0.377609\n",
              "humidity                   1.30494\n",
              "windspeed                -0.832404\n",
              "casual                          12\n",
              "registered                     169\n",
              "count                          181\n",
              "year                          2012\n",
              "day                             17\n",
              "hour                            14\n",
              "date                    2012-12-17\n",
              "Day of Week                      0\n",
              "Predicted                      207\n",
              "Name: 10828, dtype: object"
            ]
          },
          "metadata": {
            "tags": []
          },
          "execution_count": 575
        }
      ]
    },
    {
      "cell_type": "code",
      "metadata": {
        "id": "Jp5KMD46-x1S",
        "colab_type": "code",
        "colab": {}
      },
      "source": [
        "y_true=d1['count']\n",
        "y_pred=d1['Predicted']"
      ],
      "execution_count": 0,
      "outputs": []
    },
    {
      "cell_type": "code",
      "metadata": {
        "id": "EI0d081t-BX7",
        "colab_type": "code",
        "colab": {
          "base_uri": "https://localhost:8080/",
          "height": 34
        },
        "outputId": "b853ac46-2407-433e-9d5b-d9c8a2fbfc14"
      },
      "source": [
        "from sklearn.metrics import mean_absolute_error\n",
        "mean_absolute_error(y_true, y_pred)\n"
      ],
      "execution_count": 572,
      "outputs": [
        {
          "output_type": "execute_result",
          "data": {
            "text/plain": [
              "144.47826086956522"
            ]
          },
          "metadata": {
            "tags": []
          },
          "execution_count": 572
        }
      ]
    },
    {
      "cell_type": "code",
      "metadata": {
        "id": "28LAgiIV_vh5",
        "colab_type": "code",
        "colab": {
          "base_uri": "https://localhost:8080/",
          "height": 1000
        },
        "outputId": "71c464b6-a741-4470-d771-bf77c9d0ea6a"
      },
      "source": [
        "data_ori['count'].rolling(window=10).mean()"
      ],
      "execution_count": 573,
      "outputs": [
        {
          "output_type": "execute_result",
          "data": {
            "text/plain": [
              "10837      NaN\n",
              "10836      NaN\n",
              "10835      NaN\n",
              "10834      NaN\n",
              "10833      NaN\n",
              "10832      NaN\n",
              "10831      NaN\n",
              "10830      NaN\n",
              "10829      NaN\n",
              "10828    245.7\n",
              "10827    262.0\n",
              "10826    279.8\n",
              "10825    284.8\n",
              "10824    278.3\n",
              "10823    272.5\n",
              "10822    281.0\n",
              "10821    263.4\n",
              "10820    244.0\n",
              "10819    225.3\n",
              "10818    207.7\n",
              "10817    187.0\n",
              "10816    164.3\n",
              "10815    148.8\n",
              "10814    138.1\n",
              "10669    118.3\n",
              "10668     71.7\n",
              "10667     64.3\n",
              "10666     83.5\n",
              "10665    123.8\n",
              "10664    179.7\n",
              "         ...  \n",
              "226       62.3\n",
              "225       68.9\n",
              "224       71.8\n",
              "223       74.8\n",
              "222       78.4\n",
              "221       81.2\n",
              "220       80.4\n",
              "219       76.1\n",
              "218       76.0\n",
              "217       79.3\n",
              "216       69.2\n",
              "215       64.9\n",
              "214       60.7\n",
              "213       56.3\n",
              "212       51.0\n",
              "211       46.1\n",
              "210       43.2\n",
              "209       40.6\n",
              "68        32.4\n",
              "67        15.6\n",
              "66        13.1\n",
              "65        15.2\n",
              "64        25.9\n",
              "63        41.3\n",
              "62        56.9\n",
              "61        64.2\n",
              "60        71.3\n",
              "59        78.5\n",
              "58        83.4\n",
              "57        87.5\n",
              "Name: count, Length: 1541, dtype: float64"
            ]
          },
          "metadata": {
            "tags": []
          },
          "execution_count": 573
        }
      ]
    },
    {
      "cell_type": "code",
      "metadata": {
        "id": "T5gJriHOypy8",
        "colab_type": "code",
        "colab": {
          "base_uri": "https://localhost:8080/",
          "height": 202
        },
        "outputId": "6675dcf0-fdd9-45f0-8235-39871e8c7c28"
      },
      "source": [
        "df['count'].iloc[1:11]"
      ],
      "execution_count": 551,
      "outputs": [
        {
          "output_type": "execute_result",
          "data": {
            "text/plain": [
              "10836     54\n",
              "10835    120\n",
              "10834    200\n",
              "10833    340\n",
              "10832    507\n",
              "10831    495\n",
              "10830    302\n",
              "10829    211\n",
              "10828    181\n",
              "10827    210\n",
              "Name: count, dtype: int64"
            ]
          },
          "metadata": {
            "tags": []
          },
          "execution_count": 551
        }
      ]
    },
    {
      "cell_type": "code",
      "metadata": {
        "id": "nfaEbtkj40U1",
        "colab_type": "code",
        "colab": {
          "base_uri": "https://localhost:8080/",
          "height": 110
        },
        "outputId": "cade05db-28c2-43a3-c9ad-4fea34ba4032"
      },
      "source": [
        "df.head(1)"
      ],
      "execution_count": 545,
      "outputs": [
        {
          "output_type": "execute_result",
          "data": {
            "text/html": [
              "<div>\n",
              "<style scoped>\n",
              "    .dataframe tbody tr th:only-of-type {\n",
              "        vertical-align: middle;\n",
              "    }\n",
              "\n",
              "    .dataframe tbody tr th {\n",
              "        vertical-align: top;\n",
              "    }\n",
              "\n",
              "    .dataframe thead th {\n",
              "        text-align: right;\n",
              "    }\n",
              "</style>\n",
              "<table border=\"1\" class=\"dataframe\">\n",
              "  <thead>\n",
              "    <tr style=\"text-align: right;\">\n",
              "      <th></th>\n",
              "      <th>datetime</th>\n",
              "      <th>season</th>\n",
              "      <th>holiday</th>\n",
              "      <th>workingday</th>\n",
              "      <th>weather</th>\n",
              "      <th>temp</th>\n",
              "      <th>atemp</th>\n",
              "      <th>humidity</th>\n",
              "      <th>windspeed</th>\n",
              "      <th>casual</th>\n",
              "      <th>registered</th>\n",
              "      <th>count</th>\n",
              "      <th>year</th>\n",
              "      <th>day</th>\n",
              "      <th>hour</th>\n",
              "      <th>date</th>\n",
              "      <th>Day of Week</th>\n",
              "      <th>Predicted</th>\n",
              "    </tr>\n",
              "  </thead>\n",
              "  <tbody>\n",
              "    <tr>\n",
              "      <th>10837</th>\n",
              "      <td>2012-12-17 23:00:00</td>\n",
              "      <td>4</td>\n",
              "      <td>0</td>\n",
              "      <td>1</td>\n",
              "      <td>3</td>\n",
              "      <td>-0.386424</td>\n",
              "      <td>-0.288519</td>\n",
              "      <td>1.668666</td>\n",
              "      <td>0.269691</td>\n",
              "      <td>6</td>\n",
              "      <td>41</td>\n",
              "      <td>47</td>\n",
              "      <td>2012</td>\n",
              "      <td>17</td>\n",
              "      <td>23</td>\n",
              "      <td>2012-12-17</td>\n",
              "      <td>0</td>\n",
              "      <td>0</td>\n",
              "    </tr>\n",
              "  </tbody>\n",
              "</table>\n",
              "</div>"
            ],
            "text/plain": [
              "                 datetime  season  holiday  ...        date  Day of Week  Predicted\n",
              "10837 2012-12-17 23:00:00       4        0  ...  2012-12-17            0          0\n",
              "\n",
              "[1 rows x 18 columns]"
            ]
          },
          "metadata": {
            "tags": []
          },
          "execution_count": 545
        }
      ]
    },
    {
      "cell_type": "code",
      "metadata": {
        "id": "49JbjD6auiFL",
        "colab_type": "code",
        "colab": {}
      },
      "source": [
        "def dummy_data(data, columns):\n",
        "    for column in columns:\n",
        "        data = pd.concat([data, pd.get_dummies(data[column], prefix=column)], axis=1)\n",
        "        data = data.drop(column, axis=1)\n",
        "    return data"
      ],
      "execution_count": 0,
      "outputs": []
    },
    {
      "cell_type": "code",
      "metadata": {
        "id": "F5u2fMvou3Vm",
        "colab_type": "code",
        "colab": {}
      },
      "source": [
        "data_ori = dummy_data(data_ori, [\"season\",\"weather\",\"hour\"])"
      ],
      "execution_count": 0,
      "outputs": []
    },
    {
      "cell_type": "code",
      "metadata": {
        "id": "EGX7AQxEyoXq",
        "colab_type": "code",
        "colab": {}
      },
      "source": [
        "data_ori=data_ori.drop(['datetime'],axis=1)"
      ],
      "execution_count": 0,
      "outputs": []
    },
    {
      "cell_type": "code",
      "metadata": {
        "id": "CPr2-dUHwvMO",
        "colab_type": "code",
        "colab": {}
      },
      "source": [
        "''''data=shuffle(data_ori,random_state=1)\n",
        "nrows = len(data_ori)\n",
        "training_validation_rows = int(nrows*0.8)\n",
        "data=data_ori[0:training_validation_rows-1]\n",
        "test1=data_ori[training_validation_rows:]'''"
      ],
      "execution_count": 0,
      "outputs": []
    },
    {
      "cell_type": "code",
      "metadata": {
        "id": "ZRH8vIOQ9Vpq",
        "colab_type": "code",
        "colab": {}
      },
      "source": [
        ""
      ],
      "execution_count": 0,
      "outputs": []
    },
    {
      "cell_type": "code",
      "metadata": {
        "id": "P_NJlmFZxBUt",
        "colab_type": "code",
        "colab": {
          "base_uri": "https://localhost:8080/",
          "height": 34
        },
        "outputId": "85cfa976-347c-45cc-fff1-a9e3ee8d10ea"
      },
      "source": [
        "#data.shape"
      ],
      "execution_count": 176,
      "outputs": [
        {
          "output_type": "execute_result",
          "data": {
            "text/plain": [
              "(10886, 12)"
            ]
          },
          "metadata": {
            "tags": []
          },
          "execution_count": 176
        }
      ]
    },
    {
      "cell_type": "code",
      "metadata": {
        "id": "xFt3axCMxCpG",
        "colab_type": "code",
        "colab": {}
      },
      "source": [
        "#test1.shape"
      ],
      "execution_count": 0,
      "outputs": []
    },
    {
      "cell_type": "code",
      "metadata": {
        "id": "79dvJUPAYDxn",
        "colab_type": "code",
        "colab": {
          "base_uri": "https://localhost:8080/",
          "height": 249
        },
        "outputId": "cf8ad080-9ad3-409e-fdb1-d7c970be40f6"
      },
      "source": [
        "data_ori.head()"
      ],
      "execution_count": 286,
      "outputs": [
        {
          "output_type": "execute_result",
          "data": {
            "text/html": [
              "<div>\n",
              "<style scoped>\n",
              "    .dataframe tbody tr th:only-of-type {\n",
              "        vertical-align: middle;\n",
              "    }\n",
              "\n",
              "    .dataframe tbody tr th {\n",
              "        vertical-align: top;\n",
              "    }\n",
              "\n",
              "    .dataframe thead th {\n",
              "        text-align: right;\n",
              "    }\n",
              "</style>\n",
              "<table border=\"1\" class=\"dataframe\">\n",
              "  <thead>\n",
              "    <tr style=\"text-align: right;\">\n",
              "      <th></th>\n",
              "      <th>holiday</th>\n",
              "      <th>workingday</th>\n",
              "      <th>temp</th>\n",
              "      <th>atemp</th>\n",
              "      <th>humidity</th>\n",
              "      <th>windspeed</th>\n",
              "      <th>casual</th>\n",
              "      <th>registered</th>\n",
              "      <th>count</th>\n",
              "      <th>year</th>\n",
              "      <th>day</th>\n",
              "      <th>Day of Week</th>\n",
              "      <th>season_1</th>\n",
              "      <th>weather_1</th>\n",
              "      <th>hour_0</th>\n",
              "      <th>hour_14</th>\n",
              "      <th>hour_15</th>\n",
              "      <th>hour_16</th>\n",
              "      <th>hour_17</th>\n",
              "      <th>hour_19</th>\n",
              "      <th>hour_20</th>\n",
              "      <th>hour_21</th>\n",
              "      <th>hour_22</th>\n",
              "      <th>hour_23</th>\n",
              "    </tr>\n",
              "  </thead>\n",
              "  <tbody>\n",
              "    <tr>\n",
              "      <th>47</th>\n",
              "      <td>0</td>\n",
              "      <td>1</td>\n",
              "      <td>-1.438841</td>\n",
              "      <td>-1.628995</td>\n",
              "      <td>-0.929407</td>\n",
              "      <td>1.371787</td>\n",
              "      <td>0</td>\n",
              "      <td>5</td>\n",
              "      <td>5</td>\n",
              "      <td>2011</td>\n",
              "      <td>3</td>\n",
              "      <td>0</td>\n",
              "      <td>1</td>\n",
              "      <td>1</td>\n",
              "      <td>1</td>\n",
              "      <td>0</td>\n",
              "      <td>0</td>\n",
              "      <td>0</td>\n",
              "      <td>0</td>\n",
              "      <td>0</td>\n",
              "      <td>0</td>\n",
              "      <td>0</td>\n",
              "      <td>0</td>\n",
              "      <td>0</td>\n",
              "    </tr>\n",
              "    <tr>\n",
              "      <th>68</th>\n",
              "      <td>0</td>\n",
              "      <td>1</td>\n",
              "      <td>-1.649324</td>\n",
              "      <td>-1.539905</td>\n",
              "      <td>-0.357830</td>\n",
              "      <td>-0.710132</td>\n",
              "      <td>1</td>\n",
              "      <td>11</td>\n",
              "      <td>12</td>\n",
              "      <td>2011</td>\n",
              "      <td>3</td>\n",
              "      <td>0</td>\n",
              "      <td>1</td>\n",
              "      <td>1</td>\n",
              "      <td>0</td>\n",
              "      <td>0</td>\n",
              "      <td>0</td>\n",
              "      <td>0</td>\n",
              "      <td>0</td>\n",
              "      <td>0</td>\n",
              "      <td>0</td>\n",
              "      <td>0</td>\n",
              "      <td>0</td>\n",
              "      <td>1</td>\n",
              "    </tr>\n",
              "    <tr>\n",
              "      <th>67</th>\n",
              "      <td>0</td>\n",
              "      <td>1</td>\n",
              "      <td>-1.859808</td>\n",
              "      <td>-1.897444</td>\n",
              "      <td>0.369630</td>\n",
              "      <td>-0.465586</td>\n",
              "      <td>0</td>\n",
              "      <td>20</td>\n",
              "      <td>20</td>\n",
              "      <td>2011</td>\n",
              "      <td>3</td>\n",
              "      <td>0</td>\n",
              "      <td>1</td>\n",
              "      <td>1</td>\n",
              "      <td>0</td>\n",
              "      <td>0</td>\n",
              "      <td>0</td>\n",
              "      <td>0</td>\n",
              "      <td>0</td>\n",
              "      <td>0</td>\n",
              "      <td>0</td>\n",
              "      <td>0</td>\n",
              "      <td>1</td>\n",
              "      <td>0</td>\n",
              "    </tr>\n",
              "    <tr>\n",
              "      <th>66</th>\n",
              "      <td>0</td>\n",
              "      <td>1</td>\n",
              "      <td>-1.649324</td>\n",
              "      <td>-1.628995</td>\n",
              "      <td>0.109823</td>\n",
              "      <td>-0.465586</td>\n",
              "      <td>3</td>\n",
              "      <td>49</td>\n",
              "      <td>52</td>\n",
              "      <td>2011</td>\n",
              "      <td>3</td>\n",
              "      <td>0</td>\n",
              "      <td>1</td>\n",
              "      <td>1</td>\n",
              "      <td>0</td>\n",
              "      <td>0</td>\n",
              "      <td>0</td>\n",
              "      <td>0</td>\n",
              "      <td>0</td>\n",
              "      <td>0</td>\n",
              "      <td>0</td>\n",
              "      <td>1</td>\n",
              "      <td>0</td>\n",
              "      <td>0</td>\n",
              "    </tr>\n",
              "    <tr>\n",
              "      <th>65</th>\n",
              "      <td>0</td>\n",
              "      <td>1</td>\n",
              "      <td>-1.544083</td>\n",
              "      <td>-1.450226</td>\n",
              "      <td>-0.773522</td>\n",
              "      <td>-0.710132</td>\n",
              "      <td>3</td>\n",
              "      <td>49</td>\n",
              "      <td>52</td>\n",
              "      <td>2011</td>\n",
              "      <td>3</td>\n",
              "      <td>0</td>\n",
              "      <td>1</td>\n",
              "      <td>1</td>\n",
              "      <td>0</td>\n",
              "      <td>0</td>\n",
              "      <td>0</td>\n",
              "      <td>0</td>\n",
              "      <td>0</td>\n",
              "      <td>0</td>\n",
              "      <td>1</td>\n",
              "      <td>0</td>\n",
              "      <td>0</td>\n",
              "      <td>0</td>\n",
              "    </tr>\n",
              "  </tbody>\n",
              "</table>\n",
              "</div>"
            ],
            "text/plain": [
              "    holiday  workingday      temp     atemp  ...  hour_20  hour_21  hour_22  hour_23\n",
              "47        0           1 -1.438841 -1.628995  ...        0        0        0        0\n",
              "68        0           1 -1.649324 -1.539905  ...        0        0        0        1\n",
              "67        0           1 -1.859808 -1.897444  ...        0        0        1        0\n",
              "66        0           1 -1.649324 -1.628995  ...        0        1        0        0\n",
              "65        0           1 -1.544083 -1.450226  ...        1        0        0        0\n",
              "\n",
              "[5 rows x 24 columns]"
            ]
          },
          "metadata": {
            "tags": []
          },
          "execution_count": 286
        }
      ]
    },
    {
      "cell_type": "code",
      "metadata": {
        "id": "60OMn0fMxFGY",
        "colab_type": "code",
        "colab": {}
      },
      "source": [
        "def split_data(data):\n",
        "    data_y = data[\"count\"]\n",
        "    \n",
        "    \n",
        "\n",
        "    data_x = data.drop([\"count\",\"casual\",\"registered\"], axis=1)\n",
        "\n",
        "    \n",
        "\n",
        "    return data_x.values, data_y\n",
        "\n",
        "data_x, data_y = split_data(data_ori)"
      ],
      "execution_count": 0,
      "outputs": []
    },
    {
      "cell_type": "code",
      "metadata": {
        "id": "P1Nd2TXHxRc5",
        "colab_type": "code",
        "colab": {}
      },
      "source": [
        "from keras.models import Sequential\n",
        "from keras.layers import Dense, Activation\n",
        "from keras.callbacks import ModelCheckpoint,EarlyStopping\n",
        "from keras.optimizers import Adam,SGD,RMSprop,Adagrad"
      ],
      "execution_count": 0,
      "outputs": []
    },
    {
      "cell_type": "code",
      "metadata": {
        "id": "kMRMI5-NxWH0",
        "colab_type": "code",
        "colab": {}
      },
      "source": [
        "adam = Adam(lr=1e-3, decay=1e-3 / 200)"
      ],
      "execution_count": 0,
      "outputs": []
    },
    {
      "cell_type": "code",
      "metadata": {
        "id": "BWwRBkjQxp99",
        "colab_type": "code",
        "colab": {}
      },
      "source": [
        "from keras import backend\n",
        " \n",
        "def rmse(y_true, y_pred):\n",
        "\treturn backend.sqrt(backend.mean(backend.square(y_pred - y_true), axis=-1))"
      ],
      "execution_count": 0,
      "outputs": []
    },
    {
      "cell_type": "code",
      "metadata": {
        "id": "vI9HcDFSxvQC",
        "colab_type": "code",
        "colab": {
          "base_uri": "https://localhost:8080/",
          "height": 302
        },
        "outputId": "18301bf7-13e3-445e-ffb0-5e503de17819"
      },
      "source": [
        "from keras import regularizers\n",
        "from keras.layers.core import Dropout\n",
        "NN_model = Sequential()\n",
        "\n",
        "# The Input Layer :\n",
        "NN_model.add(Dense(128, kernel_initializer='normal',input_dim = data_x.shape[1], activation='relu'))\n",
        "\n",
        "\n",
        "# The Hidden Layers :\n",
        "NN_model.add(Dense(256, kernel_initializer='normal',activation='relu'))\n",
        "\n",
        "NN_model.add(Dense(256, kernel_initializer='normal',activation='relu'))\n",
        "\n",
        "NN_model.add(Dense(256, kernel_initializer='normal',activation='relu'))\n",
        "\n",
        "\n",
        "# The Output Layer :\n",
        "NN_model.add(Dense(1, kernel_initializer='normal',activation='softplus'))\n",
        "\n",
        "# Compile the network :\n",
        "NN_model.compile(loss='mean_squared_logarithmic_error', optimizer=adam, metrics=['mean_absolute_error','mean_squared_error',rmse])\n",
        "NN_model.summary()"
      ],
      "execution_count": 291,
      "outputs": [
        {
          "output_type": "stream",
          "text": [
            "_________________________________________________________________\n",
            "Layer (type)                 Output Shape              Param #   \n",
            "=================================================================\n",
            "dense_26 (Dense)             (None, 128)               2816      \n",
            "_________________________________________________________________\n",
            "dense_27 (Dense)             (None, 256)               33024     \n",
            "_________________________________________________________________\n",
            "dense_28 (Dense)             (None, 256)               65792     \n",
            "_________________________________________________________________\n",
            "dense_29 (Dense)             (None, 256)               65792     \n",
            "_________________________________________________________________\n",
            "dense_30 (Dense)             (None, 1)                 257       \n",
            "=================================================================\n",
            "Total params: 167,681\n",
            "Trainable params: 167,681\n",
            "Non-trainable params: 0\n",
            "_________________________________________________________________\n"
          ],
          "name": "stdout"
        }
      ]
    },
    {
      "cell_type": "code",
      "metadata": {
        "id": "m1AuLgYax0VG",
        "colab_type": "code",
        "colab": {}
      },
      "source": [
        "checkpoint_name = 'Weights-{epoch:03d}--{val_loss:.5f}.hdf5' \n",
        "checkpoint = ModelCheckpoint(checkpoint_name, monitor='val_loss', verbose =1, save_best_only = True, mode ='auto')\n",
        "early_stop=EarlyStopping(monitor='val_loss',patience=10)\n",
        "callbacks_list = [checkpoint,early_stop]"
      ],
      "execution_count": 0,
      "outputs": []
    },
    {
      "cell_type": "code",
      "metadata": {
        "id": "sbwWRVpNx5z0",
        "colab_type": "code",
        "colab": {
          "base_uri": "https://localhost:8080/",
          "height": 1000
        },
        "outputId": "fc62a313-9552-41a8-c184-b260152adad9"
      },
      "source": [
        "history=NN_model.fit(data_x, data_y, epochs=100, batch_size=32, validation_split = 0.2, callbacks=callbacks_list)"
      ],
      "execution_count": 293,
      "outputs": [
        {
          "output_type": "stream",
          "text": [
            "Train on 8 samples, validate on 2 samples\n",
            "Epoch 1/100\n",
            "8/8 [==============================] - 1s 116ms/step - loss: 5.9155 - mean_absolute_error: 57.0738 - mean_squared_error: 5659.7744 - rmse: 57.0738 - val_loss: 0.8505 - val_mean_absolute_error: 45.4767 - val_mean_squared_error: 2074.3784 - val_rmse: 45.4767\n",
            "\n",
            "Epoch 00001: val_loss improved from inf to 0.85046, saving model to Weights-001--0.85046.hdf5\n",
            "Epoch 2/100\n",
            "8/8 [==============================] - 0s 682us/step - loss: 1.1778 - mean_absolute_error: 43.9955 - mean_squared_error: 3393.6440 - rmse: 43.9955 - val_loss: 0.2211 - val_mean_absolute_error: 28.2948 - val_mean_squared_error: 806.8401 - val_rmse: 28.2948\n",
            "\n",
            "Epoch 00002: val_loss improved from 0.85046 to 0.22113, saving model to Weights-002--0.22113.hdf5\n",
            "Epoch 3/100\n",
            "8/8 [==============================] - 0s 761us/step - loss: 1.1287 - mean_absolute_error: 39.6995 - mean_squared_error: 2606.7957 - rmse: 39.6995 - val_loss: 0.0597 - val_mean_absolute_error: 16.2646 - val_mean_squared_error: 270.7773 - val_rmse: 16.2646\n",
            "\n",
            "Epoch 00003: val_loss improved from 0.22113 to 0.05969, saving model to Weights-003--0.05969.hdf5\n",
            "Epoch 4/100\n",
            "8/8 [==============================] - 0s 675us/step - loss: 1.2583 - mean_absolute_error: 39.7999 - mean_squared_error: 2407.2568 - rmse: 39.7999 - val_loss: 0.0153 - val_mean_absolute_error: 8.5177 - val_mean_squared_error: 78.7904 - val_rmse: 8.5177\n",
            "\n",
            "Epoch 00004: val_loss improved from 0.05969 to 0.01529, saving model to Weights-004--0.01529.hdf5\n",
            "Epoch 5/100\n",
            "8/8 [==============================] - 0s 752us/step - loss: 1.3715 - mean_absolute_error: 41.7350 - mean_squared_error: 2431.8115 - rmse: 41.7350 - val_loss: 0.0046 - val_mean_absolute_error: 4.3936 - val_mean_squared_error: 25.5449 - val_rmse: 4.3936\n",
            "\n",
            "Epoch 00005: val_loss improved from 0.01529 to 0.00462, saving model to Weights-005--0.00462.hdf5\n",
            "Epoch 6/100\n",
            "8/8 [==============================] - 0s 764us/step - loss: 1.4375 - mean_absolute_error: 42.7665 - mean_squared_error: 2493.9985 - rmse: 42.7665 - val_loss: 0.0022 - val_mean_absolute_error: 2.5510 - val_mean_squared_error: 12.7492 - val_rmse: 2.5510\n",
            "\n",
            "Epoch 00006: val_loss improved from 0.00462 to 0.00224, saving model to Weights-006--0.00224.hdf5\n",
            "Epoch 7/100\n",
            "8/8 [==============================] - 0s 725us/step - loss: 1.4680 - mean_absolute_error: 43.2266 - mean_squared_error: 2532.7153 - rmse: 43.2266 - val_loss: 0.0026 - val_mean_absolute_error: 2.8923 - val_mean_squared_error: 14.6067 - val_rmse: 2.8923\n",
            "\n",
            "Epoch 00007: val_loss did not improve from 0.00224\n",
            "Epoch 8/100\n",
            "8/8 [==============================] - 0s 962us/step - loss: 1.4623 - mean_absolute_error: 43.1410 - mean_squared_error: 2524.9700 - rmse: 43.1410 - val_loss: 0.0051 - val_mean_absolute_error: 4.6628 - val_mean_squared_error: 27.9842 - val_rmse: 4.6628\n",
            "\n",
            "Epoch 00008: val_loss did not improve from 0.00224\n",
            "Epoch 9/100\n",
            "8/8 [==============================] - 0s 808us/step - loss: 1.4331 - mean_absolute_error: 42.6973 - mean_squared_error: 2488.6914 - rmse: 42.6973 - val_loss: 0.0125 - val_mean_absolute_error: 7.6777 - val_mean_squared_error: 65.1907 - val_rmse: 7.6777\n",
            "\n",
            "Epoch 00009: val_loss did not improve from 0.00224\n",
            "Epoch 10/100\n",
            "8/8 [==============================] - 0s 969us/step - loss: 1.3847 - mean_absolute_error: 41.9441 - mean_squared_error: 2441.6006 - rmse: 41.9441 - val_loss: 0.0288 - val_mean_absolute_error: 11.6059 - val_mean_squared_error: 140.9369 - val_rmse: 11.6059\n",
            "\n",
            "Epoch 00010: val_loss did not improve from 0.00224\n",
            "Epoch 11/100\n",
            "8/8 [==============================] - 0s 738us/step - loss: 1.3244 - mean_absolute_error: 40.9629 - mean_squared_error: 2407.4810 - rmse: 40.9629 - val_loss: 0.0633 - val_mean_absolute_error: 16.6998 - val_mean_squared_error: 285.1262 - val_rmse: 16.6998\n",
            "\n",
            "Epoch 00011: val_loss did not improve from 0.00224\n",
            "Epoch 12/100\n",
            "8/8 [==============================] - 0s 716us/step - loss: 1.2525 - mean_absolute_error: 39.6907 - mean_squared_error: 2409.2031 - rmse: 39.6907 - val_loss: 0.1276 - val_mean_absolute_error: 22.6267 - val_mean_squared_error: 518.2089 - val_rmse: 22.6267\n",
            "\n",
            "Epoch 00012: val_loss did not improve from 0.00224\n",
            "Epoch 13/100\n",
            "8/8 [==============================] - 0s 807us/step - loss: 1.1804 - mean_absolute_error: 38.2791 - mean_squared_error: 2476.4844 - rmse: 38.2791 - val_loss: 0.2414 - val_mean_absolute_error: 29.2801 - val_mean_squared_error: 863.5703 - val_rmse: 29.2801\n",
            "\n",
            "Epoch 00013: val_loss did not improve from 0.00224\n",
            "Epoch 14/100\n",
            "8/8 [==============================] - 0s 798us/step - loss: 1.1217 - mean_absolute_error: 39.9424 - mean_squared_error: 2635.7104 - rmse: 39.9424 - val_loss: 0.4340 - val_mean_absolute_error: 36.4187 - val_mean_squared_error: 1332.5698 - val_rmse: 36.4187\n",
            "\n",
            "Epoch 00014: val_loss did not improve from 0.00224\n",
            "Epoch 15/100\n",
            "8/8 [==============================] - 0s 837us/step - loss: 1.0992 - mean_absolute_error: 41.7274 - mean_squared_error: 2905.0122 - rmse: 41.7275 - val_loss: 0.7019 - val_mean_absolute_error: 42.8295 - val_mean_squared_error: 1840.6200 - val_rmse: 42.8295\n",
            "\n",
            "Epoch 00015: val_loss did not improve from 0.00224\n",
            "Epoch 16/100\n",
            "8/8 [==============================] - 0s 868us/step - loss: 1.1374 - mean_absolute_error: 43.3311 - mean_squared_error: 3233.7866 - rmse: 43.3311 - val_loss: 0.9003 - val_mean_absolute_error: 46.2668 - val_mean_squared_error: 2146.8647 - val_rmse: 46.2668\n",
            "\n",
            "Epoch 00016: val_loss did not improve from 0.00224\n"
          ],
          "name": "stdout"
        }
      ]
    },
    {
      "cell_type": "code",
      "metadata": {
        "id": "wRf7ZzOOzMuO",
        "colab_type": "code",
        "colab": {}
      },
      "source": [
        "test1_x, test1_y = split_data(test1)"
      ],
      "execution_count": 0,
      "outputs": []
    },
    {
      "cell_type": "code",
      "metadata": {
        "id": "KqWqcaO9zPUg",
        "colab_type": "code",
        "colab": {
          "base_uri": "https://localhost:8080/",
          "height": 34
        },
        "outputId": "6a8a7cd8-f9ba-4e63-ff35-1c1550465920"
      },
      "source": [
        "scores=NN_model.evaluate(data_x,data_y)"
      ],
      "execution_count": 294,
      "outputs": [
        {
          "output_type": "stream",
          "text": [
            "\r10/10 [==============================] - 0s 288us/step\n"
          ],
          "name": "stdout"
        }
      ]
    },
    {
      "cell_type": "code",
      "metadata": {
        "id": "PXJ18a5jzWI2",
        "colab_type": "code",
        "colab": {
          "base_uri": "https://localhost:8080/",
          "height": 34
        },
        "outputId": "0e802e35-9f2d-4b02-f90c-a23b91c71c00"
      },
      "source": [
        "print(NN_model.metrics_names)"
      ],
      "execution_count": 295,
      "outputs": [
        {
          "output_type": "stream",
          "text": [
            "['loss', 'mean_absolute_error', 'mean_squared_error', 'rmse']\n"
          ],
          "name": "stdout"
        }
      ]
    },
    {
      "cell_type": "code",
      "metadata": {
        "id": "CtZ41RnUzXYN",
        "colab_type": "code",
        "colab": {}
      },
      "source": [
        "test1_loss=scores[0]\n",
        "test1_mae=scores[1]\n",
        "test1_mse=scores[2]\n",
        "test1_rmse=scores[3]"
      ],
      "execution_count": 0,
      "outputs": []
    },
    {
      "cell_type": "code",
      "metadata": {
        "id": "ORg_lnhszbBH",
        "colab_type": "code",
        "colab": {
          "base_uri": "https://localhost:8080/",
          "height": 34
        },
        "outputId": "3773e35b-942b-431f-9e17-fe1d6885cfb4"
      },
      "source": [
        "test1_mae"
      ],
      "execution_count": 297,
      "outputs": [
        {
          "output_type": "execute_result",
          "data": {
            "text/plain": [
              "44.6051025390625"
            ]
          },
          "metadata": {
            "tags": []
          },
          "execution_count": 297
        }
      ]
    }
  ]
}
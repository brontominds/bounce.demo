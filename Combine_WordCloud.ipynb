{
 "cells": [
  {
   "cell_type": "markdown",
   "metadata": {
    "colab_type": "text",
    "id": "view-in-github"
   },
   "source": [
    "<a href=\"https://colab.research.google.com/github/brontominds/bounce.demo/blob/Ver0.01a/Combine_WordCloud.ipynb\" target=\"_parent\"><img src=\"https://colab.research.google.com/assets/colab-badge.svg\" alt=\"Open In Colab\"/></a>"
   ]
  },
  {
   "cell_type": "code",
   "execution_count": null,
   "metadata": {
    "colab": {
     "base_uri": "https://localhost:8080/",
     "height": 181
    },
    "colab_type": "code",
    "id": "pWvCdLZFr3OV",
    "outputId": "cbf928b5-0bfa-4192-80bd-27e75f05863a"
   },
   "outputs": [],
   "source": [
    "from wordcloud import WordCloud,STOPWORDS\n",
    "import matplotlib.pyplot as plt\n",
    "import pandas as pd\n",
    "import string\n",
    "from matplotlib import rcParams\n",
    "\n",
    "import nltk\n",
    "nltk.download('punkt')\n",
    "nltk.download('averaged_perceptron_tagger')\n",
    "nltk.download('wordnet')"
   ]
  },
  {
   "cell_type": "code",
   "execution_count": null,
   "metadata": {
    "colab": {},
    "colab_type": "code",
    "id": "SKn1VDdesNWk"
   },
   "outputs": [],
   "source": [
    "df = pd.read_csv(r\"reviews.csv\", encoding =\"latin-1\") "
   ]
  },
  {
   "cell_type": "code",
   "execution_count": null,
   "metadata": {
    "colab": {
     "base_uri": "https://localhost:8080/",
     "height": 288
    },
    "colab_type": "code",
    "id": "inRJGRQrskfG",
    "outputId": "5e35442b-3d8e-4c1f-99fc-642988d23426"
   },
   "outputs": [],
   "source": [
    "df.describe()\n",
    "neg.describe()"
   ]
  },
  {
   "cell_type": "code",
   "execution_count": null,
   "metadata": {
    "colab": {},
    "colab_type": "code",
    "id": "rC0T9dYuslVn"
   },
   "outputs": [],
   "source": [
    "neg=df[(df['Rating'] == 'Rated 1 stars out of five stars') | (df['Rating'] == 'Rated 2 stars out of five stars')|(df['Rating']=='Rated 3 stars out of five stars')]"
   ]
  },
  {
   "cell_type": "code",
   "execution_count": null,
   "metadata": {
    "colab": {},
    "colab_type": "code",
    "id": "ZA5c8-ZEssuh"
   },
   "outputs": [],
   "source": [
    "from nltk import WordNetLemmatizer\n",
    "from nltk.corpus import stopwords\n",
    "from nltk import pos_tag, sent_tokenize, word_tokenize, BigramAssocMeasures,\\\n",
    "    BigramCollocationFinder, TrigramAssocMeasures, TrigramCollocationFinder\n",
    "from subprocess import check_output"
   ]
  },
  {
   "cell_type": "code",
   "execution_count": null,
   "metadata": {
    "colab": {
     "base_uri": "https://localhost:8080/",
     "height": 72
    },
    "colab_type": "code",
    "id": "1cfkGRNTsyJQ",
    "outputId": "38ce1a7a-a537-4ae6-c36a-8b0d65884ea4"
   },
   "outputs": [],
   "source": [
    "import nltk\n",
    "nltk.download('stopwords')"
   ]
  },
  {
   "cell_type": "code",
   "execution_count": null,
   "metadata": {
    "colab": {},
    "colab_type": "code",
    "id": "vabngu9lsy3v"
   },
   "outputs": [],
   "source": [
    "wordnet_lemmatizer = WordNetLemmatizer()\n",
    "stop = nltk.corpus.stopwords.words('english')\n",
    "newStopWords = ['bikes','bounce','bike','even','finally','day','booking','id','still','one','never','ride','good','today','able','time']\n",
    "stop.extend(newStopWords)\n",
    "translate_table = dict((ord(char), \" \") for char in string.punctuation)"
   ]
  },
  {
   "cell_type": "code",
   "execution_count": null,
   "metadata": {
    "colab": {},
    "colab_type": "code",
    "id": "-J17jPfjs_OI"
   },
   "outputs": [],
   "source": [
    "def get_bitrigrams(full_text, threshold=30):\n",
    "    if isinstance(full_text, str):\n",
    "        text = full_text\n",
    "    else:\n",
    "        text = \" \".join(full_text)\n",
    "    bigram_measures = BigramAssocMeasures()\n",
    "    trigram_measures = TrigramAssocMeasures()\n",
    "    finder = BigramCollocationFinder.from_words(text.split())\n",
    "    finder.apply_freq_filter(3)\n",
    "    bigrams = {\" \".join(words): \"_\".join(words)\n",
    "               for words in finder.above_score(bigram_measures.likelihood_ratio, threshold)}\n",
    "    finder = TrigramCollocationFinder.from_words(text.split())\n",
    "    finder.apply_freq_filter(3)\n",
    "    trigrams = {\" \".join(words): \"_\".join(words)\n",
    "                for words in finder.above_score(trigram_measures.likelihood_ratio, threshold)}\n",
    "    return bigrams, trigrams"
   ]
  },
  {
   "cell_type": "code",
   "execution_count": null,
   "metadata": {
    "colab": {},
    "colab_type": "code",
    "id": "aVLuyKzGYTP4"
   },
   "outputs": [],
   "source": [
    "def replace_bitrigrams(text, bigrams, trigrams):\n",
    "    if isinstance(text, str):\n",
    "        texts = [text]\n",
    "    else:\n",
    "        texts = text\n",
    "    new_texts = []\n",
    "    for t in texts:\n",
    "        t_new = t\n",
    "        for k, v in trigrams.items():\n",
    "            t_new = t_new.replace(k, v)\n",
    "        for k, v in bigrams.items():\n",
    "            t_new = t_new.replace(\" \" + k + \" \", \" \" + v + \" \")\n",
    "        new_texts.append(t_new)\n",
    "    if len(new_texts) == 1:\n",
    "        return new_texts[0]\n",
    "    else:\n",
    "        return new_texts"
   ]
  },
  {
   "cell_type": "code",
   "execution_count": null,
   "metadata": {
    "colab": {},
    "colab_type": "code",
    "id": "u5D4R_RgYWId"
   },
   "outputs": [],
   "source": [
    "def use_ngrams_bigrams_trigrams(texts, lemmatizer, translate_table, stopw):\n",
    "    processed_texts = []\n",
    "    for index, doc in enumerate(texts):\n",
    "        processed_texts.append(process_text(doc, wordnet_lemmatizer, translate_table, stopw))\n",
    "    bigrams, trigrams = get_bitrigrams(processed_texts)\n",
    "    indexed_texts = []\n",
    "    for doc in processed_texts:\n",
    "        current_doc = []\n",
    "        for k, v in trigrams.items():\n",
    "            c = doc.count(k)\n",
    "            if c > 0:\n",
    "                current_doc += [v] * c\n",
    "                doc = doc.replace(k, v)\n",
    "        for k, v in bigrams.items():\n",
    "            current_doc += [v] * doc.count(\" \" + k + \" \")\n",
    "        indexed_texts.append(\" \".join(current_doc))\n",
    "    return \" \".join(indexed_texts)"
   ]
  },
  {
   "cell_type": "code",
   "execution_count": null,
   "metadata": {
    "colab": {},
    "colab_type": "code",
    "id": "XSlmk7WUs_0E"
   },
   "outputs": [],
   "source": [
    "def process_text(text, lemmatizer, translate_table, stopwords):\n",
    "    processed_text = \"\"\n",
    "    for sentence in sent_tokenize(text):\n",
    "        tagged_sentence = pos_tag(word_tokenize(sentence.translate(translate_table)))\n",
    "        for word, tag in tagged_sentence:\n",
    "            word = word.lower()\n",
    "            if word not in stopwords:\n",
    "                if tag[0] != 'V':\n",
    "                    processed_text += lemmatizer.lemmatize(word) + \" \"\n",
    "    return processed_text"
   ]
  },
  {
   "cell_type": "code",
   "execution_count": null,
   "metadata": {
    "colab": {},
    "colab_type": "code",
    "id": "56a0gvi7tooe"
   },
   "outputs": [],
   "source": [
    "def get_all_processed_texts(texts, lemmatizer, translate_table, stopwords):\n",
    "    processed_texts = []\n",
    "    for index, doc in enumerate(texts):\n",
    "        processed_texts.append(process_text(doc, wordnet_lemmatizer, translate_table, stop))\n",
    "    bigrams, trigrams = get_bitrigrams(processed_texts)\n",
    "    #very_processed_texts = replace_bitrigrams(processed_texts, bigrams, trigrams)\n",
    "    return \" \".join(processed_texts)"
   ]
  },
  {
   "cell_type": "code",
   "execution_count": null,
   "metadata": {
    "colab": {
     "base_uri": "https://localhost:8080/",
     "height": 825
    },
    "colab_type": "code",
    "id": "4Tm0fPZBuIN9",
    "outputId": "b9977919-9470-4a99-9ad8-03345ae4262c"
   },
   "outputs": [],
   "source": [
    "wordcloud = WordCloud(background_color=\"white\", width=1920, height=1080).\\\n",
    "    generate(get_all_processed_texts(neg[\"ReviewTextFull\"], wordnet_lemmatizer, translate_table, stop))\n",
    "final=plt.figure(figsize=(24, 15))\n",
    "plt.axis(\"off\")\n",
    "plt.imshow(wordcloud)\n",
    "final.savefig('Cloud_Single.png')"
   ]
  },
  {
   "cell_type": "code",
   "execution_count": null,
   "metadata": {
    "colab": {
     "base_uri": "https://localhost:8080/",
     "height": 825
    },
    "colab_type": "code",
    "id": "heX3vieZYby4",
    "outputId": "a2735369-1088-4e34-ee92-4e66f696e772"
   },
   "outputs": [],
   "source": [
    "wordcloud = WordCloud(background_color=\"white\", width=1920, height=1080).\\\n",
    "    generate(use_ngrams_bigrams_trigrams(neg[\"ReviewTextFull\"], wordnet_lemmatizer, translate_table, stop))\n",
    "final=plt.figure(figsize=(24, 15))\n",
    "plt.axis(\"off\")\n",
    "plt.imshow(wordcloud)\n",
    "final.savefig('Cloud_Multiple.png')"
   ]
  }
 ],
 "metadata": {
  "colab": {
   "include_colab_link": true,
   "name": "Combine WordCloud",
   "provenance": [],
   "version": "0.3.2"
  },
  "kernelspec": {
   "display_name": "Python 3",
   "language": "python",
   "name": "python3"
  },
  "language_info": {
   "codemirror_mode": {
    "name": "ipython",
    "version": 3
   },
   "file_extension": ".py",
   "mimetype": "text/x-python",
   "name": "python",
   "nbconvert_exporter": "python",
   "pygments_lexer": "ipython3",
   "version": "3.7.3"
  }
 },
 "nbformat": 4,
 "nbformat_minor": 1
}
